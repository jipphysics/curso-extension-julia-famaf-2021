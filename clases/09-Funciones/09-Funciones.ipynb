{
 "cells": [
  {
   "cell_type": "markdown",
   "metadata": {},
   "source": [
    "# **Funciones**\n",
    "\n",
    "Este notebook está basado en el curso de [_Julia Academy_](https://github.com/JuliaAcademy/Introduction-to-Julia).\n",
    "\n",
    "Temas:\n",
    "1. Como declarar una función en Julia\n",
    "2. \"Duck-typing\" en Julia\n",
    "3. Funciones mutantes vs no mutantes en Julia\n",
    "4. Algunas funciones de mayor orden"
   ]
  },
  {
   "cell_type": "markdown",
   "metadata": {},
   "source": [
    "Una función es un bloque de código que podemos llamar para ser ejecutado en nuestro programa y ejecutar una tarea específica. Un ejemplo que hemos utilizado ya por ejemplo es la función `print`, que imprime en pantalla los argumentos que le demos. Aprenderemos ahora a escribir nuestras propias funciones y algunas características útiles que tienen en `Julia`."
   ]
  },
  {
   "cell_type": "markdown",
   "metadata": {},
   "source": [
    "## **Como declarar una función en Julia**\n",
    "Julia tiene varias formas de declarar funciones. La primera es utilizando las palabras clave `function` y `end`."
   ]
  },
  {
   "cell_type": "code",
   "execution_count": null,
   "metadata": {},
   "outputs": [],
   "source": [
    "function saludo(nombre)\n",
    "    println(\"Hola $nombre, ¡qué bueno verte!\")\n",
    "end"
   ]
  },
  {
   "cell_type": "markdown",
   "metadata": {},
   "source": [
    "`saludo` toma un argumento `nombre`, y llama a la función `print` para escribir un saludo."
   ]
  },
  {
   "cell_type": "code",
   "execution_count": null,
   "metadata": {},
   "outputs": [],
   "source": [
    "function f(x)\n",
    "    x^2\n",
    "end\n",
    "#Nota: podríamos haber escrito return x^2, y también habría funcionado\n",
    "#Las funciones de Julia retornan el resultado de la última operación que\n",
    "#hicieron."
   ]
  },
  {
   "cell_type": "markdown",
   "metadata": {},
   "source": [
    "`f` toma un argumento `x`, y devuelve el resultado de la operación `x^2`."
   ]
  },
  {
   "cell_type": "markdown",
   "metadata": {},
   "source": [
    "Podemos llamar a estas funciones de la siguiente manera:"
   ]
  },
  {
   "cell_type": "code",
   "execution_count": null,
   "metadata": {},
   "outputs": [],
   "source": [
    "saludo(\"Mario\")"
   ]
  },
  {
   "cell_type": "code",
   "execution_count": null,
   "metadata": {},
   "outputs": [],
   "source": [
    "f(49)"
   ]
  },
  {
   "cell_type": "markdown",
   "metadata": {},
   "source": [
    "También podemos definir funciones en una sola línea si es que son suficientemente cortas."
   ]
  },
  {
   "cell_type": "code",
   "execution_count": null,
   "metadata": {},
   "outputs": [],
   "source": [
    "salu2(nombre) = println(\"Hola $nombre, ¡qué bueno verte!\")"
   ]
  },
  {
   "cell_type": "code",
   "execution_count": null,
   "metadata": {},
   "outputs": [],
   "source": [
    "f2(x) = x^2"
   ]
  },
  {
   "cell_type": "markdown",
   "metadata": {},
   "source": [
    "Tanto `salu2` como `f2` son idénticas a `saludo` y `f`. Sólo las hemos definido de una forma más compacta."
   ]
  },
  {
   "cell_type": "code",
   "execution_count": null,
   "metadata": {},
   "outputs": [],
   "source": [
    "salu2(\"María\")"
   ]
  },
  {
   "cell_type": "code",
   "execution_count": null,
   "metadata": {},
   "outputs": [],
   "source": [
    "f2(42)"
   ]
  },
  {
   "cell_type": "markdown",
   "metadata": {},
   "source": [
    "Finalmente, podríamos haberlas declarado como funciones \"anónimas\""
   ]
  },
  {
   "cell_type": "code",
   "execution_count": null,
   "metadata": {},
   "outputs": [],
   "source": [
    "saludo3 = nombre -> println(\"Hola $nombre, ¡qué bueno verte!\")"
   ]
  },
  {
   "cell_type": "code",
   "execution_count": null,
   "metadata": {},
   "outputs": [],
   "source": [
    "f3 = x -> x^2"
   ]
  },
  {
   "cell_type": "code",
   "execution_count": null,
   "metadata": {},
   "outputs": [],
   "source": [
    "saludo3(\"René\")"
   ]
  },
  {
   "cell_type": "code",
   "execution_count": null,
   "metadata": {},
   "outputs": [],
   "source": [
    "f3(42)"
   ]
  },
  {
   "cell_type": "markdown",
   "metadata": {},
   "source": [
    "El uso principal de las funciones anónimas es para dárselas a otras funciones que tomen funciones como argumento, y veremos ejemplos más adelante. Por el momento no se preocupe mucho por ellas."
   ]
  },
  {
   "cell_type": "markdown",
   "metadata": {},
   "source": [
    "Para definir funciones que acepten más argumentos, simplemente debemos escribir los argumentos en el orden que serán aceptados."
   ]
  },
  {
   "cell_type": "code",
   "execution_count": null,
   "metadata": {},
   "outputs": [],
   "source": [
    "function maximo(x,y)\n",
    "    return x > y ? x : y\n",
    "    #===============================================================================\n",
    "    Nota: aquí hemos utilizado un operador ternario. Esto es equivalente a haber\n",
    "    escrito\n",
    "    \n",
    "    if x > y\n",
    "        return x\n",
    "    else\n",
    "        return y\n",
    "    end\n",
    "    ================================================================================#\n",
    "    \n",
    "end\n",
    "println(maximo(\"abc\",\"ajk\"))\n",
    "println(maximo(2, 8))"
   ]
  },
  {
   "cell_type": "markdown",
   "metadata": {},
   "source": [
    "## **Duck-typing in Julia**\n",
    "*\"Si hace cuak como un pato, es un pato.\"* <br><br>\n",
    "Las funciones de Julia van a funcionar siempre que las operaciones estén bien definidas para sus argumentos. <br><br>\n",
    "Por ejemplo, la función `saludo` que definimos anteriormente funciona si el argumento es un número"
   ]
  },
  {
   "cell_type": "code",
   "execution_count": null,
   "metadata": {},
   "outputs": [],
   "source": [
    "saludo(3.14)"
   ]
  },
  {
   "cell_type": "markdown",
   "metadata": {},
   "source": [
    "Y `f` funcionará en una matriz. "
   ]
  },
  {
   "cell_type": "code",
   "execution_count": null,
   "metadata": {},
   "outputs": [],
   "source": [
    "A = rand(3, 3) #Esta línea crea una matriz de 3x3 con elementos aleatorios entre 0 y 1\n",
    "A"
   ]
  },
  {
   "cell_type": "code",
   "execution_count": null,
   "metadata": {},
   "outputs": [],
   "source": [
    "f(A)  #f(A) = A^2 = A*A. Notar que la operación que realizó Julia fue la multiplicación\n",
    "      #de matrices, no la multiplicación elemento por elemento."
   ]
  },
  {
   "cell_type": "markdown",
   "metadata": {},
   "source": [
    "`f` también va a funcionar con un `string`, ya que `^` es el operador utilizado para repetir strings."
   ]
  },
  {
   "cell_type": "code",
   "execution_count": null,
   "metadata": {},
   "outputs": [],
   "source": [
    "f(\"hola\")  #\"hola\"^2 = \"hola\"*\"hola\" = \"holahola\""
   ]
  },
  {
   "cell_type": "markdown",
   "metadata": {},
   "source": [
    "Sin embargo, `f` no va a funcionar en un vector. Esto es porque no podemos multiplicar vectores columna por vectores columna."
   ]
  },
  {
   "cell_type": "code",
   "execution_count": null,
   "metadata": {},
   "outputs": [],
   "source": [
    "v = rand(3)"
   ]
  },
  {
   "cell_type": "code",
   "execution_count": null,
   "metadata": {},
   "outputs": [],
   "source": [
    "# Esta línea dará error, ya que v es un vector columna, y v*v no está bien definido.\n",
    "f(v)"
   ]
  },
  {
   "cell_type": "markdown",
   "metadata": {},
   "source": [
    "## **Funciones mutantes vs. no-mutantes**\n",
    "\n",
    "A esta altura puede que haya notado que algunas funciones en los tutoriales anteriores tienen un signo `!`. Por convención, las funciones que terminan en un signo `!` pueden alterar el contenido de sus argumentos, y las que no lo tienen no.\n",
    "\n",
    "Por ejemplo, miremos la diferencia entre las funciones de ordenamiento `sort` y `sort!`"
   ]
  },
  {
   "cell_type": "code",
   "execution_count": null,
   "metadata": {},
   "outputs": [],
   "source": [
    "v = [3, 5, 2] #Creamos un vector v"
   ]
  },
  {
   "cell_type": "code",
   "execution_count": null,
   "metadata": {},
   "outputs": [],
   "source": [
    "sort(v)      #Vemos qué retorna la función sort(v)"
   ]
  },
  {
   "cell_type": "code",
   "execution_count": null,
   "metadata": {},
   "outputs": [],
   "source": [
    "v            #Comprobamos que v no fue modificado"
   ]
  },
  {
   "cell_type": "markdown",
   "metadata": {},
   "source": [
    "`sort(v)` retorna un arreglo ordenado de los elementos de `v`, pero `v` no cambia. <br><br>\n",
    "\n",
    "Por otro lado, si usamos `sort!(v)`, los contenidos de `v` son ordenados dentro del mismo arreglo."
   ]
  },
  {
   "cell_type": "code",
   "execution_count": null,
   "metadata": {},
   "outputs": [],
   "source": [
    "sort!(v)    #Vemos qué retorna la función sort!(v)"
   ]
  },
  {
   "cell_type": "code",
   "execution_count": null,
   "metadata": {},
   "outputs": [],
   "source": [
    "v"
   ]
  },
  {
   "cell_type": "markdown",
   "metadata": {},
   "source": [
    "**Importante**\n",
    "Es una buena práctica usar esta convención al definir funciones, de manera de saber rápido si la función que está utilizando corre el riesgo de modificar vectores que ha definido. "
   ]
  },
  {
   "cell_type": "markdown",
   "metadata": {},
   "source": [
    "## **Comportamiento de las funciones ante arreglos y diccionarios** ###\n",
    "\n",
    "Veamos qué sucede si intentamos modificar una variable dentro de una función:"
   ]
  },
  {
   "cell_type": "code",
   "execution_count": null,
   "metadata": {},
   "outputs": [],
   "source": [
    "function duplicar(x)\n",
    "    x = 2*x\n",
    "end\n",
    "a = 2\n",
    "b = duplicar(a)\n",
    "println(\"a = $a, b = $b\")"
   ]
  },
  {
   "cell_type": "markdown",
   "metadata": {},
   "source": [
    "Notamos que `a` no fue modificada por la función `duplicar`, pese a que internamente realizamos la operación `x = 2*x`. Esto es porque `duplicar` utilizó internamente una copia de `a`, y por lo tanto no modificó la variable original."
   ]
  },
  {
   "cell_type": "markdown",
   "metadata": {},
   "source": [
    "Por el contrario, cuando una función recibe como argumento una estructura de datos mutable, puede modificarla. Por ejemplo, la siguiente función duplica los elementos de un arreglo:"
   ]
  },
  {
   "cell_type": "code",
   "execution_count": null,
   "metadata": {},
   "outputs": [],
   "source": [
    "function duplicar!(arreglo)\n",
    "    for i in 1:size(arreglo,1) #El \"1\" indica que nos interesa el tamaño en la primer dimensión del arreglo\n",
    "        arreglo[i] *= 2\n",
    "        #=======================================================================\n",
    "        arreglo[i] *= 2 es una forma compacta de escribir\n",
    "        arreglo[i] = arreglo[i]*2\n",
    "        Esta notación también funciona para otras operaciones como +, - y /\n",
    "        =======================================================================#\n",
    "    end\n",
    "    return arreglo #Esta línea no es necesaria, solo la agregamos para que\n",
    "                   #la función retorne algo\n",
    "end"
   ]
  },
  {
   "cell_type": "code",
   "execution_count": null,
   "metadata": {},
   "outputs": [],
   "source": []
  },
  {
   "cell_type": "code",
   "execution_count": null,
   "metadata": {},
   "outputs": [],
   "source": [
    "duplicar!([1,2,3])"
   ]
  },
  {
   "cell_type": "code",
   "execution_count": null,
   "metadata": {},
   "outputs": [],
   "source": [
    "v = [1,2,3]\n",
    "duplicar!(v)\n",
    "print(v)"
   ]
  },
  {
   "cell_type": "markdown",
   "metadata": {},
   "source": [
    "Como somos buenas personas y no queremos confundir a nadie, agregamos un signo `!`, avisando que nuestra función modificará el argumento de entrada que le demos.\n",
    "Si no tiene nada mejor que hacer en este momento, pruebe crear una función `duplicar` que retorne el un arreglo multiplicado por 2 sin modificarlo."
   ]
  },
  {
   "cell_type": "markdown",
   "metadata": {},
   "source": [
    "También podemos modificar elementos de un diccionario. Por ejemplo, la siguiente función agrega una entrada a un diccionario:"
   ]
  },
  {
   "cell_type": "code",
   "execution_count": null,
   "metadata": {},
   "outputs": [],
   "source": [
    "function agregar_numero!(diccionario, contacto, numero)\n",
    "    diccionario[contacto] = numero #agregamos un contacto a un diccionario\n",
    "end\n",
    "agenda = Dict(\"Juan\" => 5551234, \"Martina\" => 5558954)\n",
    "agregar_numero!(agenda, \"Sofía\", 5559812)\n",
    "agenda"
   ]
  },
  {
   "cell_type": "markdown",
   "metadata": {},
   "source": [
    "Esto es muy útil, ya que Julia no necesita crear copias de los arreglos para trabajar dentro de las funciones, pero es también importante tenerlo en cuenta para no cometer errores y modificar un arreglo cuando no queremos hacerlo."
   ]
  },
  {
   "cell_type": "markdown",
   "metadata": {},
   "source": [
    "## **Algunas funciones de mayor orden**\n",
    "\n",
    "### `map`\n",
    "\n",
    "`map` es una función de \"mayor orden\" de Julia que *toma una función* como uno de sus argumentos. `map` luego aplica esa función a todos los elementos de una estructura de datos que le pasemos.\n",
    "Por ejemplo, ejecutar\n",
    "\n",
    "```julia\n",
    "map(f, [1, 2, 3])\n",
    "```\n",
    "retornará un arreglo donde `f` fue aplicada a todos los elementos de `[1, 2, 3]`\n",
    "```julia\n",
    "[f(1), f(2), f(3)]\n",
    "```"
   ]
  },
  {
   "cell_type": "code",
   "execution_count": null,
   "metadata": {},
   "outputs": [],
   "source": [
    "map(f, [1, 2, 3])   #Recordemos que más arriba definimos f(x) = x^2"
   ]
  },
  {
   "cell_type": "markdown",
   "metadata": {},
   "source": [
    "Es decir, elevamos al cuadrado cada elemento de `[1, 2, 3]`.\n",
    "\n",
    "También podríamos haberle dado a `map` una función anónima,"
   ]
  },
  {
   "cell_type": "code",
   "execution_count": null,
   "metadata": {},
   "outputs": [],
   "source": [
    "map(x -> x^3, [1, 2, 3]) #x -> x^3 es una función anónima, es decir, no tiene nombre.\n",
    "                         #La definimos únicamente para pasarla como argumento a la\n",
    "                         #función map"
   ]
  },
  {
   "cell_type": "markdown",
   "metadata": {},
   "source": [
    "y ahora hemos elevado al cubo los elementos de `[1, 2, 3]`"
   ]
  },
  {
   "cell_type": "markdown",
   "metadata": {},
   "source": [
    "### `broadcast`\n",
    "\n",
    "`broadcast` es otra función de mayor orden como `map`. `broadcast` es una generaliación de `map`, por lo que puede hacer lo mismo que `map` y mucho más. La sintaxis básica de `broadcast` es la misma que para `map`"
   ]
  },
  {
   "cell_type": "code",
   "execution_count": null,
   "metadata": {},
   "outputs": [],
   "source": [
    "broadcast(f, [1, 2, 3])"
   ]
  },
  {
   "cell_type": "markdown",
   "metadata": {},
   "source": [
    "Y nuevamente aplicamos `f` a todos los elementos de `[1, 2, 3]`"
   ]
  },
  {
   "cell_type": "markdown",
   "metadata": {},
   "source": [
    "`broadcast` se diferencia de `map` en cómo se comporta ante multiples argumentos de distintas dimensiones. `broadcast` intentará encontrar una dimensión en común y `map` no. Por ejemplo, notar la diferencia entre estas dos líneas:"
   ]
  },
  {
   "cell_type": "code",
   "execution_count": null,
   "metadata": {},
   "outputs": [],
   "source": [
    "map(+, 1, [1,2,3]) #Nota: Los operadores de Julia son funciones. \n",
    "                   #      Escribir +(a,b) es lo mismo que escribir a+b."
   ]
  },
  {
   "cell_type": "code",
   "execution_count": null,
   "metadata": {},
   "outputs": [],
   "source": [
    "broadcast(+,1,[1,2,3])"
   ]
  },
  {
   "cell_type": "markdown",
   "metadata": {},
   "source": [
    "Una abreviatura muy útil de `broadcast` es colocar `.` entre una función a la que quiera hacer `broadcast` y sus argumentos. Por ejemplo,\n",
    "\n",
    "```julia\n",
    "broadcast(f, [1, 2, 3])\n",
    "```\n",
    "es equivalente a\n",
    "```julia\n",
    "f.([1, 2, 3])\n",
    "```"
   ]
  },
  {
   "cell_type": "code",
   "execution_count": null,
   "metadata": {},
   "outputs": [],
   "source": [
    "f.([1, 2, 3])"
   ]
  },
  {
   "cell_type": "markdown",
   "metadata": {},
   "source": [
    "Note nuevamente como esto es distinto a llamar\n",
    "```julia\n",
    "f([1, 2, 3])\n",
    "```\n",
    "Podemos elevar al cuadrado cada elemento del vector, ¡pero esto no es lo mismo que elevar al cuadrado el vector, ya que esto no está definido!"
   ]
  },
  {
   "cell_type": "markdown",
   "metadata": {},
   "source": [
    "Para mostrar más claramente la diferencia, considere\n",
    "\n",
    "```julia\n",
    "f(A)\n",
    "```\n",
    "y\n",
    "```julia\n",
    "f.(A)\n",
    "```\n",
    "para una matriz `A`:"
   ]
  },
  {
   "cell_type": "code",
   "execution_count": null,
   "metadata": {},
   "outputs": [],
   "source": [
    "A = [i + 3*j for j in 0:2, i in 1:3]"
   ]
  },
  {
   "cell_type": "code",
   "execution_count": null,
   "metadata": {},
   "outputs": [],
   "source": [
    "f(A)"
   ]
  },
  {
   "cell_type": "markdown",
   "metadata": {},
   "source": [
    "En este caso estamos haciendo\n",
    "```\n",
    "f(A) = A^2 = A * A\n",
    "``` \n",
    "\n",
    "Por otro lado,"
   ]
  },
  {
   "cell_type": "code",
   "execution_count": null,
   "metadata": {},
   "outputs": [],
   "source": [
    "B = f.(A)"
   ]
  },
  {
   "cell_type": "markdown",
   "metadata": {},
   "source": [
    "contiene los cuadrados de cada una de las entradas individuales de `A`.\n",
    "\n",
    "Esta sintaxis nos permite escribir expresiones complejas de una forma mucho más natural"
   ]
  },
  {
   "cell_type": "code",
   "execution_count": null,
   "metadata": {},
   "outputs": [],
   "source": [
    "A .+ 2 .* f.(A) ./ A"
   ]
  },
  {
   "cell_type": "markdown",
   "metadata": {},
   "source": [
    "en lugar de"
   ]
  },
  {
   "cell_type": "code",
   "execution_count": null,
   "metadata": {},
   "outputs": [],
   "source": [
    "broadcast(x -> x + 2 * f(x) / x, A)"
   ]
  },
  {
   "cell_type": "markdown",
   "metadata": {},
   "source": [
    "y ambas expresiones van a tener la misma performance."
   ]
  },
  {
   "cell_type": "code",
   "execution_count": null,
   "metadata": {},
   "outputs": [],
   "source": [
    "@. A + 2 * f(A) / A"
   ]
  },
  {
   "cell_type": "markdown",
   "metadata": {},
   "source": [
    "## **Especificando tipos**\n",
    "\n",
    "Al definir una función, podemos especificar el `tipo` de argumentos que recibe. Incluso, como veremos más adelante en multiple dispatch, podemos hacer que una función se comporte distinto dependiendo del `tipo` de los argumentos que recibe. La sintaxis para especificar que una variable `a` tiene tipo `Type` es `a::Type`.\n",
    "En el siguiente ejemplo definimos una función que únicamente funciona si el argumento es un número entero"
   ]
  },
  {
   "cell_type": "code",
   "execution_count": null,
   "metadata": {},
   "outputs": [],
   "source": [
    "function factorial(n::Int)\n",
    "    if n < 1\n",
    "        println(\"Error, n < 1. Intente con un número positivo.\")\n",
    "        return -1\n",
    "    end\n",
    "    result = 1\n",
    "    for i in 2:n\n",
    "        result *= i\n",
    "    end\n",
    "    return result\n",
    "end"
   ]
  },
  {
   "cell_type": "code",
   "execution_count": null,
   "metadata": {},
   "outputs": [],
   "source": [
    "factorial(3)"
   ]
  },
  {
   "cell_type": "code",
   "execution_count": null,
   "metadata": {},
   "outputs": [],
   "source": [
    "soloenteros(3.0)"
   ]
  },
  {
   "cell_type": "markdown",
   "metadata": {},
   "source": [
    "## **Sobre los argumentos de las funciones**"
   ]
  },
  {
   "cell_type": "markdown",
   "metadata": {},
   "source": [
    "### **Cantidad arbitraria de variables de argumentos**\n",
    "\n",
    "La función `print` tiene un comportamiento interesante que quizás haya notado. Podemos darle una cantidad arbitraria de argumentos, y `print` imprime cada uno de ellos:"
   ]
  },
  {
   "cell_type": "code",
   "execution_count": null,
   "metadata": {},
   "outputs": [],
   "source": [
    "print(\"hola\", \" yo\", \" estoy\", \" dándole\", \" muchos\", \" argumentos\", \" a\", \" print\")"
   ]
  },
  {
   "cell_type": "markdown",
   "metadata": {},
   "source": [
    "Esto se logra utilizando el operador _splat_. Aprenderemos de el creando nuestra propia función con una cantidad _variable_ de argumentos. La función `suma_arbitraria` suma una cantidad arbitraria de argumentos:"
   ]
  },
  {
   "cell_type": "code",
   "execution_count": null,
   "metadata": {},
   "outputs": [],
   "source": [
    "function suma_arbitraria(x...)\n",
    "    println(\"Argumentos dados: $x\")\n",
    "    return sum(x)\n",
    "end"
   ]
  },
  {
   "cell_type": "code",
   "execution_count": null,
   "metadata": {},
   "outputs": [],
   "source": [
    "suma_arbitraria(1,2,3,4)"
   ]
  },
  {
   "cell_type": "markdown",
   "metadata": {},
   "source": [
    "Los elementos de \"x\" fueron leidos como una tupla. Podríamos tambien haber dado como argumento una tupla o un arreglo:"
   ]
  },
  {
   "cell_type": "code",
   "execution_count": null,
   "metadata": {},
   "outputs": [],
   "source": [
    "suma_arbitraria([i for i in 1:10]...)"
   ]
  },
  {
   "cell_type": "markdown",
   "metadata": {},
   "source": [
    "Note que si buscamos la documentación de `print`, el segundo argumento de la función es `xs...`."
   ]
  },
  {
   "cell_type": "code",
   "execution_count": null,
   "metadata": {},
   "outputs": [],
   "source": [
    "?print()"
   ]
  },
  {
   "cell_type": "markdown",
   "metadata": {},
   "source": [
    "### **Argumentos opcionales**\n",
    "Podemos dar valores por defecto a ciertas variables, lo cual puede ayudar a quien use la función a evitar dar argumentos innecesarios. La siguiente función retorna la fecha en el formato `(día, mes, año)`, y asume que es enero del año 2000 si no especificamos mes ni año: "
   ]
  },
  {
   "cell_type": "code",
   "execution_count": null,
   "metadata": {},
   "outputs": [],
   "source": [
    "function fecha(dd, mm = 1, aa = 2000)\n",
    "    return (dd, mm, aa)\n",
    "end"
   ]
  },
  {
   "cell_type": "code",
   "execution_count": null,
   "metadata": {},
   "outputs": [],
   "source": [
    "fecha()    #Esto no funcionará, porque debemos especificar el día"
   ]
  },
  {
   "cell_type": "code",
   "execution_count": null,
   "metadata": {},
   "outputs": [],
   "source": [
    "fecha(10) #Aquí, dd = 10, y mm = 1, aa = 2000 por defecto"
   ]
  },
  {
   "cell_type": "code",
   "execution_count": null,
   "metadata": {},
   "outputs": [],
   "source": [
    "fecha(10,3) #Aquí hemos especificado el mes, pero no el año"
   ]
  },
  {
   "cell_type": "code",
   "execution_count": null,
   "metadata": {},
   "outputs": [],
   "source": [
    "fecha(10,3,2022) #Finalmente, aquí especificamos tanto el día como el mes y el año"
   ]
  },
  {
   "cell_type": "code",
   "execution_count": null,
   "metadata": {},
   "outputs": [],
   "source": [
    "fecha((10,3)...)  #Como dato extra, también podemos usar el operador ... para ingresar\n",
    "                  #una tupla como argumentos separados en cualquier función"
   ]
  },
  {
   "cell_type": "markdown",
   "metadata": {},
   "source": [
    "### **Argumentos Keyword** (Palabras clave) "
   ]
  },
  {
   "cell_type": "markdown",
   "metadata": {},
   "source": [
    "Un problema con la función que definimos anteriormente, es que debemos escribir los argumentos en el orden específico que los espera la función. No solo eso, sino que podemos ahorrarnos escribir el mes y no escribir el año, pero no podemos escribir el año e ignorar el mes. Para solucionar este problema, podemos usar `keyword arguments` tras un signo `;`."
   ]
  },
  {
   "cell_type": "code",
   "execution_count": null,
   "metadata": {},
   "outputs": [],
   "source": [
    "function fecha_v2(dd; mm = 1, aa = 2000, format = :dma)\n",
    "    if format == :dma\n",
    "        return (dd, mm, aa)\n",
    "    elseif format == :mda\n",
    "        return (mm, dd, aa)\n",
    "    elseif format == :amd\n",
    "        return (aa, mm, dd)\n",
    "    else\n",
    "        println(\"Formato de fecha no reconocido. Solo acepto dma, mda y amd\")\n",
    "    end\n",
    "end"
   ]
  },
  {
   "cell_type": "code",
   "execution_count": null,
   "metadata": {},
   "outputs": [],
   "source": [
    "fecha_v2(1,format = :mda, mm = 3) #El ; solo lo usamos para definir la función, no para llamarla"
   ]
  },
  {
   "cell_type": "markdown",
   "metadata": {},
   "source": [
    "Ahora podemos escribir solo los argumentos que nos interesen y en el orden que querramos, aunque debemos especificar el nombre del argumento."
   ]
  },
  {
   "cell_type": "markdown",
   "metadata": {},
   "source": [
    "### **Último truco: cantidad arbitraria de keywords**\n",
    "\n",
    "También podemos agregar una cantidad arbitraria de variables keywords utilizando splat. En este caso, la función guardará las variables en un diccionario. Veamos un ejemplo:"
   ]
  },
  {
   "cell_type": "code",
   "execution_count": null,
   "metadata": {},
   "outputs": [],
   "source": [
    "function funcion_kwargs(argumento_1;x...)\n",
    "    println(\"el primer argumento vale = $argumento_1\")\n",
    "    println(\"Usted ingresó los siguientes argumentos keyword\")\n",
    "    for (key, val) in x\n",
    "        println(\"$key = $val\")\n",
    "    end\n",
    "end\n",
    "\n",
    "perro = 3\n",
    "\n",
    "funcion_kwargs(1; a = 3, b = \"manzana\", perro)\n",
    "\n",
    "#Note que cualquier cosa luego de un ; será considerado parte de los kwargs!\n",
    "#La línea anterior sin ; no funciona"
   ]
  },
  {
   "cell_type": "markdown",
   "metadata": {},
   "source": [
    "## **Cómo agregar documentación**\n",
    "Para documentar una función, simplemente debemos agregar un string antes de la declaración de la función."
   ]
  },
  {
   "cell_type": "code",
   "execution_count": null,
   "metadata": {},
   "outputs": [],
   "source": [
    "\"\"\"\n",
    "    funciondocumentada(x...)\n",
    "\n",
    "# Ejemplo de documentación\n",
    "\n",
    "Esta función existe únicamente para explicar cómo agregar documentación.\n",
    "Escribir documentación funciona como escribir en modo **markdown**.\n",
    "\n",
    "Note que para separar líneas debe poner una línea vacía entre medio.\n",
    "\n",
    "Puede llamarla utilizando `funciondocumentada(argumentos)`.\\n\n",
    "\n",
    "Acepta una cantidad arbitraria de argumentos.\n",
    "\"\"\"\n",
    "function funciondocumentada(x...)\n",
    "    pass\n",
    "end"
   ]
  },
  {
   "cell_type": "code",
   "execution_count": null,
   "metadata": {},
   "outputs": [],
   "source": [
    "@doc funciondocumentada"
   ]
  },
  {
   "cell_type": "code",
   "execution_count": null,
   "metadata": {},
   "outputs": [],
   "source": [
    "using JLD2"
   ]
  },
  {
   "cell_type": "code",
   "execution_count": null,
   "metadata": {},
   "outputs": [],
   "source": [
    "@doc jldsave"
   ]
  },
  {
   "cell_type": "markdown",
   "metadata": {},
   "source": [
    "## **Ejercicios opcionales**\n",
    "***1)*** Escriba una función `suma_uno` que sume 1 a su argumento"
   ]
  },
  {
   "cell_type": "code",
   "execution_count": null,
   "metadata": {},
   "outputs": [],
   "source": []
  },
  {
   "cell_type": "code",
   "execution_count": null,
   "metadata": {},
   "outputs": [],
   "source": [
    "@assert suma_uno(1) == 2"
   ]
  },
  {
   "cell_type": "code",
   "execution_count": null,
   "metadata": {},
   "outputs": [],
   "source": [
    "@assert suma_uno(11) == 12"
   ]
  },
  {
   "cell_type": "markdown",
   "metadata": {},
   "source": [
    "***2)*** Use `map` o `broadcast` para incrementar cada elemento de una matriz `A` en `1` y asígnelo a una variable `A1`."
   ]
  },
  {
   "cell_type": "code",
   "execution_count": null,
   "metadata": {},
   "outputs": [],
   "source": []
  },
  {
   "cell_type": "code",
   "execution_count": null,
   "metadata": {},
   "outputs": [],
   "source": [
    "@assert A1 == [2 3 4; 5 6 7; 8 9 10]"
   ]
  },
  {
   "cell_type": "markdown",
   "metadata": {},
   "source": [
    "***3)***\n",
    "Use la sintaxis `.` de `broadcast` para incrementar todos los valores de `A1` en `1` y guarde el resultado en `A2`"
   ]
  },
  {
   "cell_type": "code",
   "execution_count": null,
   "metadata": {},
   "outputs": [],
   "source": []
  },
  {
   "cell_type": "code",
   "execution_count": null,
   "metadata": {
    "hide_input": true,
    "nbgrader": {
     "checksum": "3e3d797962df904deed0e7ee7782b69a",
     "grade": true,
     "grade_id": "cell-f3bd5479679a8fe1",
     "locked": true,
     "points": 0,
     "schema_version": 1,
     "solution": false
    }
   },
   "outputs": [],
   "source": [
    "@assert A2 == [3 4 5; 6 7 8; 9 10 11]"
   ]
  },
  {
   "cell_type": "markdown",
   "metadata": {},
   "source": [
    "***4)*** Cree una función `misuma(vec_1, vec_2)` que retorne la suma directa de `vec_1, vec_2`. Use para esto un loop `for` dentro de la función.\n",
    "Luego cree otra función llamada `misuma!(vec_r, vec_1, vec_2)` que funcione igual, pero guarde el resultado en `vec_r`."
   ]
  },
  {
   "cell_type": "code",
   "execution_count": null,
   "metadata": {},
   "outputs": [],
   "source": [
    "#= \n",
    "function misuma(vec_1, vec_2)\n",
    "    *código*\n",
    "end\n",
    "=#"
   ]
  },
  {
   "cell_type": "code",
   "execution_count": null,
   "metadata": {},
   "outputs": [],
   "source": [
    "#= \n",
    "function misuma!(vec_r, vec_1, vec_2)\n",
    "    *código*\n",
    "end\n",
    "=#"
   ]
  },
  {
   "cell_type": "code",
   "execution_count": null,
   "metadata": {},
   "outputs": [],
   "source": [
    "#Verificación de misuma. Si esta celda no da error, misuma funciona.\n",
    "vec_1 = [1,2,3]\n",
    "vec_2 = [3,2,1]\n",
    "\n",
    "for elemento in misuma(vec_1, vec_2)\n",
    "    @assert elemento == 4\n",
    "end"
   ]
  },
  {
   "cell_type": "code",
   "execution_count": null,
   "metadata": {},
   "outputs": [],
   "source": [
    "#Verificación de misuma!. Si esta celda no da error, misuma! funciona.\n",
    "vec_1 = [1,2,3]\n",
    "vec_2 = [3,2,1]\n",
    "vec_r = copy(vec_1)\n",
    "misuma!(vec_r, vec_1, vec_2)\n",
    "for elemento in vec_r\n",
    "    @assert elemento == 4\n",
    "end"
   ]
  },
  {
   "cell_type": "markdown",
   "metadata": {},
   "source": [
    "***5)*** Repita el ejercicio anterior, pero usando broadcast para escribir una función más compacta"
   ]
  },
  {
   "cell_type": "code",
   "execution_count": null,
   "metadata": {},
   "outputs": [],
   "source": [
    "vec_1 = [1,2,3]\n",
    "vec_2 = [3,2,1]\n",
    "\n",
    "for elemento in misuma(vec_1, vec_2)\n",
    "    @assert elemento == 4\n",
    "end"
   ]
  },
  {
   "cell_type": "code",
   "execution_count": null,
   "metadata": {},
   "outputs": [],
   "source": [
    "vec_1 = [1,2,3]\n",
    "vec_2 = [3,2,1]\n",
    "vec_r = copy(vec_1)\n",
    "misuma!(vec_r, vec_1, vec_2)\n",
    "for elemento in vec_r\n",
    "    @assert elemento == 4\n",
    "end"
   ]
  },
  {
   "cell_type": "code",
   "execution_count": null,
   "metadata": {},
   "outputs": [],
   "source": []
  },
  {
   "cell_type": "code",
   "execution_count": null,
   "metadata": {},
   "outputs": [],
   "source": []
  }
 ],
 "metadata": {
  "interpreter": {
   "hash": "f1adbbdee7057fc0b601bacb5930d0e884eb28aab35deafc36dc30280db9ed65"
  },
  "kernelspec": {
   "display_name": "Julia nodeps 1.7.2",
   "language": "julia",
   "name": "julia-nodeps-1.7"
  },
  "language_info": {
   "file_extension": ".jl",
   "mimetype": "application/julia",
   "name": "julia",
   "version": "1.7.2"
  }
 },
 "nbformat": 4,
 "nbformat_minor": 4
}
