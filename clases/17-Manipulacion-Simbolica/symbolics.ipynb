{
 "cells": [
  {
   "cell_type": "markdown",
   "id": "ed3f4e29-b8c9-4157-b7e1-15edddfa7c2d",
   "metadata": {},
   "source": [
    "## Manipulación Simbólica en Julia\n",
    "\n",
    "Usaremos el paquete `Symbolics.jl`. \n",
    "\n",
    "Es un paquete nuevo y sujeto a cambios drásticos!"
   ]
  },
  {
   "cell_type": "code",
   "execution_count": 1,
   "id": "bd4c565b-c232-42fd-b448-5b52b2ece57f",
   "metadata": {},
   "outputs": [],
   "source": [
    "#import Pkg; \n",
    "#Pkg.add(\"Symbolics\")\n",
    "#Pkg.add(\"Latexify\")\n",
    "using Symbolics\n",
    "using Latexify\n",
    "using Plots"
   ]
  },
  {
   "cell_type": "markdown",
   "id": "7ca4b828-080a-4150-b23e-2ad6ab0275d7",
   "metadata": {},
   "source": [
    "Las variables se define con el macro `@variables`"
   ]
  },
  {
   "cell_type": "code",
   "execution_count": 2,
   "id": "e4d645cd-f481-4bce-bd97-4448edd6f6a6",
   "metadata": {},
   "outputs": [
    {
     "data": {
      "text/plain": [
       "3-element Vector{Any}:\n",
       " x\n",
       " y\n",
       "  w[1:3]"
      ]
     },
     "metadata": {},
     "output_type": "display_data"
    }
   ],
   "source": [
    "@variables x y w[1:3]"
   ]
  },
  {
   "cell_type": "code",
   "execution_count": 3,
   "id": "e8e2f674-1284-4fda-97c0-ab5a9d1b7703",
   "metadata": {},
   "outputs": [
    {
     "data": {
      "text/plain": [
       "Num"
      ]
     },
     "metadata": {},
     "output_type": "display_data"
    }
   ],
   "source": [
    "typeof(x)"
   ]
  },
  {
   "cell_type": "markdown",
   "id": "f4454dbf-12f0-4b9d-bf4c-4672c22f8090",
   "metadata": {},
   "source": [
    "Las *operaciones* no se *hacen* sino que quedan indicadas. Es una forma similar a la que se usa para indicar una expresion, un árbol. "
   ]
  },
  {
   "cell_type": "code",
   "execution_count": 4,
   "id": "4f7420f3-9bb5-459c-8668-22fe435f792e",
   "metadata": {},
   "outputs": [
    {
     "data": {
      "text/latex": [
       "\\begin{equation}\n",
       "y + x^{2}\n",
       "\\end{equation}\n"
      ],
      "text/plain": [
       "y + x^2"
      ]
     },
     "metadata": {},
     "output_type": "display_data"
    }
   ],
   "source": [
    "z = x^2 + y"
   ]
  },
  {
   "cell_type": "code",
   "execution_count": 5,
   "id": "bd013546-ee04-4873-b5ed-1fd5275912c1",
   "metadata": {},
   "outputs": [
    {
     "data": {
      "text/plain": [
       "Num"
      ]
     },
     "metadata": {},
     "output_type": "display_data"
    }
   ],
   "source": [
    "typeof(z)"
   ]
  },
  {
   "cell_type": "code",
   "execution_count": 6,
   "id": "0367e466",
   "metadata": {},
   "outputs": [
    {
     "data": {
      "text/latex": [
       "\\begin{equation}\n",
       "\\left( y + x^{2} \\right)^{2}\n",
       "\\end{equation}\n"
      ],
      "text/plain": [
       "(y + x^2)^2"
      ]
     },
     "metadata": {},
     "output_type": "display_data"
    }
   ],
   "source": [
    "z^2"
   ]
  },
  {
   "cell_type": "code",
   "execution_count": 12,
   "id": "5d560a28",
   "metadata": {},
   "outputs": [
    {
     "data": {
      "text/latex": [
       "\\begin{equation}\n",
       "x^{4} + y^{2} + 2 x^{2} y\n",
       "\\end{equation}\n"
      ],
      "text/plain": [
       "x^4 + y^2 + 2y*(x^2)"
      ]
     },
     "metadata": {},
     "output_type": "display_data"
    }
   ],
   "source": [
    "Symbolics.simplify(z^2; expand=true)"
   ]
  },
  {
   "cell_type": "code",
   "execution_count": 13,
   "id": "c5fee810",
   "metadata": {},
   "outputs": [
    {
     "data": {
      "text/latex": [
       "\\begin{equation}\n",
       "\\left( y + x^{2} \\right)^{2}\n",
       "\\end{equation}\n"
      ],
      "text/plain": [
       "(y + x^2)^2"
      ]
     },
     "metadata": {},
     "output_type": "display_data"
    }
   ],
   "source": [
    "Symbolics.simplify(z^2)"
   ]
  },
  {
   "cell_type": "markdown",
   "id": "79fb2764-3101-4c2c-a585-9acf2ca83d9f",
   "metadata": {},
   "source": [
    "Podemos trabajar también con matrices o arrays arbitrarios. "
   ]
  },
  {
   "cell_type": "code",
   "execution_count": 7,
   "id": "605dcb65-1ef1-414e-a41a-60228812d088",
   "metadata": {},
   "outputs": [
    {
     "data": {
      "text/latex": [
       "\\begin{equation}\n",
       "\\left[\n",
       "\\begin{array}{ccc}\n",
       "y + x^{2} & 0 & 2 x \\\\\n",
       "0 & 1 & 2 y \\\\\n",
       "x + y^{2} & 0 & 0 \\\\\n",
       "\\end{array}\n",
       "\\right]\n",
       "\\end{equation}\n"
      ],
      "text/plain": [
       "3×3 Matrix{Num}:\n",
       " y + x^2  0  2x\n",
       "       0  1  2y\n",
       " x + y^2  0   0"
      ]
     },
     "metadata": {},
     "output_type": "display_data"
    }
   ],
   "source": [
    "A = [x^2 + y 0 2x\n",
    "     0       1 2y\n",
    "     y^2 + x 0 0]"
   ]
  },
  {
   "cell_type": "markdown",
   "id": "60535713-eb02-42f8-a032-77ab425c960e",
   "metadata": {},
   "source": [
    "Se puede mejorar la manera en que las ecuaciones son mostradas con el paquete `Latexify.jl` pero para este caso no hace diferencia (en Jupyter)"
   ]
  },
  {
   "cell_type": "code",
   "execution_count": 8,
   "id": "fab135a5-fe5f-4e3f-985d-9b345ceab226",
   "metadata": {},
   "outputs": [
    {
     "data": {
      "text/latex": [
       "\\begin{equation}\n",
       "\\left[\n",
       "\\begin{array}{ccc}\n",
       "y + x^{2} & 0 & 2 x \\\\\n",
       "0 & 1 & 2 y \\\\\n",
       "x + y^{2} & 0 & 0 \\\\\n",
       "\\end{array}\n",
       "\\right]\n",
       "\\end{equation}\n"
      ],
      "text/plain": [
       "L\"\\begin{equation}\n",
       "\\left[\n",
       "\\begin{array}{ccc}\n",
       "y + x^{2} & 0 & 2 x \\\\\n",
       "0 & 1 & 2 y \\\\\n",
       "x + y^{2} & 0 & 0 \\\\\n",
       "\\end{array}\n",
       "\\right]\n",
       "\\end{equation}\n",
       "\""
      ]
     },
     "metadata": {},
     "output_type": "display_data"
    }
   ],
   "source": [
    "latexify(A)"
   ]
  },
  {
   "cell_type": "code",
   "execution_count": 9,
   "id": "43f2d0a1-c220-488f-9f48-da942165acea",
   "metadata": {},
   "outputs": [
    {
     "data": {
      "text/latex": [
       "\\begin{equation}\n",
       "\\left[\n",
       "\\begin{array}{ccc}\n",
       "y + x^{2} & 0 & 2 x \\\\\n",
       "0 & 1 & 2 y \\\\\n",
       "x + y^{2} & 0 & 0 \\\\\n",
       "\\end{array}\n",
       "\\right]\n",
       "\\end{equation}\n"
      ],
      "text/plain": [
       "3×3 SparseMatrixCSC{Num, Int64} with 5 stored entries:\n",
       " y + x^2  ⋅  2x\n",
       "       ⋅  1  2y\n",
       " x + y^2  ⋅   ⋅"
      ]
     },
     "metadata": {},
     "output_type": "display_data"
    }
   ],
   "source": [
    "using SparseArrays\n",
    "spA = sparse(A)"
   ]
  },
  {
   "cell_type": "markdown",
   "id": "c258d317",
   "metadata": {},
   "source": [
    "Podemos calcular algunas inversas no muy complicadas."
   ]
  },
  {
   "cell_type": "code",
   "execution_count": 10,
   "id": "e5ea3ac6-35c0-4fc1-a6fa-ddf3c45141f6",
   "metadata": {},
   "outputs": [
    {
     "data": {
      "text/latex": [
       "\\begin{equation}\n",
       "\\left[\n",
       "\\begin{array}{ccc}\n",
       "0 & 0 & \\frac{ - \\frac{ - \\left( y + x^{2} \\right)}{x + y^{2}}}{y + x^{2}} \\\\\n",
       " - \\frac{y}{x} & 1.0 &  - \\frac{ - y \\left( y + x^{2} \\right)}{x \\left( x + y^{2} \\right)} \\\\\n",
       "\\frac{\\frac{x + y^{2}}{y + x^{2}}}{\\frac{2 x \\left( x + y^{2} \\right)}{y + x^{2}}} & 0 & \\frac{-1}{\\frac{2 x \\left( x + y^{2} \\right)}{y + x^{2}}} \\\\\n",
       "\\end{array}\n",
       "\\right]\n",
       "\\end{equation}\n"
      ],
      "text/plain": [
       "3×3 Matrix{Num}:\n",
       "                                                      0  …  (-((-(y + x^2)) / (x + y^2))) / (y + x^2)\n",
       "                                               -(y / x)             -((-y*(y + x^2)) / (x*(x + y^2)))\n",
       " ((x + y^2) / (y + x^2)) / ((2x*(x + y^2)) / (y + x^2))             -1 / ((2x*(x + y^2)) / (y + x^2))"
      ]
     },
     "metadata": {},
     "output_type": "display_data"
    }
   ],
   "source": [
    "A_inv = inv(A)"
   ]
  },
  {
   "cell_type": "code",
   "execution_count": 14,
   "id": "9322a140-2afc-47e3-8b6d-25ebec766d7a",
   "metadata": {},
   "outputs": [
    {
     "data": {
      "text/latex": [
       "\\begin{equation}\n",
       "\\left[\n",
       "\\begin{array}{ccc}\n",
       "1 & 0.0 & 0 \\\\\n",
       "0 & 1.0 & 0 \\\\\n",
       "0 & 0.0 & \\frac{ - \\left( x + y^{2} \\right) \\frac{ - \\left( y + x^{2} \\right)}{x + y^{2}}}{y + x^{2}} \\\\\n",
       "\\end{array}\n",
       "\\right]\n",
       "\\end{equation}\n"
      ],
      "text/plain": [
       "3×3 Matrix{Num}:\n",
       " 1  0.0                                                    0\n",
       " 0  1.0                                                    0\n",
       " 0  0.0  (-(x + y^2)*((-(y + x^2)) / (x + y^2))) / (y + x^2)"
      ]
     },
     "metadata": {},
     "output_type": "display_data"
    }
   ],
   "source": [
    "Idd = A * A_inv"
   ]
  },
  {
   "cell_type": "markdown",
   "id": "fb875493-44ec-404c-bf34-5366e4f0add7",
   "metadata": {},
   "source": [
    "Para encontrar la identidad debemos usar la función `simplify()`, la cual aplicamos a cada elemento con la notación usual de agregar un ."
   ]
  },
  {
   "cell_type": "code",
   "execution_count": 15,
   "id": "1527b764-228d-496c-b760-e173de41d60f",
   "metadata": {},
   "outputs": [
    {
     "data": {
      "text/latex": [
       "\\begin{equation}\n",
       "\\left[\n",
       "\\begin{array}{ccc}\n",
       "1 & 0.0 & 0 \\\\\n",
       "0 & 1.0 & 0 \\\\\n",
       "0 & 0.0 & 1 \\\\\n",
       "\\end{array}\n",
       "\\right]\n",
       "\\end{equation}\n"
      ],
      "text/plain": [
       "3×3 Matrix{Num}:\n",
       " 1  0.0  0\n",
       " 0  1.0  0\n",
       " 0  0.0  1"
      ]
     },
     "metadata": {},
     "output_type": "display_data"
    }
   ],
   "source": [
    "Symbolics.simplify.(Idd)"
   ]
  },
  {
   "cell_type": "markdown",
   "id": "ae57624f-1d0f-4e6a-bdcb-f6384369e751",
   "metadata": {},
   "source": [
    "También podemos hacer sustituciones. La función `substitute()` admite un diccionario con las sustituciones que queremos hacer."
   ]
  },
  {
   "cell_type": "code",
   "execution_count": 16,
   "id": "499ffdfd-1088-4ce0-94e3-0b8b5261b350",
   "metadata": {},
   "outputs": [
    {
     "data": {
      "text/latex": [
       "\\begin{equation}\n",
       "y^{2} + \\sin^{2}\\left( \\theta \\right)\n",
       "\\end{equation}\n"
      ],
      "text/plain": [
       "y^2 + sin(θ)^2"
      ]
     },
     "metadata": {},
     "output_type": "display_data"
    }
   ],
   "source": [
    "r = x^2 + y^2\n",
    "@variables θ\n",
    "Symbolics.substitute(r, Dict([x =>sin(θ)]))"
   ]
  },
  {
   "cell_type": "code",
   "execution_count": 17,
   "id": "52614f8b-135a-4ddd-a0fd-2b205fb052e3",
   "metadata": {},
   "outputs": [
    {
     "data": {
      "text/plain": [
       "Dict{Num, Num} with 2 entries:\n",
       "  y => cos(θ)\n",
       "  x => sin(θ)"
      ]
     },
     "metadata": {},
     "output_type": "display_data"
    }
   ],
   "source": [
    "trig = Dict([x => sin(θ), y => cos(θ)])"
   ]
  },
  {
   "cell_type": "code",
   "execution_count": 18,
   "id": "69ff7176-70b8-4285-9e5b-689e77571224",
   "metadata": {},
   "outputs": [
    {
     "data": {
      "text/latex": [
       "\\begin{equation}\n",
       "\\cos^{2}\\left( \\theta \\right) + \\sin^{2}\\left( \\theta \\right)\n",
       "\\end{equation}\n"
      ],
      "text/plain": [
       "cos(θ)^2 + sin(θ)^2"
      ]
     },
     "metadata": {},
     "output_type": "display_data"
    }
   ],
   "source": [
    "Symbolics.substitute(r,trig)"
   ]
  },
  {
   "cell_type": "code",
   "execution_count": 19,
   "id": "00daa0bc-49a7-483a-8462-55b240f748bb",
   "metadata": {},
   "outputs": [
    {
     "data": {
      "text/latex": [
       "\\begin{equation}\n",
       "1\n",
       "\\end{equation}\n"
      ],
      "text/plain": [
       "1"
      ]
     },
     "metadata": {},
     "output_type": "display_data"
    }
   ],
   "source": [
    "Symbolics.simplify(Symbolics.substitute(r,trig))"
   ]
  },
  {
   "cell_type": "markdown",
   "id": "54c23a8f-8665-4f7f-b5f8-712274f92a00",
   "metadata": {},
   "source": [
    "### Derivadas: \n",
    "\n",
    "Calculemos un gradiente:"
   ]
  },
  {
   "cell_type": "code",
   "execution_count": 20,
   "id": "4d64c25b-c910-4232-85cb-15ecc1cec081",
   "metadata": {},
   "outputs": [
    {
     "data": {
      "text/latex": [
       "\\begin{equation}\n",
       "\\left[\n",
       "\\begin{array}{c}\n",
       "p{_1} \\\\\n",
       "p{_2} \\\\\n",
       "p{_3} \\\\\n",
       "\\end{array}\n",
       "\\right]\n",
       "\\end{equation}\n"
      ],
      "text/plain": [
       "3-element Vector{Num}:\n",
       " p[1]\n",
       " p[2]\n",
       " p[3]"
      ]
     },
     "metadata": {},
     "output_type": "display_data"
    }
   ],
   "source": [
    "@variables s[1:3] p[1:3]\n",
    "ss = Symbolics.scalarize(s)\n",
    "ps = Symbolics.scalarize(p)"
   ]
  },
  {
   "cell_type": "code",
   "execution_count": 21,
   "id": "9ccc9a1d-5f7e-47c0-83f5-b7e3e5773429",
   "metadata": {},
   "outputs": [
    {
     "data": {
      "text/plain": [
       "h (generic function with 1 method)"
      ]
     },
     "metadata": {},
     "output_type": "display_data"
    }
   ],
   "source": [
    "h(u,t) = u'*u - t'*u"
   ]
  },
  {
   "cell_type": "code",
   "execution_count": 22,
   "id": "7dc9b004-5e58-4288-9bc6-cbfc40e753c0",
   "metadata": {},
   "outputs": [
    {
     "data": {
      "text/latex": [
       "\\begin{equation}\n",
       "\\left[\n",
       "\\begin{array}{c}\n",
       " - p{_1} + 2 s{_1} \\\\\n",
       " - p{_2} + 2 s{_2} \\\\\n",
       " - p{_3} + 2 s{_3} \\\\\n",
       "\\end{array}\n",
       "\\right]\n",
       "\\end{equation}\n"
      ],
      "text/plain": [
       "3-element Vector{Num}:\n",
       " 2s[1] - p[1]\n",
       " 2s[2] - p[2]\n",
       " 2s[3] - p[3]"
      ]
     },
     "metadata": {},
     "output_type": "display_data"
    }
   ],
   "source": [
    "Symbolics.gradient(h(ss,ps),ss)"
   ]
  },
  {
   "cell_type": "markdown",
   "id": "9e1ae2f0",
   "metadata": {},
   "source": [
    "Calculemos un Jacobiano:"
   ]
  },
  {
   "cell_type": "code",
   "execution_count": 23,
   "id": "6af282fd-513c-4fe1-8000-20e95dfbc507",
   "metadata": {},
   "outputs": [
    {
     "data": {
      "text/plain": [
       "f (generic function with 1 method)"
      ]
     },
     "metadata": {},
     "output_type": "display_data"
    }
   ],
   "source": [
    "function f(u,p)\n",
    "  [p[1]*u[1] - u[3]; u[1]^2 - u[2]; u[3] + cos(u[2])]\n",
    "end\n",
    "\n",
    "#@register_symbolics cos(x) "
   ]
  },
  {
   "cell_type": "code",
   "execution_count": 24,
   "id": "2b6eaec0",
   "metadata": {},
   "outputs": [
    {
     "data": {
      "text/plain": [
       "3-element Vector{Float64}:\n",
       "  1.0\n",
       " -1.0\n",
       "  2.5838531634528574"
      ]
     },
     "metadata": {},
     "output_type": "display_data"
    }
   ],
   "source": [
    "f([1;2;3.],[4;5;6])"
   ]
  },
  {
   "cell_type": "code",
   "execution_count": 25,
   "id": "907c5cab",
   "metadata": {},
   "outputs": [
    {
     "data": {
      "text/latex": [
       "\\begin{equation}\n",
       "\\left[\n",
       "\\begin{array}{c}\n",
       " - y - x^{2} + x p{_1} \\\\\n",
       "x^{2} - y \\\\\n",
       "y + x^{2} + \\cos\\left( y \\right) \\\\\n",
       "\\end{array}\n",
       "\\right]\n",
       "\\end{equation}\n"
      ],
      "text/plain": [
       "3-element Vector{Num}:\n",
       " x*p[1] - y - (x^2)\n",
       "            x^2 - y\n",
       "   y + x^2 + cos(y)"
      ]
     },
     "metadata": {},
     "output_type": "display_data"
    }
   ],
   "source": [
    "f([x, y, z],p) # Recall that z = x^2 + y"
   ]
  },
  {
   "cell_type": "code",
   "execution_count": 26,
   "id": "b1a0e5a1-c98f-42e1-ad39-8439413a2527",
   "metadata": {},
   "outputs": [
    {
     "data": {
      "text/latex": [
       "\\begin{equation}\n",
       "\\left[\n",
       "\\begin{array}{c}\n",
       " - s{_3} + p{_1} s{_1} \\\\\n",
       "s{_1}^{2} - s{_2} \\\\\n",
       "\\cos\\left( s{_2} \\right) + s{_3} \\\\\n",
       "\\end{array}\n",
       "\\right]\n",
       "\\end{equation}\n"
      ],
      "text/plain": [
       "3-element Vector{Num}:\n",
       " p[1]*s[1] - s[3]\n",
       "    s[1]^2 - s[2]\n",
       " cos(s[2]) + s[3]"
      ]
     },
     "metadata": {},
     "output_type": "display_data"
    }
   ],
   "source": [
    "f(ss,ps)"
   ]
  },
  {
   "cell_type": "code",
   "execution_count": 27,
   "id": "58c3b2b1-1afc-44ea-b2b7-cc23b528f847",
   "metadata": {},
   "outputs": [
    {
     "data": {
      "text/latex": [
       "\\begin{equation}\n",
       "\\left[\n",
       "\\begin{array}{ccc}\n",
       "p{_1} & 0 & -1 \\\\\n",
       "2 s{_1} & -1 & 0 \\\\\n",
       "0 &  - \\sin\\left( s{_2} \\right) & 1 \\\\\n",
       "\\end{array}\n",
       "\\right]\n",
       "\\end{equation}\n"
      ],
      "text/plain": [
       "3×3 Matrix{Num}:\n",
       "  p[1]           0  -1\n",
       " 2s[1]          -1   0\n",
       "     0  -sin(s[2])   1"
      ]
     },
     "metadata": {},
     "output_type": "display_data"
    }
   ],
   "source": [
    "Jfs = Symbolics.jacobian(f(ss,ps), ss)"
   ]
  },
  {
   "cell_type": "markdown",
   "id": "8c56b5c3-17dc-4c42-921a-7eb42a65b256",
   "metadata": {},
   "source": [
    "### Generando una función numérica"
   ]
  },
  {
   "cell_type": "code",
   "execution_count": 28,
   "id": "14333009-efec-49a2-9d80-289eadc3c76b",
   "metadata": {},
   "outputs": [],
   "source": [
    "Jfs_exp = Symbolics.build_function(Jfs,s, p);\n",
    "Jfs_f = eval(Jfs_exp[1]);"
   ]
  },
  {
   "cell_type": "code",
   "execution_count": 29,
   "id": "60cef2d0-568f-4c66-98a2-fe3e3c7f87da",
   "metadata": {},
   "outputs": [
    {
     "data": {
      "text/plain": [
       "3×3 Matrix{Float64}:\n",
       " 4.0   0.0       -1.0\n",
       " 2.0  -1.0        0.0\n",
       " 0.0  -0.909297   1.0"
      ]
     },
     "metadata": {},
     "output_type": "display_data"
    }
   ],
   "source": [
    "Jfs_f([1.;2.;3], [4.;5;6])"
   ]
  },
  {
   "cell_type": "markdown",
   "id": "baac5fef-05f1-4a93-b478-dcc2ee842fc2",
   "metadata": {},
   "source": [
    "### Una aplicación:\n",
    "\n",
    "Vamos a usar el método de Newton pero de forma symbólica."
   ]
  },
  {
   "cell_type": "code",
   "execution_count": 30,
   "id": "28346ace-a96d-4088-836d-9dfda86cfcab",
   "metadata": {},
   "outputs": [
    {
     "data": {
      "text/plain": [
       "NR_one_step (generic function with 1 method)"
      ]
     },
     "metadata": {},
     "output_type": "display_data"
    }
   ],
   "source": [
    "function NR_one_step(f, Jf, x0, par)\n",
    "    return x0 - f(x0,par)/Jf(x0,par)\n",
    "end"
   ]
  },
  {
   "cell_type": "code",
   "execution_count": 31,
   "id": "7c149745-5862-44e1-a838-37269b5a76fa",
   "metadata": {},
   "outputs": [
    {
     "data": {
      "text/plain": [
       "my_sqrt (generic function with 1 method)"
      ]
     },
     "metadata": {},
     "output_type": "display_data"
    }
   ],
   "source": [
    "function my_sqrt(p,par)\n",
    "    x0, N = par\n",
    "    f(x,y) = x^2 - y\n",
    "    Jf(x,y) = 2x\n",
    "    x = x0\n",
    "    for i ∈ 1:N\n",
    "        x = NR_one_step(f,Jf,x,p)\n",
    "    end\n",
    "    return x\n",
    "end"
   ]
  },
  {
   "cell_type": "code",
   "execution_count": 32,
   "id": "af626fe9-bdca-43db-b3e7-ae725961aa0a",
   "metadata": {},
   "outputs": [
    {
     "data": {
      "text/plain": [
       "1.4142156862745099"
      ]
     },
     "metadata": {},
     "output_type": "display_data"
    }
   ],
   "source": [
    "par = (1.,3)\n",
    "my_sqrt(2,par)"
   ]
  },
  {
   "cell_type": "code",
   "execution_count": 33,
   "id": "db34108c-a70e-4f93-9fbe-519a8eda6bbe",
   "metadata": {},
   "outputs": [
    {
     "data": {
      "text/latex": [
       "\\begin{equation}\n",
       "\\left[\n",
       "\\begin{array}{c}\n",
       "v \\\\\n",
       "\\end{array}\n",
       "\\right]\n",
       "\\end{equation}\n"
      ],
      "text/plain": [
       "1-element Vector{Num}:\n",
       " v"
      ]
     },
     "metadata": {},
     "output_type": "display_data"
    }
   ],
   "source": [
    "@variables v"
   ]
  },
  {
   "cell_type": "code",
   "execution_count": 34,
   "id": "12b4155d-ae34-41ad-a600-85c327571c9b",
   "metadata": {},
   "outputs": [
    {
     "data": {
      "text/latex": [
       "\\begin{equation}\n",
       "\\frac{1}{2} + \\frac{1}{2} v + \\frac{v - \\left( \\frac{1}{2} + \\frac{1}{2} v \\right)^{2}}{1 + v} + \\frac{v - \\left( \\frac{1}{2} + \\frac{1}{2} v + \\frac{v - \\left( \\frac{1}{2} + \\frac{1}{2} v \\right)^{2}}{1 + v} \\right)^{2}}{1 + v + \\frac{2 v - 2 \\left( \\frac{1}{2} + \\frac{1}{2} v \\right)^{2}}{1 + v}}\n",
       "\\end{equation}\n"
      ],
      "text/plain": [
       "(1//2) + (1//2)*v + (v - (((1//2) + (1//2)*v)^2)) / ((1//1) + v) + (v - (((1//2) + (1//2)*v + (v - (((1//2) + (1//2)*v)^2)) / ((1//1) + v))^2)) / ((1//1) + v + (2v - 2(((1//2) + (1//2)*v)^2)) / ((1//1) + v))"
      ]
     },
     "metadata": {},
     "output_type": "display_data"
    }
   ],
   "source": [
    "par = (1, 3)\n",
    "my_sqrt(v,(1,3))"
   ]
  },
  {
   "cell_type": "code",
   "execution_count": 35,
   "id": "b648c9d3",
   "metadata": {},
   "outputs": [
    {
     "data": {
      "text/latex": [
       "\\begin{equation}\n",
       "\\frac{\\frac{1}{8} + \\frac{1}{8} v^{4} + \\frac{3}{2} v + \\frac{19}{4} v^{2} + \\frac{3}{2} v^{3} - \\left( \\frac{\\frac{-1}{4} - \\frac{1}{4} v^{2} + \\frac{1}{2} v}{1 + v} \\right)^{2} - \\left( \\frac{\\frac{-1}{4} - \\frac{1}{4} v^{2} + \\frac{1}{2} v}{1 + v} \\right)^{2} v^{2} - 2 \\left( \\frac{\\frac{-1}{4} - \\frac{1}{4} v^{2} + \\frac{1}{2} v}{1 + v} \\right)^{2} v}{\\left( 1 + v \\right) \\left( \\frac{1}{2} + \\frac{1}{2} v^{2} + 3 v \\right)}\n",
       "\\end{equation}\n"
      ],
      "text/plain": [
       "((1//8) + (1//8)*(v^4) + (3//2)*v + (19//4)*(v^2) + (3//2)*(v^3) - ((((1//2)*v - (1//4) - (1//4)*(v^2)) / ((1//1) + v))^2) - (v^2)*((((1//2)*v - (1//4) - (1//4)*(v^2)) / ((1//1) + v))^2) - (2//1)*v*((((1//2)*v - (1//4) - (1//4)*(v^2)) / ((1//1) + v))^2)) / (((1//1) + v)*((1//2) + (1//2)*(v^2) + (3//1)*v))"
      ]
     },
     "metadata": {},
     "output_type": "display_data"
    }
   ],
   "source": [
    "k_3(v) = Symbolics.simplify(my_sqrt(v,(1,3)), expand=true)\n",
    "k_3(v)"
   ]
  },
  {
   "cell_type": "code",
   "execution_count": 36,
   "id": "3add8ef9-f9e7-4a65-963b-9869ec4ffbf0",
   "metadata": {},
   "outputs": [
    {
     "data": {
      "text/latex": [
       "\\begin{equation}\n",
       "\\frac{\\frac{1}{8} + \\frac{1}{8} v^{4} - \\left( \\frac{\\frac{1}{4} + \\frac{1}{4} v^{2} + \\frac{3}{2} v}{1 + v} \\right)^{2} + \\frac{5}{2} v + \\frac{27}{4} v^{2} + \\frac{5}{2} v^{3} - \\left( \\frac{\\frac{1}{4} + \\frac{1}{4} v^{2} + \\frac{3}{2} v}{1 + v} \\right)^{2} v^{2} - 2 \\left( \\frac{\\frac{1}{4} + \\frac{1}{4} v^{2} + \\frac{3}{2} v}{1 + v} \\right)^{2} v}{\\left( 1 + v \\right) \\left( \\frac{1}{2} + \\frac{1}{2} v^{2} + 3 v \\right)}\n",
       "\\end{equation}\n"
      ],
      "text/plain": [
       "((1//8) + (1//8)*(v^4) + (5//2)*v + (27//4)*(v^2) + (5//2)*(v^3) - ((((1//4) + (1//4)*(v^2) + (3//2)*v) / ((1//1) + v))^2) - (v^2)*((((1//4) + (1//4)*(v^2) + (3//2)*v) / ((1//1) + v))^2) - (2//1)*v*((((1//4) + (1//4)*(v^2) + (3//2)*v) / ((1//1) + v))^2)) / (((1//1) + v)*((1//2) + (1//2)*(v^2) + (3//1)*v))"
      ]
     },
     "metadata": {},
     "output_type": "display_data"
    }
   ],
   "source": [
    "k_3_ex = Symbolics.simplify(my_sqrt(v,(1,3)))"
   ]
  },
  {
   "cell_type": "markdown",
   "id": "78b06bcf",
   "metadata": {},
   "source": [
    "Tomamos esta expresión y hacemos una función numérica:"
   ]
  },
  {
   "cell_type": "code",
   "execution_count": 38,
   "id": "72cb017a",
   "metadata": {},
   "outputs": [
    {
     "data": {
      "text/plain": [
       ":(function (v,)\n",
       "      (/)((+)((+)((+)((+)((+)((+)((+)(1//8, (*)(1//8, (^)(v, 4))), (*)(-1//1, (^)((/)((+)((+)(1//4, (*)(1//4, (^)(v, 2))), (*)(3//2, v)), (+)(1//1, v)), 2))), (*)(5//2, v)), (*)(27//4, (^)(v, 2))), (*)(5//2, (^)(v, 3))), (*)((*)(-1//1, (^)(v, 2)), (^)((/)((+)((+)(1//4, (*)(1//4, (^)(v, 2))), (*)(3//2, v)), (+)(1//1, v)), 2))), (*)((*)(-2//1, v), (^)((/)((+)((+)(1//4, (*)(1//4, (^)(v, 2))), (*)(3//2, v)), (+)(1//1, v)), 2))), (*)((+)(1//1, v), (+)((+)(1//2, (*)(1//2, (^)(v, 2))), (*)(3//1, v))))\n",
       "  end)"
      ]
     },
     "metadata": {},
     "output_type": "display_data"
    }
   ],
   "source": [
    "k_3_exp = Symbolics.build_function(k_3_ex,v)\n",
    "Base.remove_linenums!(k_3_exp)"
   ]
  },
  {
   "cell_type": "code",
   "execution_count": 39,
   "id": "cb5e1ed9",
   "metadata": {},
   "outputs": [
    {
     "data": {
      "text/plain": [
       "#7 (generic function with 1 method)"
      ]
     },
     "metadata": {},
     "output_type": "display_data"
    }
   ],
   "source": [
    "k_3_f = eval(k_3_exp)"
   ]
  },
  {
   "cell_type": "code",
   "execution_count": 40,
   "id": "9c935fd4",
   "metadata": {},
   "outputs": [
    {
     "data": {
      "text/plain": [
       "577//408"
      ]
     },
     "metadata": {},
     "output_type": "display_data"
    }
   ],
   "source": [
    "k_3_f(2)"
   ]
  },
  {
   "cell_type": "markdown",
   "id": "992e4af0",
   "metadata": {},
   "source": [
    "Esta no es sólo una función simbólica sino también numérica."
   ]
  },
  {
   "cell_type": "code",
   "execution_count": 41,
   "id": "20c2ecc1",
   "metadata": {},
   "outputs": [
    {
     "name": "stderr",
     "output_type": "stream",
     "text": [
      "\u001b[32m\u001b[1m    Updating\u001b[22m\u001b[39m registry at `~/.julia/registries/General.toml`\n",
      "\u001b[32m\u001b[1m   Resolving\u001b[22m\u001b[39m package versions...\n",
      "\u001b[32m\u001b[1m  No Changes\u001b[22m\u001b[39m to `~/.julia/environments/v1.7/Project.toml`\n",
      "\u001b[32m\u001b[1m  No Changes\u001b[22m\u001b[39m to `~/.julia/environments/v1.7/Manifest.toml`\n"
     ]
    }
   ],
   "source": [
    "#import Pkg; Pkg.add(\"BenchmarkTools\")\n",
    "using BenchmarkTools\n"
   ]
  },
  {
   "cell_type": "code",
   "execution_count": 42,
   "id": "64bd9425",
   "metadata": {},
   "outputs": [
    {
     "name": "stdout",
     "output_type": "stream",
     "text": [
      "  38.854 ns (1 allocation: 16 bytes)\n"
     ]
    },
    {
     "data": {
      "text/plain": [
       "1.4142156862745099"
      ]
     },
     "metadata": {},
     "output_type": "display_data"
    }
   ],
   "source": [
    "@btime k_3_f(2.)"
   ]
  },
  {
   "cell_type": "code",
   "execution_count": 43,
   "id": "c2de9bf6",
   "metadata": {},
   "outputs": [
    {
     "name": "stdout",
     "output_type": "stream",
     "text": [
      "  1.429 ns (0 allocations: 0 bytes)\n"
     ]
    },
    {
     "data": {
      "text/plain": [
       "1.4142156862745099"
      ]
     },
     "metadata": {},
     "output_type": "display_data"
    }
   ],
   "source": [
    "@btime my_sqrt(2,(1.,3))"
   ]
  },
  {
   "cell_type": "code",
   "execution_count": 44,
   "id": "5cbcf6b7",
   "metadata": {},
   "outputs": [
    {
     "name": "stdout",
     "output_type": "stream",
     "text": [
      "  298.874 ns (2 allocations: 32 bytes)\n"
     ]
    },
    {
     "data": {
      "text/plain": [
       "1.4142156862745099"
      ]
     },
     "metadata": {},
     "output_type": "display_data"
    }
   ],
   "source": [
    "@btime k_3(2.)"
   ]
  },
  {
   "cell_type": "code",
   "execution_count": 45,
   "id": "3ca4da23",
   "metadata": {},
   "outputs": [
    {
     "data": {
      "text/plain": [
       "2.1239014147411694e-6"
      ]
     },
     "metadata": {},
     "output_type": "display_data"
    }
   ],
   "source": [
    "k_3(2) - sqrt(2)"
   ]
  },
  {
   "cell_type": "markdown",
   "id": "a36dbb7d",
   "metadata": {},
   "source": [
    "Incluso la podemos plotear y vemos que anda muy bien para valores pequeños de la variable. "
   ]
  },
  {
   "cell_type": "code",
   "execution_count": 60,
   "id": "66ef9874",
   "metadata": {},
   "outputs": [
    {
     "data": {
      "image/png": "[encoded data removed]",
      "image/svg+xml": "<?xml version=\"1.0\" encoding=\"utf-8\"?>\n<svg xmlns=\"http://www.w3.org/2000/svg\" xmlns:xlink=\"http://www.w3.org/1999/xlink\" width=\"600\" height=\"400\" viewBox=\"0 0 2400 1600\">\n<defs>\n  <clipPath id=\"clip340\">\n    <rect x=\"0\" y=\"0\" width=\"2400\" height=\"1600\"/>\n  </clipPath>\n</defs>\n<path clip-path=\"url(#clip340)\" d=\"\nM0 1600 L2400 1600 L2400 0 L0 0  Z\n  \" fill=\"#ffffff\" fill-rule=\"evenodd\" fill-opacity=\"1\"/>\n<defs>\n  <clipPath id=\"clip341\">\n    <rect x=\"480\" y=\"0\" width=\"1681\" height=\"1600\"/>\n  </clipPath>\n</defs>\n<path clip-path=\"url(#clip340)\" d=\"\nM112.177 1486.45 L2352.76 1486.45 L2352.76 47.2441 L112.177 47.2441  Z\n  \" fill=\"#ffffff\" fill-rule=\"evenodd\" fill-opacity=\"1\"/>\n<defs>\n  <clipPath id=\"clip342\">\n    <rect x=\"112\" y=\"47\" width=\"2242\" height=\"1440\"/>\n  </clipPath>\n</defs>\n<polyline clip-path=\"url(#clip342)\" style=\"stroke:#000000; stroke-linecap:butt; stroke-linejoin:round; stroke-width:2; stroke-opacity:0.1; fill:none\" points=\"\n  484.984,1486.45 484.984,47.2441 \n  \"/>\n<polyline clip-path=\"url(#clip342)\" style=\"stroke:#000000; stroke-linecap:butt; stroke-linejoin:round; stroke-width:2; stroke-opacity:0.1; fill:none\" points=\"\n  858.539,1486.45 858.539,47.2441 \n  \"/>\n<polyline clip-path=\"url(#clip342)\" style=\"stroke:#000000; stroke-linecap:butt; stroke-linejoin:round; stroke-width:2; stroke-opacity:0.1; fill:none\" points=\"\n  1232.09,1486.45 1232.09,47.2441 \n  \"/>\n<polyline clip-path=\"url(#clip342)\" style=\"stroke:#000000; stroke-linecap:butt; stroke-linejoin:round; stroke-width:2; stroke-opacity:0.1; fill:none\" points=\"\n  1605.65,1486.45 1605.65,47.2441 \n  \"/>\n<polyline clip-path=\"url(#clip342)\" style=\"stroke:#000000; stroke-linecap:butt; stroke-linejoin:round; stroke-width:2; stroke-opacity:0.1; fill:none\" points=\"\n  1979.2,1486.45 1979.2,47.2441 \n  \"/>\n<polyline clip-path=\"url(#clip342)\" style=\"stroke:#000000; stroke-linecap:butt; stroke-linejoin:round; stroke-width:2; stroke-opacity:0.1; fill:none\" points=\"\n  2352.76,1486.45 2352.76,47.2441 \n  \"/>\n<polyline clip-path=\"url(#clip340)\" style=\"stroke:#000000; stroke-linecap:butt; stroke-linejoin:round; stroke-width:4; stroke-opacity:1; fill:none\" points=\"\n  112.177,1486.45 2352.76,1486.45 \n  \"/>\n<polyline clip-path=\"url(#clip340)\" style=\"stroke:#000000; stroke-linecap:butt; stroke-linejoin:round; stroke-width:4; stroke-opacity:1; fill:none\" points=\"\n  484.984,1486.45 484.984,1467.55 \n  \"/>\n<polyline clip-path=\"url(#clip340)\" style=\"stroke:#000000; stroke-linecap:butt; stroke-linejoin:round; stroke-width:4; stroke-opacity:1; fill:none\" points=\"\n  858.539,1486.45 858.539,1467.55 \n  \"/>\n<polyline clip-path=\"url(#clip340)\" style=\"stroke:#000000; stroke-linecap:butt; stroke-linejoin:round; stroke-width:4; stroke-opacity:1; fill:none\" points=\"\n  1232.09,1486.45 1232.09,1467.55 \n  \"/>\n<polyline clip-path=\"url(#clip340)\" style=\"stroke:#000000; stroke-linecap:butt; stroke-linejoin:round; stroke-width:4; stroke-opacity:1; fill:none\" points=\"\n  1605.65,1486.45 1605.65,1467.55 \n  \"/>\n<polyline clip-path=\"url(#clip340)\" style=\"stroke:#000000; stroke-linecap:butt; stroke-linejoin:round; stroke-width:4; stroke-opacity:1; fill:none\" points=\"\n  1979.2,1486.45 1979.2,1467.55 \n  \"/>\n<polyline clip-path=\"url(#clip340)\" style=\"stroke:#000000; stroke-linecap:butt; stroke-linejoin:round; stroke-width:4; stroke-opacity:1; fill:none\" points=\"\n  2352.76,1486.45 2352.76,1467.55 \n  \"/>\n<path clip-path=\"url(#clip340)\" d=\"M475.262 1514.29 L493.619 1514.29 L493.619 1518.22 L479.545 1518.22 L479.545 1526.7 Q480.563 1526.35 481.582 1526.19 Q482.6 1526 483.619 1526 Q489.406 1526 492.785 1529.17 Q496.165 1532.34 496.165 1537.76 Q496.165 1543.34 492.693 1546.44 Q489.22 1549.52 482.901 1549.52 Q480.725 1549.52 478.457 1549.15 Q476.211 1548.78 473.804 1548.04 L473.804 1543.34 Q475.887 1544.47 478.109 1545.03 Q480.332 1545.58 482.808 1545.58 Q486.813 1545.58 489.151 1543.48 Q491.489 1541.37 491.489 1537.76 Q491.489 1534.15 489.151 1532.04 Q486.813 1529.94 482.808 1529.94 Q480.933 1529.94 479.058 1530.35 Q477.207 1530.77 475.262 1531.65 L475.262 1514.29 Z\" fill=\"#000000\" fill-rule=\"evenodd\" fill-opacity=\"1\" /><path clip-path=\"url(#clip340)\" d=\"M833.226 1544.91 L840.865 1544.91 L840.865 1518.55 L832.555 1520.21 L832.555 1515.95 L840.819 1514.29 L845.495 1514.29 L845.495 1544.91 L853.134 1544.91 L853.134 1548.85 L833.226 1548.85 L833.226 1544.91 Z\" fill=\"#000000\" fill-rule=\"evenodd\" fill-opacity=\"1\" /><path clip-path=\"url(#clip340)\" d=\"M872.578 1517.37 Q868.967 1517.37 867.138 1520.93 Q865.333 1524.47 865.333 1531.6 Q865.333 1538.71 867.138 1542.27 Q868.967 1545.82 872.578 1545.82 Q876.212 1545.82 878.018 1542.27 Q879.846 1538.71 879.846 1531.6 Q879.846 1524.47 878.018 1520.93 Q876.212 1517.37 872.578 1517.37 M872.578 1513.66 Q878.388 1513.66 881.444 1518.27 Q884.522 1522.85 884.522 1531.6 Q884.522 1540.33 881.444 1544.94 Q878.388 1549.52 872.578 1549.52 Q866.768 1549.52 863.689 1544.94 Q860.634 1540.33 860.634 1531.6 Q860.634 1522.85 863.689 1518.27 Q866.768 1513.66 872.578 1513.66 Z\" fill=\"#000000\" fill-rule=\"evenodd\" fill-opacity=\"1\" /><path clip-path=\"url(#clip340)\" d=\"M1207.28 1544.91 L1214.92 1544.91 L1214.92 1518.55 L1206.61 1520.21 L1206.61 1515.95 L1214.87 1514.29 L1219.55 1514.29 L1219.55 1544.91 L1227.19 1544.91 L1227.19 1548.85 L1207.28 1548.85 L1207.28 1544.91 Z\" fill=\"#000000\" fill-rule=\"evenodd\" fill-opacity=\"1\" /><path clip-path=\"url(#clip340)\" d=\"M1236.68 1514.29 L1255.03 1514.29 L1255.03 1518.22 L1240.96 1518.22 L1240.96 1526.7 Q1241.98 1526.35 1243 1526.19 Q1244.01 1526 1245.03 1526 Q1250.82 1526 1254.2 1529.17 Q1257.58 1532.34 1257.58 1537.76 Q1257.58 1543.34 1254.11 1546.44 Q1250.63 1549.52 1244.32 1549.52 Q1242.14 1549.52 1239.87 1549.15 Q1237.63 1548.78 1235.22 1548.04 L1235.22 1543.34 Q1237.3 1544.47 1239.52 1545.03 Q1241.75 1545.58 1244.22 1545.58 Q1248.23 1545.58 1250.57 1543.48 Q1252.9 1541.37 1252.9 1537.76 Q1252.9 1534.15 1250.57 1532.04 Q1248.23 1529.94 1244.22 1529.94 Q1242.35 1529.94 1240.47 1530.35 Q1238.62 1530.77 1236.68 1531.65 L1236.68 1514.29 Z\" fill=\"#000000\" fill-rule=\"evenodd\" fill-opacity=\"1\" /><path clip-path=\"url(#clip340)\" d=\"M1584.42 1544.91 L1600.74 1544.91 L1600.74 1548.85 L1578.8 1548.85 L1578.8 1544.91 Q1581.46 1542.16 1586.04 1537.53 Q1590.65 1532.88 1591.83 1531.53 Q1594.07 1529.01 1594.95 1527.27 Q1595.86 1525.51 1595.86 1523.82 Q1595.86 1521.07 1593.91 1519.33 Q1591.99 1517.6 1588.89 1517.6 Q1586.69 1517.6 1584.24 1518.36 Q1581.8 1519.13 1579.03 1520.68 L1579.03 1515.95 Q1581.85 1514.82 1584.3 1514.24 Q1586.76 1513.66 1588.8 1513.66 Q1594.17 1513.66 1597.36 1516.35 Q1600.55 1519.03 1600.55 1523.52 Q1600.55 1525.65 1599.74 1527.57 Q1598.96 1529.47 1596.85 1532.07 Q1596.27 1532.74 1593.17 1535.95 Q1590.07 1539.15 1584.42 1544.91 Z\" fill=\"#000000\" fill-rule=\"evenodd\" fill-opacity=\"1\" /><path clip-path=\"url(#clip340)\" d=\"M1620.55 1517.37 Q1616.94 1517.37 1615.11 1520.93 Q1613.31 1524.47 1613.31 1531.6 Q1613.31 1538.71 1615.11 1542.27 Q1616.94 1545.82 1620.55 1545.82 Q1624.19 1545.82 1625.99 1542.27 Q1627.82 1538.71 1627.82 1531.6 Q1627.82 1524.47 1625.99 1520.93 Q1624.19 1517.37 1620.55 1517.37 M1620.55 1513.66 Q1626.36 1513.66 1629.42 1518.27 Q1632.5 1522.85 1632.5 1531.6 Q1632.5 1540.33 1629.42 1544.94 Q1626.36 1549.52 1620.55 1549.52 Q1614.74 1549.52 1611.67 1544.94 Q1608.61 1540.33 1608.61 1531.6 Q1608.61 1522.85 1611.67 1518.27 Q1614.74 1513.66 1620.55 1513.66 Z\" fill=\"#000000\" fill-rule=\"evenodd\" fill-opacity=\"1\" /><path clip-path=\"url(#clip340)\" d=\"M1958.47 1544.91 L1974.79 1544.91 L1974.79 1548.85 L1952.85 1548.85 L1952.85 1544.91 Q1955.51 1542.16 1960.09 1537.53 Q1964.7 1532.88 1965.88 1531.53 Q1968.13 1529.01 1969 1527.27 Q1969.91 1525.51 1969.91 1523.82 Q1969.91 1521.07 1967.96 1519.33 Q1966.04 1517.6 1962.94 1517.6 Q1960.74 1517.6 1958.29 1518.36 Q1955.86 1519.13 1953.08 1520.68 L1953.08 1515.95 Q1955.9 1514.82 1958.36 1514.24 Q1960.81 1513.66 1962.85 1513.66 Q1968.22 1513.66 1971.41 1516.35 Q1974.61 1519.03 1974.61 1523.52 Q1974.61 1525.65 1973.8 1527.57 Q1973.01 1529.47 1970.9 1532.07 Q1970.32 1532.74 1967.22 1535.95 Q1964.12 1539.15 1958.47 1544.91 Z\" fill=\"#000000\" fill-rule=\"evenodd\" fill-opacity=\"1\" /><path clip-path=\"url(#clip340)\" d=\"M1984.65 1514.29 L2003.01 1514.29 L2003.01 1518.22 L1988.94 1518.22 L1988.94 1526.7 Q1989.95 1526.35 1990.97 1526.19 Q1991.99 1526 1993.01 1526 Q1998.8 1526 2002.18 1529.17 Q2005.56 1532.34 2005.56 1537.76 Q2005.56 1543.34 2002.08 1546.44 Q1998.61 1549.52 1992.29 1549.52 Q1990.12 1549.52 1987.85 1549.15 Q1985.6 1548.78 1983.19 1548.04 L1983.19 1543.34 Q1985.28 1544.47 1987.5 1545.03 Q1989.72 1545.58 1992.2 1545.58 Q1996.2 1545.58 1998.54 1543.48 Q2000.88 1541.37 2000.88 1537.76 Q2000.88 1534.15 1998.54 1532.04 Q1996.2 1529.94 1992.2 1529.94 Q1990.32 1529.94 1988.45 1530.35 Q1986.6 1530.77 1984.65 1531.65 L1984.65 1514.29 Z\" fill=\"#000000\" fill-rule=\"evenodd\" fill-opacity=\"1\" /><path clip-path=\"url(#clip340)\" d=\"M2341.6 1530.21 Q2344.96 1530.93 2346.83 1533.2 Q2348.73 1535.47 2348.73 1538.8 Q2348.73 1543.92 2345.21 1546.72 Q2341.69 1549.52 2335.21 1549.52 Q2333.03 1549.52 2330.72 1549.08 Q2328.43 1548.66 2325.97 1547.81 L2325.97 1543.29 Q2327.92 1544.43 2330.23 1545.01 Q2332.55 1545.58 2335.07 1545.58 Q2339.47 1545.58 2341.76 1543.85 Q2344.08 1542.11 2344.08 1538.8 Q2344.08 1535.75 2341.92 1534.03 Q2339.79 1532.3 2335.97 1532.3 L2331.95 1532.3 L2331.95 1528.45 L2336.16 1528.45 Q2339.61 1528.45 2341.44 1527.09 Q2343.27 1525.7 2343.27 1523.11 Q2343.27 1520.45 2341.37 1519.03 Q2339.49 1517.6 2335.97 1517.6 Q2334.05 1517.6 2331.85 1518.01 Q2329.65 1518.43 2327.02 1519.31 L2327.02 1515.14 Q2329.68 1514.4 2331.99 1514.03 Q2334.33 1513.66 2336.39 1513.66 Q2341.71 1513.66 2344.82 1516.09 Q2347.92 1518.5 2347.92 1522.62 Q2347.92 1525.49 2346.27 1527.48 Q2344.63 1529.45 2341.6 1530.21 Z\" fill=\"#000000\" fill-rule=\"evenodd\" fill-opacity=\"1\" /><path clip-path=\"url(#clip340)\" d=\"M2367.59 1517.37 Q2363.98 1517.37 2362.15 1520.93 Q2360.35 1524.47 2360.35 1531.6 Q2360.35 1538.71 2362.15 1542.27 Q2363.98 1545.82 2367.59 1545.82 Q2371.23 1545.82 2373.03 1542.27 Q2374.86 1538.71 2374.86 1531.6 Q2374.86 1524.47 2373.03 1520.93 Q2371.23 1517.37 2367.59 1517.37 M2367.59 1513.66 Q2373.4 1513.66 2376.46 1518.27 Q2379.54 1522.85 2379.54 1531.6 Q2379.54 1540.33 2376.46 1544.94 Q2373.4 1549.52 2367.59 1549.52 Q2361.78 1549.52 2358.7 1544.94 Q2355.65 1540.33 2355.65 1531.6 Q2355.65 1522.85 2358.7 1518.27 Q2361.78 1513.66 2367.59 1513.66 Z\" fill=\"#000000\" fill-rule=\"evenodd\" fill-opacity=\"1\" /><polyline clip-path=\"url(#clip342)\" style=\"stroke:#000000; stroke-linecap:butt; stroke-linejoin:round; stroke-width:2; stroke-opacity:0.1; fill:none\" points=\"\n  112.177,1468.42 2352.76,1468.42 \n  \"/>\n<polyline clip-path=\"url(#clip342)\" style=\"stroke:#000000; stroke-linecap:butt; stroke-linejoin:round; stroke-width:2; stroke-opacity:0.1; fill:none\" points=\"\n  112.177,1241.36 2352.76,1241.36 \n  \"/>\n<polyline clip-path=\"url(#clip342)\" style=\"stroke:#000000; stroke-linecap:butt; stroke-linejoin:round; stroke-width:2; stroke-opacity:0.1; fill:none\" points=\"\n  112.177,1014.29 2352.76,1014.29 \n  \"/>\n<polyline clip-path=\"url(#clip342)\" style=\"stroke:#000000; stroke-linecap:butt; stroke-linejoin:round; stroke-width:2; stroke-opacity:0.1; fill:none\" points=\"\n  112.177,787.225 2352.76,787.225 \n  \"/>\n<polyline clip-path=\"url(#clip342)\" style=\"stroke:#000000; stroke-linecap:butt; stroke-linejoin:round; stroke-width:2; stroke-opacity:0.1; fill:none\" points=\"\n  112.177,560.159 2352.76,560.159 \n  \"/>\n<polyline clip-path=\"url(#clip342)\" style=\"stroke:#000000; stroke-linecap:butt; stroke-linejoin:round; stroke-width:2; stroke-opacity:0.1; fill:none\" points=\"\n  112.177,333.094 2352.76,333.094 \n  \"/>\n<polyline clip-path=\"url(#clip342)\" style=\"stroke:#000000; stroke-linecap:butt; stroke-linejoin:round; stroke-width:2; stroke-opacity:0.1; fill:none\" points=\"\n  112.177,106.028 2352.76,106.028 \n  \"/>\n<polyline clip-path=\"url(#clip340)\" style=\"stroke:#000000; stroke-linecap:butt; stroke-linejoin:round; stroke-width:4; stroke-opacity:1; fill:none\" points=\"\n  112.177,1486.45 112.177,47.2441 \n  \"/>\n<polyline clip-path=\"url(#clip340)\" style=\"stroke:#000000; stroke-linecap:butt; stroke-linejoin:round; stroke-width:4; stroke-opacity:1; fill:none\" points=\"\n  112.177,1468.42 131.075,1468.42 \n  \"/>\n<polyline clip-path=\"url(#clip340)\" style=\"stroke:#000000; stroke-linecap:butt; stroke-linejoin:round; stroke-width:4; stroke-opacity:1; fill:none\" points=\"\n  112.177,1241.36 131.075,1241.36 \n  \"/>\n<polyline clip-path=\"url(#clip340)\" style=\"stroke:#000000; stroke-linecap:butt; stroke-linejoin:round; stroke-width:4; stroke-opacity:1; fill:none\" points=\"\n  112.177,1014.29 131.075,1014.29 \n  \"/>\n<polyline clip-path=\"url(#clip340)\" style=\"stroke:#000000; stroke-linecap:butt; stroke-linejoin:round; stroke-width:4; stroke-opacity:1; fill:none\" points=\"\n  112.177,787.225 131.075,787.225 \n  \"/>\n<polyline clip-path=\"url(#clip340)\" style=\"stroke:#000000; stroke-linecap:butt; stroke-linejoin:round; stroke-width:4; stroke-opacity:1; fill:none\" points=\"\n  112.177,560.159 131.075,560.159 \n  \"/>\n<polyline clip-path=\"url(#clip340)\" style=\"stroke:#000000; stroke-linecap:butt; stroke-linejoin:round; stroke-width:4; stroke-opacity:1; fill:none\" points=\"\n  112.177,333.094 131.075,333.094 \n  \"/>\n<polyline clip-path=\"url(#clip340)\" style=\"stroke:#000000; stroke-linecap:butt; stroke-linejoin:round; stroke-width:4; stroke-opacity:1; fill:none\" points=\"\n  112.177,106.028 131.075,106.028 \n  \"/>\n<path clip-path=\"url(#clip340)\" d=\"M64.2328 1454.22 Q60.6217 1454.22 58.793 1457.79 Q56.9875 1461.33 56.9875 1468.46 Q56.9875 1475.56 58.793 1479.13 Q60.6217 1482.67 64.2328 1482.67 Q67.867 1482.67 69.6726 1479.13 Q71.5013 1475.56 71.5013 1468.46 Q71.5013 1461.33 69.6726 1457.79 Q67.867 1454.22 64.2328 1454.22 M64.2328 1450.52 Q70.0429 1450.52 73.0985 1455.12 Q76.1772 1459.71 76.1772 1468.46 Q76.1772 1477.18 73.0985 1481.79 Q70.0429 1486.37 64.2328 1486.37 Q58.4226 1486.37 55.344 1481.79 Q52.2884 1477.18 52.2884 1468.46 Q52.2884 1459.71 55.344 1455.12 Q58.4226 1450.52 64.2328 1450.52 Z\" fill=\"#000000\" fill-rule=\"evenodd\" fill-opacity=\"1\" /><path clip-path=\"url(#clip340)\" d=\"M56.2699 1254.7 L63.9087 1254.7 L63.9087 1228.34 L55.5986 1230 L55.5986 1225.74 L63.8624 1224.08 L68.5383 1224.08 L68.5383 1254.7 L76.1772 1254.7 L76.1772 1258.64 L56.2699 1258.64 L56.2699 1254.7 Z\" fill=\"#000000\" fill-rule=\"evenodd\" fill-opacity=\"1\" /><path clip-path=\"url(#clip340)\" d=\"M59.8578 1027.64 L76.1772 1027.64 L76.1772 1031.57 L54.2328 1031.57 L54.2328 1027.64 Q56.8949 1024.88 61.4782 1020.25 Q66.0846 1015.6 67.2652 1014.26 Q69.5105 1011.73 70.3902 1010 Q71.2929 1008.24 71.2929 1006.55 Q71.2929 1003.79 69.3485 1002.06 Q67.4272 1000.32 64.3254 1000.32 Q62.1263 1000.32 59.6726 1001.08 Q57.2421 1001.85 54.4643 1003.4 L54.4643 998.678 Q57.2884 997.543 59.7421 996.965 Q62.1958 996.386 64.2328 996.386 Q69.6031 996.386 72.7976 999.071 Q75.992 1001.76 75.992 1006.25 Q75.992 1008.38 75.1818 1010.3 Q74.3948 1012.2 72.2883 1014.79 Q71.7096 1015.46 68.6078 1018.68 Q65.5059 1021.87 59.8578 1027.64 Z\" fill=\"#000000\" fill-rule=\"evenodd\" fill-opacity=\"1\" /><path clip-path=\"url(#clip340)\" d=\"M69.0476 785.871 Q72.404 786.589 74.279 788.857 Q76.1772 791.126 76.1772 794.459 Q76.1772 799.575 72.6587 802.376 Q69.1402 805.176 62.6587 805.176 Q60.4828 805.176 58.168 804.737 Q55.8764 804.32 53.4227 803.463 L53.4227 798.95 Q55.3671 800.084 57.6819 800.663 Q59.9967 801.241 62.5198 801.241 Q66.918 801.241 69.2096 799.505 Q71.5244 797.769 71.5244 794.459 Q71.5244 791.403 69.3717 789.69 Q67.242 787.954 63.4226 787.954 L59.3949 787.954 L59.3949 784.112 L63.6078 784.112 Q67.0569 784.112 68.8855 782.746 Q70.7142 781.357 70.7142 778.765 Q70.7142 776.103 68.8161 774.69 Q66.9411 773.255 63.4226 773.255 Q61.5013 773.255 59.3023 773.672 Q57.1032 774.089 54.4643 774.968 L54.4643 770.802 Q57.1264 770.061 59.4412 769.691 Q61.7791 769.32 63.8393 769.32 Q69.1633 769.32 72.2652 771.751 Q75.367 774.158 75.367 778.278 Q75.367 781.149 73.7235 783.14 Q72.08 785.107 69.0476 785.871 Z\" fill=\"#000000\" fill-rule=\"evenodd\" fill-opacity=\"1\" /><path clip-path=\"url(#clip340)\" d=\"M66.5939 546.953 L54.7884 565.402 L66.5939 565.402 L66.5939 546.953 M65.367 542.879 L71.2466 542.879 L71.2466 565.402 L76.1772 565.402 L76.1772 569.291 L71.2466 569.291 L71.2466 577.439 L66.5939 577.439 L66.5939 569.291 L50.9921 569.291 L50.9921 564.777 L65.367 542.879 Z\" fill=\"#000000\" fill-rule=\"evenodd\" fill-opacity=\"1\" /><path clip-path=\"url(#clip340)\" d=\"M55.2745 315.814 L73.6309 315.814 L73.6309 319.749 L59.5569 319.749 L59.5569 328.221 Q60.5754 327.874 61.5939 327.712 Q62.6124 327.527 63.6309 327.527 Q69.418 327.527 72.7976 330.698 Q76.1772 333.869 76.1772 339.286 Q76.1772 344.864 72.705 347.966 Q69.2328 351.045 62.9134 351.045 Q60.7374 351.045 58.4689 350.675 Q56.2236 350.304 53.8162 349.564 L53.8162 344.864 Q55.8995 345.999 58.1217 346.554 Q60.3439 347.11 62.8208 347.11 Q66.8254 347.11 69.1633 345.003 Q71.5013 342.897 71.5013 339.286 Q71.5013 335.675 69.1633 333.568 Q66.8254 331.462 62.8208 331.462 Q60.9458 331.462 59.0708 331.878 Q57.2189 332.295 55.2745 333.175 L55.2745 315.814 Z\" fill=\"#000000\" fill-rule=\"evenodd\" fill-opacity=\"1\" /><path clip-path=\"url(#clip340)\" d=\"M64.6495 104.165 Q61.5013 104.165 59.6495 106.317 Q57.8208 108.47 57.8208 112.22 Q57.8208 115.947 59.6495 118.123 Q61.5013 120.276 64.6495 120.276 Q67.7976 120.276 69.6263 118.123 Q71.4781 115.947 71.4781 112.22 Q71.4781 108.47 69.6263 106.317 Q67.7976 104.165 64.6495 104.165 M73.9318 89.5119 L73.9318 93.7711 Q72.1726 92.9378 70.367 92.498 Q68.5846 92.0582 66.8254 92.0582 Q62.1958 92.0582 59.7421 95.1832 Q57.3115 98.3081 56.9643 104.628 Q58.33 102.614 60.3902 101.549 Q62.4504 100.461 64.9272 100.461 Q70.1355 100.461 73.1448 103.632 Q76.1772 106.78 76.1772 112.22 Q76.1772 117.544 73.029 120.762 Q69.8809 123.979 64.6495 123.979 Q58.6541 123.979 55.4828 119.396 Q52.3116 114.79 52.3116 106.063 Q52.3116 97.8683 56.2004 93.0072 Q60.0893 88.123 66.6402 88.123 Q68.3994 88.123 70.1818 88.4702 Q71.9874 88.8174 73.9318 89.5119 Z\" fill=\"#000000\" fill-rule=\"evenodd\" fill-opacity=\"1\" /><polyline clip-path=\"url(#clip342)\" style=\"stroke:#009af9; stroke-linecap:butt; stroke-linejoin:round; stroke-width:4; stroke-opacity:1; fill:none\" points=\"\n  112.177,1434.3 117.647,1401.78 123.118,1378.39 128.588,1359.56 134.058,1343.45 159.349,1286.57 184.639,1243.65 209.929,1207.7 235.219,1176.14 285.8,1121.53 \n  336.381,1074.39 397.174,1024.25 457.968,979.079 509.368,943.752 560.768,910.468 672.438,843.463 775.388,786.403 885.762,728.795 1013.64,665.416 1127.28,611.354 \n  1226.94,565.297 1335.59,516.233 1444.88,467.863 1565.72,415.325 1680.7,366.091 1800.25,315.548 1900.89,273.434 2023.75,222.475 2139.25,174.967 2324.28,99.5229 \n  2352.76,87.9763 \n  \"/>\n<polyline clip-path=\"url(#clip342)\" style=\"stroke:#e26f46; stroke-linecap:butt; stroke-linejoin:round; stroke-width:8; stroke-opacity:1; fill:none\" stroke-dasharray=\"32, 20\" points=\"\n  112.177,1445.72 117.647,1402.92 123.118,1378.61 128.588,1359.61 134.058,1343.46 159.349,1286.57 184.639,1243.65 209.929,1207.7 235.219,1176.14 285.8,1121.53 \n  336.381,1074.42 397.174,1024.36 457.968,979.393 509.368,944.379 560.768,911.562 672.438,846.202 775.388,791.514 885.762,737.413 1013.64,679.356 1127.28,631.134 \n  1226.94,591.026 1335.59,549.289 1444.88,509.135 1565.72,466.611 1680.7,427.762 1800.25,388.85 1900.89,357.151 2023.75,319.634 2139.25,285.451 2324.28,232.658 \n  2352.76,224.732 \n  \"/>\n<path clip-path=\"url(#clip340)\" d=\"\nM1919.76 1438.47 L2278.07 1438.47 L2278.07 1282.95 L1919.76 1282.95  Z\n  \" fill=\"#ffffff\" fill-rule=\"evenodd\" fill-opacity=\"1\"/>\n<polyline clip-path=\"url(#clip340)\" style=\"stroke:#000000; stroke-linecap:butt; stroke-linejoin:round; stroke-width:4; stroke-opacity:1; fill:none\" points=\"\n  1919.76,1438.47 2278.07,1438.47 2278.07,1282.95 1919.76,1282.95 1919.76,1438.47 \n  \"/>\n<polyline clip-path=\"url(#clip340)\" style=\"stroke:#009af9; stroke-linecap:butt; stroke-linejoin:round; stroke-width:4; stroke-opacity:1; fill:none\" points=\"\n  1943.76,1334.79 2087.76,1334.79 \n  \"/>\n<path clip-path=\"url(#clip340)\" d=\"M2111.76 1316.06 L2116.04 1316.06 L2116.04 1337.33 L2128.75 1326.15 L2134.19 1326.15 L2120.44 1338.28 L2134.77 1352.07 L2129.21 1352.07 L2116.04 1339.41 L2116.04 1352.07 L2111.76 1352.07 L2111.76 1316.06 Z\" fill=\"#000000\" fill-rule=\"evenodd\" fill-opacity=\"1\" /><path clip-path=\"url(#clip340)\" d=\"M2159.07 1359.94 L2159.07 1363.25 L2134.45 1363.25 L2134.45 1359.94 L2159.07 1359.94 Z\" fill=\"#000000\" fill-rule=\"evenodd\" fill-opacity=\"1\" /><path clip-path=\"url(#clip340)\" d=\"M2177.85 1333.44 Q2181.2 1334.16 2183.08 1336.43 Q2184.98 1338.69 2184.98 1342.03 Q2184.98 1347.14 2181.46 1349.94 Q2177.94 1352.75 2171.46 1352.75 Q2169.28 1352.75 2166.97 1352.31 Q2164.68 1351.89 2162.22 1351.03 L2162.22 1346.52 Q2164.17 1347.65 2166.48 1348.23 Q2168.8 1348.81 2171.32 1348.81 Q2175.72 1348.81 2178.01 1347.07 Q2180.32 1345.34 2180.32 1342.03 Q2180.32 1338.97 2178.17 1337.26 Q2176.04 1335.52 2172.22 1335.52 L2168.2 1335.52 L2168.2 1331.68 L2172.41 1331.68 Q2175.86 1331.68 2177.69 1330.32 Q2179.51 1328.93 2179.51 1326.33 Q2179.51 1323.67 2177.62 1322.26 Q2175.74 1320.82 2172.22 1320.82 Q2170.3 1320.82 2168.1 1321.24 Q2165.9 1321.66 2163.26 1322.54 L2163.26 1318.37 Q2165.93 1317.63 2168.24 1317.26 Q2170.58 1316.89 2172.64 1316.89 Q2177.96 1316.89 2181.07 1319.32 Q2184.17 1321.73 2184.17 1325.85 Q2184.17 1328.72 2182.52 1330.71 Q2180.88 1332.68 2177.85 1333.44 Z\" fill=\"#000000\" fill-rule=\"evenodd\" fill-opacity=\"1\" /><path clip-path=\"url(#clip340)\" d=\"M2212.94 1359.94 L2212.94 1363.25 L2188.31 1363.25 L2188.31 1359.94 L2212.94 1359.94 Z\" fill=\"#000000\" fill-rule=\"evenodd\" fill-opacity=\"1\" /><path clip-path=\"url(#clip340)\" d=\"M2230.07 1316.06 L2230.07 1319.6 L2226 1319.6 Q2223.7 1319.6 2222.8 1320.52 Q2221.92 1321.45 2221.92 1323.86 L2221.92 1326.15 L2228.94 1326.15 L2228.94 1329.46 L2221.92 1329.46 L2221.92 1352.07 L2217.64 1352.07 L2217.64 1329.46 L2213.57 1329.46 L2213.57 1326.15 L2217.64 1326.15 L2217.64 1324.34 Q2217.64 1320.01 2219.65 1318.05 Q2221.67 1316.06 2226.04 1316.06 L2230.07 1316.06 Z\" fill=\"#000000\" fill-rule=\"evenodd\" fill-opacity=\"1\" /><polyline clip-path=\"url(#clip340)\" style=\"stroke:#e26f46; stroke-linecap:butt; stroke-linejoin:round; stroke-width:4; stroke-opacity:1; fill:none\" stroke-dasharray=\"16, 10\" points=\"\n  1943.76,1386.63 2087.76,1386.63 \n  \"/>\n<path clip-path=\"url(#clip340)\" d=\"M2130.19 1378.75 L2130.19 1382.78 Q2128.38 1381.85 2126.44 1381.39 Q2124.49 1380.93 2122.41 1380.93 Q2119.24 1380.93 2117.64 1381.9 Q2116.07 1382.87 2116.07 1384.82 Q2116.07 1386.3 2117.2 1387.16 Q2118.33 1387.99 2121.76 1388.75 L2123.22 1389.08 Q2127.76 1390.05 2129.65 1391.83 Q2131.58 1393.59 2131.58 1396.76 Q2131.58 1400.37 2128.7 1402.48 Q2125.86 1404.59 2120.86 1404.59 Q2118.77 1404.59 2116.51 1404.17 Q2114.26 1403.78 2111.76 1402.97 L2111.76 1398.57 Q2114.12 1399.79 2116.41 1400.42 Q2118.7 1401.02 2120.95 1401.02 Q2123.96 1401.02 2125.58 1400 Q2127.2 1398.96 2127.2 1397.09 Q2127.2 1395.35 2126.02 1394.42 Q2124.86 1393.5 2120.9 1392.64 L2119.42 1392.29 Q2115.46 1391.46 2113.7 1389.75 Q2111.95 1388.01 2111.95 1385 Q2111.95 1381.35 2114.54 1379.35 Q2117.13 1377.36 2121.9 1377.36 Q2124.26 1377.36 2126.34 1377.71 Q2128.43 1378.06 2130.19 1378.75 Z\" fill=\"#000000\" fill-rule=\"evenodd\" fill-opacity=\"1\" /><path clip-path=\"url(#clip340)\" d=\"M2140.9 1390.97 Q2140.9 1395.67 2142.83 1398.36 Q2144.77 1401.02 2148.15 1401.02 Q2151.53 1401.02 2153.47 1398.36 Q2155.42 1395.67 2155.42 1390.97 Q2155.42 1386.28 2153.47 1383.61 Q2151.53 1380.93 2148.15 1380.93 Q2144.77 1380.93 2142.83 1383.61 Q2140.9 1386.28 2140.9 1390.97 M2155.42 1400.03 Q2154.07 1402.34 2152.01 1403.47 Q2149.98 1404.59 2147.11 1404.59 Q2142.41 1404.59 2139.45 1400.84 Q2136.51 1397.09 2136.51 1390.97 Q2136.51 1384.86 2139.45 1381.11 Q2142.41 1377.36 2147.11 1377.36 Q2149.98 1377.36 2152.01 1378.5 Q2154.07 1379.61 2155.42 1381.92 L2155.42 1377.99 L2159.68 1377.99 L2159.68 1413.78 L2155.42 1413.78 L2155.42 1400.03 Z\" fill=\"#000000\" fill-rule=\"evenodd\" fill-opacity=\"1\" /><path clip-path=\"url(#clip340)\" d=\"M2183.47 1381.97 Q2182.76 1381.55 2181.9 1381.37 Q2181.07 1381.16 2180.05 1381.16 Q2176.44 1381.16 2174.49 1383.52 Q2172.57 1385.86 2172.57 1390.26 L2172.57 1403.91 L2168.29 1403.91 L2168.29 1377.99 L2172.57 1377.99 L2172.57 1382.02 Q2173.91 1379.66 2176.07 1378.52 Q2178.22 1377.36 2181.3 1377.36 Q2181.74 1377.36 2182.27 1377.43 Q2182.8 1377.48 2183.45 1377.6 L2183.47 1381.97 Z\" fill=\"#000000\" fill-rule=\"evenodd\" fill-opacity=\"1\" /><path clip-path=\"url(#clip340)\" d=\"M2192.15 1370.63 L2192.15 1377.99 L2200.93 1377.99 L2200.93 1381.3 L2192.15 1381.3 L2192.15 1395.37 Q2192.15 1398.54 2193.01 1399.45 Q2193.89 1400.35 2196.55 1400.35 L2200.93 1400.35 L2200.93 1403.91 L2196.55 1403.91 Q2191.62 1403.91 2189.75 1402.09 Q2187.87 1400.23 2187.87 1395.37 L2187.87 1381.3 L2184.75 1381.3 L2184.75 1377.99 L2187.87 1377.99 L2187.87 1370.63 L2192.15 1370.63 Z\" fill=\"#000000\" fill-rule=\"evenodd\" fill-opacity=\"1\" /></svg>\n",
      "text/html": [
       "<?xml version=\"1.0\" encoding=\"utf-8\"?>\n",
       "<svg xmlns=\"http://www.w3.org/2000/svg\" xmlns:xlink=\"http://www.w3.org/1999/xlink\" width=\"600\" height=\"400\" viewBox=\"0 0 2400 1600\">\n",
       "<defs>\n",
       "  <clipPath id=\"clip390\">\n",
       "    <rect x=\"0\" y=\"0\" width=\"2400\" height=\"1600\"/>\n",
       "  </clipPath>\n",
       "</defs>\n",
       "<path clip-path=\"url(#clip390)\" d=\"\n",
       "M0 1600 L2400 1600 L2400 0 L0 0  Z\n",
       "  \" fill=\"#ffffff\" fill-rule=\"evenodd\" fill-opacity=\"1\"/>\n",
       "<defs>\n",
       "  <clipPath id=\"clip391\">\n",
       "    <rect x=\"480\" y=\"0\" width=\"1681\" height=\"1600\"/>\n",
       "  </clipPath>\n",
       "</defs>\n",
       "<path clip-path=\"url(#clip390)\" d=\"\n",
       "M112.177 1486.45 L2352.76 1486.45 L2352.76 47.2441 L112.177 47.2441  Z\n",
       "  \" fill=\"#ffffff\" fill-rule=\"evenodd\" fill-opacity=\"1\"/>\n",
       "<defs>\n",
       "  <clipPath id=\"clip392\">\n",
       "    <rect x=\"112\" y=\"47\" width=\"2242\" height=\"1440\"/>\n",
       "  </clipPath>\n",
       "</defs>\n",
       "<polyline clip-path=\"url(#clip392)\" style=\"stroke:#000000; stroke-linecap:butt; stroke-linejoin:round; stroke-width:2; stroke-opacity:0.1; fill:none\" points=\"\n",
       "  484.984,1486.45 484.984,47.2441 \n",
       "  \"/>\n",
       "<polyline clip-path=\"url(#clip392)\" style=\"stroke:#000000; stroke-linecap:butt; stroke-linejoin:round; stroke-width:2; stroke-opacity:0.1; fill:none\" points=\"\n",
       "  858.539,1486.45 858.539,47.2441 \n",
       "  \"/>\n",
       "<polyline clip-path=\"url(#clip392)\" style=\"stroke:#000000; stroke-linecap:butt; stroke-linejoin:round; stroke-width:2; stroke-opacity:0.1; fill:none\" points=\"\n",
       "  1232.09,1486.45 1232.09,47.2441 \n",
       "  \"/>\n",
       "<polyline clip-path=\"url(#clip392)\" style=\"stroke:#000000; stroke-linecap:butt; stroke-linejoin:round; stroke-width:2; stroke-opacity:0.1; fill:none\" points=\"\n",
       "  1605.65,1486.45 1605.65,47.2441 \n",
       "  \"/>\n",
       "<polyline clip-path=\"url(#clip392)\" style=\"stroke:#000000; stroke-linecap:butt; stroke-linejoin:round; stroke-width:2; stroke-opacity:0.1; fill:none\" points=\"\n",
       "  1979.2,1486.45 1979.2,47.2441 \n",
       "  \"/>\n",
       "<polyline clip-path=\"url(#clip392)\" style=\"stroke:#000000; stroke-linecap:butt; stroke-linejoin:round; stroke-width:2; stroke-opacity:0.1; fill:none\" points=\"\n",
       "  2352.76,1486.45 2352.76,47.2441 \n",
       "  \"/>\n",
       "<polyline clip-path=\"url(#clip390)\" style=\"stroke:#000000; stroke-linecap:butt; stroke-linejoin:round; stroke-width:4; stroke-opacity:1; fill:none\" points=\"\n",
       "  112.177,1486.45 2352.76,1486.45 \n",
       "  \"/>\n",
       "<polyline clip-path=\"url(#clip390)\" style=\"stroke:#000000; stroke-linecap:butt; stroke-linejoin:round; stroke-width:4; stroke-opacity:1; fill:none\" points=\"\n",
       "  484.984,1486.45 484.984,1467.55 \n",
       "  \"/>\n",
       "<polyline clip-path=\"url(#clip390)\" style=\"stroke:#000000; stroke-linecap:butt; stroke-linejoin:round; stroke-width:4; stroke-opacity:1; fill:none\" points=\"\n",
       "  858.539,1486.45 858.539,1467.55 \n",
       "  \"/>\n",
       "<polyline clip-path=\"url(#clip390)\" style=\"stroke:#000000; stroke-linecap:butt; stroke-linejoin:round; stroke-width:4; stroke-opacity:1; fill:none\" points=\"\n",
       "  1232.09,1486.45 1232.09,1467.55 \n",
       "  \"/>\n",
       "<polyline clip-path=\"url(#clip390)\" style=\"stroke:#000000; stroke-linecap:butt; stroke-linejoin:round; stroke-width:4; stroke-opacity:1; fill:none\" points=\"\n",
       "  1605.65,1486.45 1605.65,1467.55 \n",
       "  \"/>\n",
       "<polyline clip-path=\"url(#clip390)\" style=\"stroke:#000000; stroke-linecap:butt; stroke-linejoin:round; stroke-width:4; stroke-opacity:1; fill:none\" points=\"\n",
       "  1979.2,1486.45 1979.2,1467.55 \n",
       "  \"/>\n",
       "<polyline clip-path=\"url(#clip390)\" style=\"stroke:#000000; stroke-linecap:butt; stroke-linejoin:round; stroke-width:4; stroke-opacity:1; fill:none\" points=\"\n",
       "  2352.76,1486.45 2352.76,1467.55 \n",
       "  \"/>\n",
       "<path clip-path=\"url(#clip390)\" d=\"M475.262 1514.29 L493.619 1514.29 L493.619 1518.22 L479.545 1518.22 L479.545 1526.7 Q480.563 1526.35 481.582 1526.19 Q482.6 1526 483.619 1526 Q489.406 1526 492.785 1529.17 Q496.165 1532.34 496.165 1537.76 Q496.165 1543.34 492.693 1546.44 Q489.22 1549.52 482.901 1549.52 Q480.725 1549.52 478.457 1549.15 Q476.211 1548.78 473.804 1548.04 L473.804 1543.34 Q475.887 1544.47 478.109 1545.03 Q480.332 1545.58 482.808 1545.58 Q486.813 1545.58 489.151 1543.48 Q491.489 1541.37 491.489 1537.76 Q491.489 1534.15 489.151 1532.04 Q486.813 1529.94 482.808 1529.94 Q480.933 1529.94 479.058 1530.35 Q477.207 1530.77 475.262 1531.65 L475.262 1514.29 Z\" fill=\"#000000\" fill-rule=\"evenodd\" fill-opacity=\"1\" /><path clip-path=\"url(#clip390)\" d=\"M833.226 1544.91 L840.865 1544.91 L840.865 1518.55 L832.555 1520.21 L832.555 1515.95 L840.819 1514.29 L845.495 1514.29 L845.495 1544.91 L853.134 1544.91 L853.134 1548.85 L833.226 1548.85 L833.226 1544.91 Z\" fill=\"#000000\" fill-rule=\"evenodd\" fill-opacity=\"1\" /><path clip-path=\"url(#clip390)\" d=\"M872.578 1517.37 Q868.967 1517.37 867.138 1520.93 Q865.333 1524.47 865.333 1531.6 Q865.333 1538.71 867.138 1542.27 Q868.967 1545.82 872.578 1545.82 Q876.212 1545.82 878.018 1542.27 Q879.846 1538.71 879.846 1531.6 Q879.846 1524.47 878.018 1520.93 Q876.212 1517.37 872.578 1517.37 M872.578 1513.66 Q878.388 1513.66 881.444 1518.27 Q884.522 1522.85 884.522 1531.6 Q884.522 1540.33 881.444 1544.94 Q878.388 1549.52 872.578 1549.52 Q866.768 1549.52 863.689 1544.94 Q860.634 1540.33 860.634 1531.6 Q860.634 1522.85 863.689 1518.27 Q866.768 1513.66 872.578 1513.66 Z\" fill=\"#000000\" fill-rule=\"evenodd\" fill-opacity=\"1\" /><path clip-path=\"url(#clip390)\" d=\"M1207.28 1544.91 L1214.92 1544.91 L1214.92 1518.55 L1206.61 1520.21 L1206.61 1515.95 L1214.87 1514.29 L1219.55 1514.29 L1219.55 1544.91 L1227.19 1544.91 L1227.19 1548.85 L1207.28 1548.85 L1207.28 1544.91 Z\" fill=\"#000000\" fill-rule=\"evenodd\" fill-opacity=\"1\" /><path clip-path=\"url(#clip390)\" d=\"M1236.68 1514.29 L1255.03 1514.29 L1255.03 1518.22 L1240.96 1518.22 L1240.96 1526.7 Q1241.98 1526.35 1243 1526.19 Q1244.01 1526 1245.03 1526 Q1250.82 1526 1254.2 1529.17 Q1257.58 1532.34 1257.58 1537.76 Q1257.58 1543.34 1254.11 1546.44 Q1250.63 1549.52 1244.32 1549.52 Q1242.14 1549.52 1239.87 1549.15 Q1237.63 1548.78 1235.22 1548.04 L1235.22 1543.34 Q1237.3 1544.47 1239.52 1545.03 Q1241.75 1545.58 1244.22 1545.58 Q1248.23 1545.58 1250.57 1543.48 Q1252.9 1541.37 1252.9 1537.76 Q1252.9 1534.15 1250.57 1532.04 Q1248.23 1529.94 1244.22 1529.94 Q1242.35 1529.94 1240.47 1530.35 Q1238.62 1530.77 1236.68 1531.65 L1236.68 1514.29 Z\" fill=\"#000000\" fill-rule=\"evenodd\" fill-opacity=\"1\" /><path clip-path=\"url(#clip390)\" d=\"M1584.42 1544.91 L1600.74 1544.91 L1600.74 1548.85 L1578.8 1548.85 L1578.8 1544.91 Q1581.46 1542.16 1586.04 1537.53 Q1590.65 1532.88 1591.83 1531.53 Q1594.07 1529.01 1594.95 1527.27 Q1595.86 1525.51 1595.86 1523.82 Q1595.86 1521.07 1593.91 1519.33 Q1591.99 1517.6 1588.89 1517.6 Q1586.69 1517.6 1584.24 1518.36 Q1581.8 1519.13 1579.03 1520.68 L1579.03 1515.95 Q1581.85 1514.82 1584.3 1514.24 Q1586.76 1513.66 1588.8 1513.66 Q1594.17 1513.66 1597.36 1516.35 Q1600.55 1519.03 1600.55 1523.52 Q1600.55 1525.65 1599.74 1527.57 Q1598.96 1529.47 1596.85 1532.07 Q1596.27 1532.74 1593.17 1535.95 Q1590.07 1539.15 1584.42 1544.91 Z\" fill=\"#000000\" fill-rule=\"evenodd\" fill-opacity=\"1\" /><path clip-path=\"url(#clip390)\" d=\"M1620.55 1517.37 Q1616.94 1517.37 1615.11 1520.93 Q1613.31 1524.47 1613.31 1531.6 Q1613.31 1538.71 1615.11 1542.27 Q1616.94 1545.82 1620.55 1545.82 Q1624.19 1545.82 1625.99 1542.27 Q1627.82 1538.71 1627.82 1531.6 Q1627.82 1524.47 1625.99 1520.93 Q1624.19 1517.37 1620.55 1517.37 M1620.55 1513.66 Q1626.36 1513.66 1629.42 1518.27 Q1632.5 1522.85 1632.5 1531.6 Q1632.5 1540.33 1629.42 1544.94 Q1626.36 1549.52 1620.55 1549.52 Q1614.74 1549.52 1611.67 1544.94 Q1608.61 1540.33 1608.61 1531.6 Q1608.61 1522.85 1611.67 1518.27 Q1614.74 1513.66 1620.55 1513.66 Z\" fill=\"#000000\" fill-rule=\"evenodd\" fill-opacity=\"1\" /><path clip-path=\"url(#clip390)\" d=\"M1958.47 1544.91 L1974.79 1544.91 L1974.79 1548.85 L1952.85 1548.85 L1952.85 1544.91 Q1955.51 1542.16 1960.09 1537.53 Q1964.7 1532.88 1965.88 1531.53 Q1968.13 1529.01 1969 1527.27 Q1969.91 1525.51 1969.91 1523.82 Q1969.91 1521.07 1967.96 1519.33 Q1966.04 1517.6 1962.94 1517.6 Q1960.74 1517.6 1958.29 1518.36 Q1955.86 1519.13 1953.08 1520.68 L1953.08 1515.95 Q1955.9 1514.82 1958.36 1514.24 Q1960.81 1513.66 1962.85 1513.66 Q1968.22 1513.66 1971.41 1516.35 Q1974.61 1519.03 1974.61 1523.52 Q1974.61 1525.65 1973.8 1527.57 Q1973.01 1529.47 1970.9 1532.07 Q1970.32 1532.74 1967.22 1535.95 Q1964.12 1539.15 1958.47 1544.91 Z\" fill=\"#000000\" fill-rule=\"evenodd\" fill-opacity=\"1\" /><path clip-path=\"url(#clip390)\" d=\"M1984.65 1514.29 L2003.01 1514.29 L2003.01 1518.22 L1988.94 1518.22 L1988.94 1526.7 Q1989.95 1526.35 1990.97 1526.19 Q1991.99 1526 1993.01 1526 Q1998.8 1526 2002.18 1529.17 Q2005.56 1532.34 2005.56 1537.76 Q2005.56 1543.34 2002.08 1546.44 Q1998.61 1549.52 1992.29 1549.52 Q1990.12 1549.52 1987.85 1549.15 Q1985.6 1548.78 1983.19 1548.04 L1983.19 1543.34 Q1985.28 1544.47 1987.5 1545.03 Q1989.72 1545.58 1992.2 1545.58 Q1996.2 1545.58 1998.54 1543.48 Q2000.88 1541.37 2000.88 1537.76 Q2000.88 1534.15 1998.54 1532.04 Q1996.2 1529.94 1992.2 1529.94 Q1990.32 1529.94 1988.45 1530.35 Q1986.6 1530.77 1984.65 1531.65 L1984.65 1514.29 Z\" fill=\"#000000\" fill-rule=\"evenodd\" fill-opacity=\"1\" /><path clip-path=\"url(#clip390)\" d=\"M2341.6 1530.21 Q2344.96 1530.93 2346.83 1533.2 Q2348.73 1535.47 2348.73 1538.8 Q2348.73 1543.92 2345.21 1546.72 Q2341.69 1549.52 2335.21 1549.52 Q2333.03 1549.52 2330.72 1549.08 Q2328.43 1548.66 2325.97 1547.81 L2325.97 1543.29 Q2327.92 1544.43 2330.23 1545.01 Q2332.55 1545.58 2335.07 1545.58 Q2339.47 1545.58 2341.76 1543.85 Q2344.08 1542.11 2344.08 1538.8 Q2344.08 1535.75 2341.92 1534.03 Q2339.79 1532.3 2335.97 1532.3 L2331.95 1532.3 L2331.95 1528.45 L2336.16 1528.45 Q2339.61 1528.45 2341.44 1527.09 Q2343.27 1525.7 2343.27 1523.11 Q2343.27 1520.45 2341.37 1519.03 Q2339.49 1517.6 2335.97 1517.6 Q2334.05 1517.6 2331.85 1518.01 Q2329.65 1518.43 2327.02 1519.31 L2327.02 1515.14 Q2329.68 1514.4 2331.99 1514.03 Q2334.33 1513.66 2336.39 1513.66 Q2341.71 1513.66 2344.82 1516.09 Q2347.92 1518.5 2347.92 1522.62 Q2347.92 1525.49 2346.27 1527.48 Q2344.63 1529.45 2341.6 1530.21 Z\" fill=\"#000000\" fill-rule=\"evenodd\" fill-opacity=\"1\" /><path clip-path=\"url(#clip390)\" d=\"M2367.59 1517.37 Q2363.98 1517.37 2362.15 1520.93 Q2360.35 1524.47 2360.35 1531.6 Q2360.35 1538.71 2362.15 1542.27 Q2363.98 1545.82 2367.59 1545.82 Q2371.23 1545.82 2373.03 1542.27 Q2374.86 1538.71 2374.86 1531.6 Q2374.86 1524.47 2373.03 1520.93 Q2371.23 1517.37 2367.59 1517.37 M2367.59 1513.66 Q2373.4 1513.66 2376.46 1518.27 Q2379.54 1522.85 2379.54 1531.6 Q2379.54 1540.33 2376.46 1544.94 Q2373.4 1549.52 2367.59 1549.52 Q2361.78 1549.52 2358.7 1544.94 Q2355.65 1540.33 2355.65 1531.6 Q2355.65 1522.85 2358.7 1518.27 Q2361.78 1513.66 2367.59 1513.66 Z\" fill=\"#000000\" fill-rule=\"evenodd\" fill-opacity=\"1\" /><polyline clip-path=\"url(#clip392)\" style=\"stroke:#000000; stroke-linecap:butt; stroke-linejoin:round; stroke-width:2; stroke-opacity:0.1; fill:none\" points=\"\n",
       "  112.177,1468.42 2352.76,1468.42 \n",
       "  \"/>\n",
       "<polyline clip-path=\"url(#clip392)\" style=\"stroke:#000000; stroke-linecap:butt; stroke-linejoin:round; stroke-width:2; stroke-opacity:0.1; fill:none\" points=\"\n",
       "  112.177,1241.36 2352.76,1241.36 \n",
       "  \"/>\n",
       "<polyline clip-path=\"url(#clip392)\" style=\"stroke:#000000; stroke-linecap:butt; stroke-linejoin:round; stroke-width:2; stroke-opacity:0.1; fill:none\" points=\"\n",
       "  112.177,1014.29 2352.76,1014.29 \n",
       "  \"/>\n",
       "<polyline clip-path=\"url(#clip392)\" style=\"stroke:#000000; stroke-linecap:butt; stroke-linejoin:round; stroke-width:2; stroke-opacity:0.1; fill:none\" points=\"\n",
       "  112.177,787.225 2352.76,787.225 \n",
       "  \"/>\n",
       "<polyline clip-path=\"url(#clip392)\" style=\"stroke:#000000; stroke-linecap:butt; stroke-linejoin:round; stroke-width:2; stroke-opacity:0.1; fill:none\" points=\"\n",
       "  112.177,560.159 2352.76,560.159 \n",
       "  \"/>\n",
       "<polyline clip-path=\"url(#clip392)\" style=\"stroke:#000000; stroke-linecap:butt; stroke-linejoin:round; stroke-width:2; stroke-opacity:0.1; fill:none\" points=\"\n",
       "  112.177,333.094 2352.76,333.094 \n",
       "  \"/>\n",
       "<polyline clip-path=\"url(#clip392)\" style=\"stroke:#000000; stroke-linecap:butt; stroke-linejoin:round; stroke-width:2; stroke-opacity:0.1; fill:none\" points=\"\n",
       "  112.177,106.028 2352.76,106.028 \n",
       "  \"/>\n",
       "<polyline clip-path=\"url(#clip390)\" style=\"stroke:#000000; stroke-linecap:butt; stroke-linejoin:round; stroke-width:4; stroke-opacity:1; fill:none\" points=\"\n",
       "  112.177,1486.45 112.177,47.2441 \n",
       "  \"/>\n",
       "<polyline clip-path=\"url(#clip390)\" style=\"stroke:#000000; stroke-linecap:butt; stroke-linejoin:round; stroke-width:4; stroke-opacity:1; fill:none\" points=\"\n",
       "  112.177,1468.42 131.075,1468.42 \n",
       "  \"/>\n",
       "<polyline clip-path=\"url(#clip390)\" style=\"stroke:#000000; stroke-linecap:butt; stroke-linejoin:round; stroke-width:4; stroke-opacity:1; fill:none\" points=\"\n",
       "  112.177,1241.36 131.075,1241.36 \n",
       "  \"/>\n",
       "<polyline clip-path=\"url(#clip390)\" style=\"stroke:#000000; stroke-linecap:butt; stroke-linejoin:round; stroke-width:4; stroke-opacity:1; fill:none\" points=\"\n",
       "  112.177,1014.29 131.075,1014.29 \n",
       "  \"/>\n",
       "<polyline clip-path=\"url(#clip390)\" style=\"stroke:#000000; stroke-linecap:butt; stroke-linejoin:round; stroke-width:4; stroke-opacity:1; fill:none\" points=\"\n",
       "  112.177,787.225 131.075,787.225 \n",
       "  \"/>\n",
       "<polyline clip-path=\"url(#clip390)\" style=\"stroke:#000000; stroke-linecap:butt; stroke-linejoin:round; stroke-width:4; stroke-opacity:1; fill:none\" points=\"\n",
       "  112.177,560.159 131.075,560.159 \n",
       "  \"/>\n",
       "<polyline clip-path=\"url(#clip390)\" style=\"stroke:#000000; stroke-linecap:butt; stroke-linejoin:round; stroke-width:4; stroke-opacity:1; fill:none\" points=\"\n",
       "  112.177,333.094 131.075,333.094 \n",
       "  \"/>\n",
       "<polyline clip-path=\"url(#clip390)\" style=\"stroke:#000000; stroke-linecap:butt; stroke-linejoin:round; stroke-width:4; stroke-opacity:1; fill:none\" points=\"\n",
       "  112.177,106.028 131.075,106.028 \n",
       "  \"/>\n",
       "<path clip-path=\"url(#clip390)\" d=\"M64.2328 1454.22 Q60.6217 1454.22 58.793 1457.79 Q56.9875 1461.33 56.9875 1468.46 Q56.9875 1475.56 58.793 1479.13 Q60.6217 1482.67 64.2328 1482.67 Q67.867 1482.67 69.6726 1479.13 Q71.5013 1475.56 71.5013 1468.46 Q71.5013 1461.33 69.6726 1457.79 Q67.867 1454.22 64.2328 1454.22 M64.2328 1450.52 Q70.0429 1450.52 73.0985 1455.12 Q76.1772 1459.71 76.1772 1468.46 Q76.1772 1477.18 73.0985 1481.79 Q70.0429 1486.37 64.2328 1486.37 Q58.4226 1486.37 55.344 1481.79 Q52.2884 1477.18 52.2884 1468.46 Q52.2884 1459.71 55.344 1455.12 Q58.4226 1450.52 64.2328 1450.52 Z\" fill=\"#000000\" fill-rule=\"evenodd\" fill-opacity=\"1\" /><path clip-path=\"url(#clip390)\" d=\"M56.2699 1254.7 L63.9087 1254.7 L63.9087 1228.34 L55.5986 1230 L55.5986 1225.74 L63.8624 1224.08 L68.5383 1224.08 L68.5383 1254.7 L76.1772 1254.7 L76.1772 1258.64 L56.2699 1258.64 L56.2699 1254.7 Z\" fill=\"#000000\" fill-rule=\"evenodd\" fill-opacity=\"1\" /><path clip-path=\"url(#clip390)\" d=\"M59.8578 1027.64 L76.1772 1027.64 L76.1772 1031.57 L54.2328 1031.57 L54.2328 1027.64 Q56.8949 1024.88 61.4782 1020.25 Q66.0846 1015.6 67.2652 1014.26 Q69.5105 1011.73 70.3902 1010 Q71.2929 1008.24 71.2929 1006.55 Q71.2929 1003.79 69.3485 1002.06 Q67.4272 1000.32 64.3254 1000.32 Q62.1263 1000.32 59.6726 1001.08 Q57.2421 1001.85 54.4643 1003.4 L54.4643 998.678 Q57.2884 997.543 59.7421 996.965 Q62.1958 996.386 64.2328 996.386 Q69.6031 996.386 72.7976 999.071 Q75.992 1001.76 75.992 1006.25 Q75.992 1008.38 75.1818 1010.3 Q74.3948 1012.2 72.2883 1014.79 Q71.7096 1015.46 68.6078 1018.68 Q65.5059 1021.87 59.8578 1027.64 Z\" fill=\"#000000\" fill-rule=\"evenodd\" fill-opacity=\"1\" /><path clip-path=\"url(#clip390)\" d=\"M69.0476 785.871 Q72.404 786.589 74.279 788.857 Q76.1772 791.126 76.1772 794.459 Q76.1772 799.575 72.6587 802.376 Q69.1402 805.176 62.6587 805.176 Q60.4828 805.176 58.168 804.737 Q55.8764 804.32 53.4227 803.463 L53.4227 798.95 Q55.3671 800.084 57.6819 800.663 Q59.9967 801.241 62.5198 801.241 Q66.918 801.241 69.2096 799.505 Q71.5244 797.769 71.5244 794.459 Q71.5244 791.403 69.3717 789.69 Q67.242 787.954 63.4226 787.954 L59.3949 787.954 L59.3949 784.112 L63.6078 784.112 Q67.0569 784.112 68.8855 782.746 Q70.7142 781.357 70.7142 778.765 Q70.7142 776.103 68.8161 774.69 Q66.9411 773.255 63.4226 773.255 Q61.5013 773.255 59.3023 773.672 Q57.1032 774.089 54.4643 774.968 L54.4643 770.802 Q57.1264 770.061 59.4412 769.691 Q61.7791 769.32 63.8393 769.32 Q69.1633 769.32 72.2652 771.751 Q75.367 774.158 75.367 778.278 Q75.367 781.149 73.7235 783.14 Q72.08 785.107 69.0476 785.871 Z\" fill=\"#000000\" fill-rule=\"evenodd\" fill-opacity=\"1\" /><path clip-path=\"url(#clip390)\" d=\"M66.5939 546.953 L54.7884 565.402 L66.5939 565.402 L66.5939 546.953 M65.367 542.879 L71.2466 542.879 L71.2466 565.402 L76.1772 565.402 L76.1772 569.291 L71.2466 569.291 L71.2466 577.439 L66.5939 577.439 L66.5939 569.291 L50.9921 569.291 L50.9921 564.777 L65.367 542.879 Z\" fill=\"#000000\" fill-rule=\"evenodd\" fill-opacity=\"1\" /><path clip-path=\"url(#clip390)\" d=\"M55.2745 315.814 L73.6309 315.814 L73.6309 319.749 L59.5569 319.749 L59.5569 328.221 Q60.5754 327.874 61.5939 327.712 Q62.6124 327.527 63.6309 327.527 Q69.418 327.527 72.7976 330.698 Q76.1772 333.869 76.1772 339.286 Q76.1772 344.864 72.705 347.966 Q69.2328 351.045 62.9134 351.045 Q60.7374 351.045 58.4689 350.675 Q56.2236 350.304 53.8162 349.564 L53.8162 344.864 Q55.8995 345.999 58.1217 346.554 Q60.3439 347.11 62.8208 347.11 Q66.8254 347.11 69.1633 345.003 Q71.5013 342.897 71.5013 339.286 Q71.5013 335.675 69.1633 333.568 Q66.8254 331.462 62.8208 331.462 Q60.9458 331.462 59.0708 331.878 Q57.2189 332.295 55.2745 333.175 L55.2745 315.814 Z\" fill=\"#000000\" fill-rule=\"evenodd\" fill-opacity=\"1\" /><path clip-path=\"url(#clip390)\" d=\"M64.6495 104.165 Q61.5013 104.165 59.6495 106.317 Q57.8208 108.47 57.8208 112.22 Q57.8208 115.947 59.6495 118.123 Q61.5013 120.276 64.6495 120.276 Q67.7976 120.276 69.6263 118.123 Q71.4781 115.947 71.4781 112.22 Q71.4781 108.47 69.6263 106.317 Q67.7976 104.165 64.6495 104.165 M73.9318 89.5119 L73.9318 93.7711 Q72.1726 92.9378 70.367 92.498 Q68.5846 92.0582 66.8254 92.0582 Q62.1958 92.0582 59.7421 95.1832 Q57.3115 98.3081 56.9643 104.628 Q58.33 102.614 60.3902 101.549 Q62.4504 100.461 64.9272 100.461 Q70.1355 100.461 73.1448 103.632 Q76.1772 106.78 76.1772 112.22 Q76.1772 117.544 73.029 120.762 Q69.8809 123.979 64.6495 123.979 Q58.6541 123.979 55.4828 119.396 Q52.3116 114.79 52.3116 106.063 Q52.3116 97.8683 56.2004 93.0072 Q60.0893 88.123 66.6402 88.123 Q68.3994 88.123 70.1818 88.4702 Q71.9874 88.8174 73.9318 89.5119 Z\" fill=\"#000000\" fill-rule=\"evenodd\" fill-opacity=\"1\" /><polyline clip-path=\"url(#clip392)\" style=\"stroke:#009af9; stroke-linecap:butt; stroke-linejoin:round; stroke-width:4; stroke-opacity:1; fill:none\" points=\"\n",
       "  112.177,1434.3 117.647,1401.78 123.118,1378.39 128.588,1359.56 134.058,1343.45 159.349,1286.57 184.639,1243.65 209.929,1207.7 235.219,1176.14 285.8,1121.53 \n",
       "  336.381,1074.39 397.174,1024.25 457.968,979.079 509.368,943.752 560.768,910.468 672.438,843.463 775.388,786.403 885.762,728.795 1013.64,665.416 1127.28,611.354 \n",
       "  1226.94,565.297 1335.59,516.233 1444.88,467.863 1565.72,415.325 1680.7,366.091 1800.25,315.548 1900.89,273.434 2023.75,222.475 2139.25,174.967 2324.28,99.5229 \n",
       "  2352.76,87.9763 \n",
       "  \"/>\n",
       "<polyline clip-path=\"url(#clip392)\" style=\"stroke:#e26f46; stroke-linecap:butt; stroke-linejoin:round; stroke-width:8; stroke-opacity:1; fill:none\" stroke-dasharray=\"32, 20\" points=\"\n",
       "  112.177,1445.72 117.647,1402.92 123.118,1378.61 128.588,1359.61 134.058,1343.46 159.349,1286.57 184.639,1243.65 209.929,1207.7 235.219,1176.14 285.8,1121.53 \n",
       "  336.381,1074.42 397.174,1024.36 457.968,979.393 509.368,944.379 560.768,911.562 672.438,846.202 775.388,791.514 885.762,737.413 1013.64,679.356 1127.28,631.134 \n",
       "  1226.94,591.026 1335.59,549.289 1444.88,509.135 1565.72,466.611 1680.7,427.762 1800.25,388.85 1900.89,357.151 2023.75,319.634 2139.25,285.451 2324.28,232.658 \n",
       "  2352.76,224.732 \n",
       "  \"/>\n",
       "<path clip-path=\"url(#clip390)\" d=\"\n",
       "M1919.76 1438.47 L2278.07 1438.47 L2278.07 1282.95 L1919.76 1282.95  Z\n",
       "  \" fill=\"#ffffff\" fill-rule=\"evenodd\" fill-opacity=\"1\"/>\n",
       "<polyline clip-path=\"url(#clip390)\" style=\"stroke:#000000; stroke-linecap:butt; stroke-linejoin:round; stroke-width:4; stroke-opacity:1; fill:none\" points=\"\n",
       "  1919.76,1438.47 2278.07,1438.47 2278.07,1282.95 1919.76,1282.95 1919.76,1438.47 \n",
       "  \"/>\n",
       "<polyline clip-path=\"url(#clip390)\" style=\"stroke:#009af9; stroke-linecap:butt; stroke-linejoin:round; stroke-width:4; stroke-opacity:1; fill:none\" points=\"\n",
       "  1943.76,1334.79 2087.76,1334.79 \n",
       "  \"/>\n",
       "<path clip-path=\"url(#clip390)\" d=\"M2111.76 1316.06 L2116.04 1316.06 L2116.04 1337.33 L2128.75 1326.15 L2134.19 1326.15 L2120.44 1338.28 L2134.77 1352.07 L2129.21 1352.07 L2116.04 1339.41 L2116.04 1352.07 L2111.76 1352.07 L2111.76 1316.06 Z\" fill=\"#000000\" fill-rule=\"evenodd\" fill-opacity=\"1\" /><path clip-path=\"url(#clip390)\" d=\"M2159.07 1359.94 L2159.07 1363.25 L2134.45 1363.25 L2134.45 1359.94 L2159.07 1359.94 Z\" fill=\"#000000\" fill-rule=\"evenodd\" fill-opacity=\"1\" /><path clip-path=\"url(#clip390)\" d=\"M2177.85 1333.44 Q2181.2 1334.16 2183.08 1336.43 Q2184.98 1338.69 2184.98 1342.03 Q2184.98 1347.14 2181.46 1349.94 Q2177.94 1352.75 2171.46 1352.75 Q2169.28 1352.75 2166.97 1352.31 Q2164.68 1351.89 2162.22 1351.03 L2162.22 1346.52 Q2164.17 1347.65 2166.48 1348.23 Q2168.8 1348.81 2171.32 1348.81 Q2175.72 1348.81 2178.01 1347.07 Q2180.32 1345.34 2180.32 1342.03 Q2180.32 1338.97 2178.17 1337.26 Q2176.04 1335.52 2172.22 1335.52 L2168.2 1335.52 L2168.2 1331.68 L2172.41 1331.68 Q2175.86 1331.68 2177.69 1330.32 Q2179.51 1328.93 2179.51 1326.33 Q2179.51 1323.67 2177.62 1322.26 Q2175.74 1320.82 2172.22 1320.82 Q2170.3 1320.82 2168.1 1321.24 Q2165.9 1321.66 2163.26 1322.54 L2163.26 1318.37 Q2165.93 1317.63 2168.24 1317.26 Q2170.58 1316.89 2172.64 1316.89 Q2177.96 1316.89 2181.07 1319.32 Q2184.17 1321.73 2184.17 1325.85 Q2184.17 1328.72 2182.52 1330.71 Q2180.88 1332.68 2177.85 1333.44 Z\" fill=\"#000000\" fill-rule=\"evenodd\" fill-opacity=\"1\" /><path clip-path=\"url(#clip390)\" d=\"M2212.94 1359.94 L2212.94 1363.25 L2188.31 1363.25 L2188.31 1359.94 L2212.94 1359.94 Z\" fill=\"#000000\" fill-rule=\"evenodd\" fill-opacity=\"1\" /><path clip-path=\"url(#clip390)\" d=\"M2230.07 1316.06 L2230.07 1319.6 L2226 1319.6 Q2223.7 1319.6 2222.8 1320.52 Q2221.92 1321.45 2221.92 1323.86 L2221.92 1326.15 L2228.94 1326.15 L2228.94 1329.46 L2221.92 1329.46 L2221.92 1352.07 L2217.64 1352.07 L2217.64 1329.46 L2213.57 1329.46 L2213.57 1326.15 L2217.64 1326.15 L2217.64 1324.34 Q2217.64 1320.01 2219.65 1318.05 Q2221.67 1316.06 2226.04 1316.06 L2230.07 1316.06 Z\" fill=\"#000000\" fill-rule=\"evenodd\" fill-opacity=\"1\" /><polyline clip-path=\"url(#clip390)\" style=\"stroke:#e26f46; stroke-linecap:butt; stroke-linejoin:round; stroke-width:4; stroke-opacity:1; fill:none\" stroke-dasharray=\"16, 10\" points=\"\n",
       "  1943.76,1386.63 2087.76,1386.63 \n",
       "  \"/>\n",
       "<path clip-path=\"url(#clip390)\" d=\"M2130.19 1378.75 L2130.19 1382.78 Q2128.38 1381.85 2126.44 1381.39 Q2124.49 1380.93 2122.41 1380.93 Q2119.24 1380.93 2117.64 1381.9 Q2116.07 1382.87 2116.07 1384.82 Q2116.07 1386.3 2117.2 1387.16 Q2118.33 1387.99 2121.76 1388.75 L2123.22 1389.08 Q2127.76 1390.05 2129.65 1391.83 Q2131.58 1393.59 2131.58 1396.76 Q2131.58 1400.37 2128.7 1402.48 Q2125.86 1404.59 2120.86 1404.59 Q2118.77 1404.59 2116.51 1404.17 Q2114.26 1403.78 2111.76 1402.97 L2111.76 1398.57 Q2114.12 1399.79 2116.41 1400.42 Q2118.7 1401.02 2120.95 1401.02 Q2123.96 1401.02 2125.58 1400 Q2127.2 1398.96 2127.2 1397.09 Q2127.2 1395.35 2126.02 1394.42 Q2124.86 1393.5 2120.9 1392.64 L2119.42 1392.29 Q2115.46 1391.46 2113.7 1389.75 Q2111.95 1388.01 2111.95 1385 Q2111.95 1381.35 2114.54 1379.35 Q2117.13 1377.36 2121.9 1377.36 Q2124.26 1377.36 2126.34 1377.71 Q2128.43 1378.06 2130.19 1378.75 Z\" fill=\"#000000\" fill-rule=\"evenodd\" fill-opacity=\"1\" /><path clip-path=\"url(#clip390)\" d=\"M2140.9 1390.97 Q2140.9 1395.67 2142.83 1398.36 Q2144.77 1401.02 2148.15 1401.02 Q2151.53 1401.02 2153.47 1398.36 Q2155.42 1395.67 2155.42 1390.97 Q2155.42 1386.28 2153.47 1383.61 Q2151.53 1380.93 2148.15 1380.93 Q2144.77 1380.93 2142.83 1383.61 Q2140.9 1386.28 2140.9 1390.97 M2155.42 1400.03 Q2154.07 1402.34 2152.01 1403.47 Q2149.98 1404.59 2147.11 1404.59 Q2142.41 1404.59 2139.45 1400.84 Q2136.51 1397.09 2136.51 1390.97 Q2136.51 1384.86 2139.45 1381.11 Q2142.41 1377.36 2147.11 1377.36 Q2149.98 1377.36 2152.01 1378.5 Q2154.07 1379.61 2155.42 1381.92 L2155.42 1377.99 L2159.68 1377.99 L2159.68 1413.78 L2155.42 1413.78 L2155.42 1400.03 Z\" fill=\"#000000\" fill-rule=\"evenodd\" fill-opacity=\"1\" /><path clip-path=\"url(#clip390)\" d=\"M2183.47 1381.97 Q2182.76 1381.55 2181.9 1381.37 Q2181.07 1381.16 2180.05 1381.16 Q2176.44 1381.16 2174.49 1383.52 Q2172.57 1385.86 2172.57 1390.26 L2172.57 1403.91 L2168.29 1403.91 L2168.29 1377.99 L2172.57 1377.99 L2172.57 1382.02 Q2173.91 1379.66 2176.07 1378.52 Q2178.22 1377.36 2181.3 1377.36 Q2181.74 1377.36 2182.27 1377.43 Q2182.8 1377.48 2183.45 1377.6 L2183.47 1381.97 Z\" fill=\"#000000\" fill-rule=\"evenodd\" fill-opacity=\"1\" /><path clip-path=\"url(#clip390)\" d=\"M2192.15 1370.63 L2192.15 1377.99 L2200.93 1377.99 L2200.93 1381.3 L2192.15 1381.3 L2192.15 1395.37 Q2192.15 1398.54 2193.01 1399.45 Q2193.89 1400.35 2196.55 1400.35 L2200.93 1400.35 L2200.93 1403.91 L2196.55 1403.91 Q2191.62 1403.91 2189.75 1402.09 Q2187.87 1400.23 2187.87 1395.37 L2187.87 1381.3 L2184.75 1381.3 L2184.75 1377.99 L2187.87 1377.99 L2187.87 1370.63 L2192.15 1370.63 Z\" fill=\"#000000\" fill-rule=\"evenodd\" fill-opacity=\"1\" /></svg>\n"
      ]
     },
     "metadata": {},
     "output_type": "display_data"
    }
   ],
   "source": [
    "plt = plot(k_3_f, xlims=(0.01, 30), label=\"k_3_f\", legend=:bottomright)\n",
    "plot!(plt, sqrt, ls=:dash, label=\"sqrt\", lw=2)"
   ]
  },
  {
   "cell_type": "markdown",
   "id": "6f454357",
   "metadata": {},
   "source": [
    "Podemos usar la función original con distintos valores de N para mejorarla. "
   ]
  },
  {
   "cell_type": "code",
   "execution_count": 61,
   "id": "0f0418f3",
   "metadata": {},
   "outputs": [
    {
     "data": {
      "image/png": "[encoded data removed]",
      "image/svg+xml": "<?xml version=\"1.0\" encoding=\"utf-8\"?>\n<svg xmlns=\"http://www.w3.org/2000/svg\" xmlns:xlink=\"http://www.w3.org/1999/xlink\" width=\"600\" height=\"400\" viewBox=\"0 0 2400 1600\">\n<defs>\n  <clipPath id=\"clip430\">\n    <rect x=\"0\" y=\"0\" width=\"2400\" height=\"1600\"/>\n  </clipPath>\n</defs>\n<path clip-path=\"url(#clip430)\" d=\"\nM0 1600 L2400 1600 L2400 0 L0 0  Z\n  \" fill=\"#ffffff\" fill-rule=\"evenodd\" fill-opacity=\"1\"/>\n<defs>\n  <clipPath id=\"clip431\">\n    <rect x=\"480\" y=\"0\" width=\"1681\" height=\"1600\"/>\n  </clipPath>\n</defs>\n<path clip-path=\"url(#clip430)\" d=\"\nM112.177 1486.45 L2352.76 1486.45 L2352.76 47.2441 L112.177 47.2441  Z\n  \" fill=\"#ffffff\" fill-rule=\"evenodd\" fill-opacity=\"1\"/>\n<defs>\n  <clipPath id=\"clip432\">\n    <rect x=\"112\" y=\"47\" width=\"2242\" height=\"1440\"/>\n  </clipPath>\n</defs>\n<polyline clip-path=\"url(#clip432)\" style=\"stroke:#000000; stroke-linecap:butt; stroke-linejoin:round; stroke-width:2; stroke-opacity:0.1; fill:none\" points=\"\n  484.984,1486.45 484.984,47.2441 \n  \"/>\n<polyline clip-path=\"url(#clip432)\" style=\"stroke:#000000; stroke-linecap:butt; stroke-linejoin:round; stroke-width:2; stroke-opacity:0.1; fill:none\" points=\"\n  858.539,1486.45 858.539,47.2441 \n  \"/>\n<polyline clip-path=\"url(#clip432)\" style=\"stroke:#000000; stroke-linecap:butt; stroke-linejoin:round; stroke-width:2; stroke-opacity:0.1; fill:none\" points=\"\n  1232.09,1486.45 1232.09,47.2441 \n  \"/>\n<polyline clip-path=\"url(#clip432)\" style=\"stroke:#000000; stroke-linecap:butt; stroke-linejoin:round; stroke-width:2; stroke-opacity:0.1; fill:none\" points=\"\n  1605.65,1486.45 1605.65,47.2441 \n  \"/>\n<polyline clip-path=\"url(#clip432)\" style=\"stroke:#000000; stroke-linecap:butt; stroke-linejoin:round; stroke-width:2; stroke-opacity:0.1; fill:none\" points=\"\n  1979.2,1486.45 1979.2,47.2441 \n  \"/>\n<polyline clip-path=\"url(#clip432)\" style=\"stroke:#000000; stroke-linecap:butt; stroke-linejoin:round; stroke-width:2; stroke-opacity:0.1; fill:none\" points=\"\n  2352.76,1486.45 2352.76,47.2441 \n  \"/>\n<polyline clip-path=\"url(#clip430)\" style=\"stroke:#000000; stroke-linecap:butt; stroke-linejoin:round; stroke-width:4; stroke-opacity:1; fill:none\" points=\"\n  112.177,1486.45 2352.76,1486.45 \n  \"/>\n<polyline clip-path=\"url(#clip430)\" style=\"stroke:#000000; stroke-linecap:butt; stroke-linejoin:round; stroke-width:4; stroke-opacity:1; fill:none\" points=\"\n  484.984,1486.45 484.984,1467.55 \n  \"/>\n<polyline clip-path=\"url(#clip430)\" style=\"stroke:#000000; stroke-linecap:butt; stroke-linejoin:round; stroke-width:4; stroke-opacity:1; fill:none\" points=\"\n  858.539,1486.45 858.539,1467.55 \n  \"/>\n<polyline clip-path=\"url(#clip430)\" style=\"stroke:#000000; stroke-linecap:butt; stroke-linejoin:round; stroke-width:4; stroke-opacity:1; fill:none\" points=\"\n  1232.09,1486.45 1232.09,1467.55 \n  \"/>\n<polyline clip-path=\"url(#clip430)\" style=\"stroke:#000000; stroke-linecap:butt; stroke-linejoin:round; stroke-width:4; stroke-opacity:1; fill:none\" points=\"\n  1605.65,1486.45 1605.65,1467.55 \n  \"/>\n<polyline clip-path=\"url(#clip430)\" style=\"stroke:#000000; stroke-linecap:butt; stroke-linejoin:round; stroke-width:4; stroke-opacity:1; fill:none\" points=\"\n  1979.2,1486.45 1979.2,1467.55 \n  \"/>\n<polyline clip-path=\"url(#clip430)\" style=\"stroke:#000000; stroke-linecap:butt; stroke-linejoin:round; stroke-width:4; stroke-opacity:1; fill:none\" points=\"\n  2352.76,1486.45 2352.76,1467.55 \n  \"/>\n<path clip-path=\"url(#clip430)\" d=\"M475.262 1514.29 L493.619 1514.29 L493.619 1518.22 L479.545 1518.22 L479.545 1526.7 Q480.563 1526.35 481.582 1526.19 Q482.6 1526 483.619 1526 Q489.406 1526 492.785 1529.17 Q496.165 1532.34 496.165 1537.76 Q496.165 1543.34 492.693 1546.44 Q489.22 1549.52 482.901 1549.52 Q480.725 1549.52 478.457 1549.15 Q476.211 1548.78 473.804 1548.04 L473.804 1543.34 Q475.887 1544.47 478.109 1545.03 Q480.332 1545.58 482.808 1545.58 Q486.813 1545.58 489.151 1543.48 Q491.489 1541.37 491.489 1537.76 Q491.489 1534.15 489.151 1532.04 Q486.813 1529.94 482.808 1529.94 Q480.933 1529.94 479.058 1530.35 Q477.207 1530.77 475.262 1531.65 L475.262 1514.29 Z\" fill=\"#000000\" fill-rule=\"evenodd\" fill-opacity=\"1\" /><path clip-path=\"url(#clip430)\" d=\"M833.226 1544.91 L840.865 1544.91 L840.865 1518.55 L832.555 1520.21 L832.555 1515.95 L840.819 1514.29 L845.495 1514.29 L845.495 1544.91 L853.134 1544.91 L853.134 1548.85 L833.226 1548.85 L833.226 1544.91 Z\" fill=\"#000000\" fill-rule=\"evenodd\" fill-opacity=\"1\" /><path clip-path=\"url(#clip430)\" d=\"M872.578 1517.37 Q868.967 1517.37 867.138 1520.93 Q865.333 1524.47 865.333 1531.6 Q865.333 1538.71 867.138 1542.27 Q868.967 1545.82 872.578 1545.82 Q876.212 1545.82 878.018 1542.27 Q879.846 1538.71 879.846 1531.6 Q879.846 1524.47 878.018 1520.93 Q876.212 1517.37 872.578 1517.37 M872.578 1513.66 Q878.388 1513.66 881.444 1518.27 Q884.522 1522.85 884.522 1531.6 Q884.522 1540.33 881.444 1544.94 Q878.388 1549.52 872.578 1549.52 Q866.768 1549.52 863.689 1544.94 Q860.634 1540.33 860.634 1531.6 Q860.634 1522.85 863.689 1518.27 Q866.768 1513.66 872.578 1513.66 Z\" fill=\"#000000\" fill-rule=\"evenodd\" fill-opacity=\"1\" /><path clip-path=\"url(#clip430)\" d=\"M1207.28 1544.91 L1214.92 1544.91 L1214.92 1518.55 L1206.61 1520.21 L1206.61 1515.95 L1214.87 1514.29 L1219.55 1514.29 L1219.55 1544.91 L1227.19 1544.91 L1227.19 1548.85 L1207.28 1548.85 L1207.28 1544.91 Z\" fill=\"#000000\" fill-rule=\"evenodd\" fill-opacity=\"1\" /><path clip-path=\"url(#clip430)\" d=\"M1236.68 1514.29 L1255.03 1514.29 L1255.03 1518.22 L1240.96 1518.22 L1240.96 1526.7 Q1241.98 1526.35 1243 1526.19 Q1244.01 1526 1245.03 1526 Q1250.82 1526 1254.2 1529.17 Q1257.58 1532.34 1257.58 1537.76 Q1257.58 1543.34 1254.11 1546.44 Q1250.63 1549.52 1244.32 1549.52 Q1242.14 1549.52 1239.87 1549.15 Q1237.63 1548.78 1235.22 1548.04 L1235.22 1543.34 Q1237.3 1544.47 1239.52 1545.03 Q1241.75 1545.58 1244.22 1545.58 Q1248.23 1545.58 1250.57 1543.48 Q1252.9 1541.37 1252.9 1537.76 Q1252.9 1534.15 1250.57 1532.04 Q1248.23 1529.94 1244.22 1529.94 Q1242.35 1529.94 1240.47 1530.35 Q1238.62 1530.77 1236.68 1531.65 L1236.68 1514.29 Z\" fill=\"#000000\" fill-rule=\"evenodd\" fill-opacity=\"1\" /><path clip-path=\"url(#clip430)\" d=\"M1584.42 1544.91 L1600.74 1544.91 L1600.74 1548.85 L1578.8 1548.85 L1578.8 1544.91 Q1581.46 1542.16 1586.04 1537.53 Q1590.65 1532.88 1591.83 1531.53 Q1594.07 1529.01 1594.95 1527.27 Q1595.86 1525.51 1595.86 1523.82 Q1595.86 1521.07 1593.91 1519.33 Q1591.99 1517.6 1588.89 1517.6 Q1586.69 1517.6 1584.24 1518.36 Q1581.8 1519.13 1579.03 1520.68 L1579.03 1515.95 Q1581.85 1514.82 1584.3 1514.24 Q1586.76 1513.66 1588.8 1513.66 Q1594.17 1513.66 1597.36 1516.35 Q1600.55 1519.03 1600.55 1523.52 Q1600.55 1525.65 1599.74 1527.57 Q1598.96 1529.47 1596.85 1532.07 Q1596.27 1532.74 1593.17 1535.95 Q1590.07 1539.15 1584.42 1544.91 Z\" fill=\"#000000\" fill-rule=\"evenodd\" fill-opacity=\"1\" /><path clip-path=\"url(#clip430)\" d=\"M1620.55 1517.37 Q1616.94 1517.37 1615.11 1520.93 Q1613.31 1524.47 1613.31 1531.6 Q1613.31 1538.71 1615.11 1542.27 Q1616.94 1545.82 1620.55 1545.82 Q1624.19 1545.82 1625.99 1542.27 Q1627.82 1538.71 1627.82 1531.6 Q1627.82 1524.47 1625.99 1520.93 Q1624.19 1517.37 1620.55 1517.37 M1620.55 1513.66 Q1626.36 1513.66 1629.42 1518.27 Q1632.5 1522.85 1632.5 1531.6 Q1632.5 1540.33 1629.42 1544.94 Q1626.36 1549.52 1620.55 1549.52 Q1614.74 1549.52 1611.67 1544.94 Q1608.61 1540.33 1608.61 1531.6 Q1608.61 1522.85 1611.67 1518.27 Q1614.74 1513.66 1620.55 1513.66 Z\" fill=\"#000000\" fill-rule=\"evenodd\" fill-opacity=\"1\" /><path clip-path=\"url(#clip430)\" d=\"M1958.47 1544.91 L1974.79 1544.91 L1974.79 1548.85 L1952.85 1548.85 L1952.85 1544.91 Q1955.51 1542.16 1960.09 1537.53 Q1964.7 1532.88 1965.88 1531.53 Q1968.13 1529.01 1969 1527.27 Q1969.91 1525.51 1969.91 1523.82 Q1969.91 1521.07 1967.96 1519.33 Q1966.04 1517.6 1962.94 1517.6 Q1960.74 1517.6 1958.29 1518.36 Q1955.86 1519.13 1953.08 1520.68 L1953.08 1515.95 Q1955.9 1514.82 1958.36 1514.24 Q1960.81 1513.66 1962.85 1513.66 Q1968.22 1513.66 1971.41 1516.35 Q1974.61 1519.03 1974.61 1523.52 Q1974.61 1525.65 1973.8 1527.57 Q1973.01 1529.47 1970.9 1532.07 Q1970.32 1532.74 1967.22 1535.95 Q1964.12 1539.15 1958.47 1544.91 Z\" fill=\"#000000\" fill-rule=\"evenodd\" fill-opacity=\"1\" /><path clip-path=\"url(#clip430)\" d=\"M1984.65 1514.29 L2003.01 1514.29 L2003.01 1518.22 L1988.94 1518.22 L1988.94 1526.7 Q1989.95 1526.35 1990.97 1526.19 Q1991.99 1526 1993.01 1526 Q1998.8 1526 2002.18 1529.17 Q2005.56 1532.34 2005.56 1537.76 Q2005.56 1543.34 2002.08 1546.44 Q1998.61 1549.52 1992.29 1549.52 Q1990.12 1549.52 1987.85 1549.15 Q1985.6 1548.78 1983.19 1548.04 L1983.19 1543.34 Q1985.28 1544.47 1987.5 1545.03 Q1989.72 1545.58 1992.2 1545.58 Q1996.2 1545.58 1998.54 1543.48 Q2000.88 1541.37 2000.88 1537.76 Q2000.88 1534.15 1998.54 1532.04 Q1996.2 1529.94 1992.2 1529.94 Q1990.32 1529.94 1988.45 1530.35 Q1986.6 1530.77 1984.65 1531.65 L1984.65 1514.29 Z\" fill=\"#000000\" fill-rule=\"evenodd\" fill-opacity=\"1\" /><path clip-path=\"url(#clip430)\" d=\"M2341.6 1530.21 Q2344.96 1530.93 2346.83 1533.2 Q2348.73 1535.47 2348.73 1538.8 Q2348.73 1543.92 2345.21 1546.72 Q2341.69 1549.52 2335.21 1549.52 Q2333.03 1549.52 2330.72 1549.08 Q2328.43 1548.66 2325.97 1547.81 L2325.97 1543.29 Q2327.92 1544.43 2330.23 1545.01 Q2332.55 1545.58 2335.07 1545.58 Q2339.47 1545.58 2341.76 1543.85 Q2344.08 1542.11 2344.08 1538.8 Q2344.08 1535.75 2341.92 1534.03 Q2339.79 1532.3 2335.97 1532.3 L2331.95 1532.3 L2331.95 1528.45 L2336.16 1528.45 Q2339.61 1528.45 2341.44 1527.09 Q2343.27 1525.7 2343.27 1523.11 Q2343.27 1520.45 2341.37 1519.03 Q2339.49 1517.6 2335.97 1517.6 Q2334.05 1517.6 2331.85 1518.01 Q2329.65 1518.43 2327.02 1519.31 L2327.02 1515.14 Q2329.68 1514.4 2331.99 1514.03 Q2334.33 1513.66 2336.39 1513.66 Q2341.71 1513.66 2344.82 1516.09 Q2347.92 1518.5 2347.92 1522.62 Q2347.92 1525.49 2346.27 1527.48 Q2344.63 1529.45 2341.6 1530.21 Z\" fill=\"#000000\" fill-rule=\"evenodd\" fill-opacity=\"1\" /><path clip-path=\"url(#clip430)\" d=\"M2367.59 1517.37 Q2363.98 1517.37 2362.15 1520.93 Q2360.35 1524.47 2360.35 1531.6 Q2360.35 1538.71 2362.15 1542.27 Q2363.98 1545.82 2367.59 1545.82 Q2371.23 1545.82 2373.03 1542.27 Q2374.86 1538.71 2374.86 1531.6 Q2374.86 1524.47 2373.03 1520.93 Q2371.23 1517.37 2367.59 1517.37 M2367.59 1513.66 Q2373.4 1513.66 2376.46 1518.27 Q2379.54 1522.85 2379.54 1531.6 Q2379.54 1540.33 2376.46 1544.94 Q2373.4 1549.52 2367.59 1549.52 Q2361.78 1549.52 2358.7 1544.94 Q2355.65 1540.33 2355.65 1531.6 Q2355.65 1522.85 2358.7 1518.27 Q2361.78 1513.66 2367.59 1513.66 Z\" fill=\"#000000\" fill-rule=\"evenodd\" fill-opacity=\"1\" /><polyline clip-path=\"url(#clip432)\" style=\"stroke:#000000; stroke-linecap:butt; stroke-linejoin:round; stroke-width:2; stroke-opacity:0.1; fill:none\" points=\"\n  112.177,1468.42 2352.76,1468.42 \n  \"/>\n<polyline clip-path=\"url(#clip432)\" style=\"stroke:#000000; stroke-linecap:butt; stroke-linejoin:round; stroke-width:2; stroke-opacity:0.1; fill:none\" points=\"\n  112.177,1241.36 2352.76,1241.36 \n  \"/>\n<polyline clip-path=\"url(#clip432)\" style=\"stroke:#000000; stroke-linecap:butt; stroke-linejoin:round; stroke-width:2; stroke-opacity:0.1; fill:none\" points=\"\n  112.177,1014.29 2352.76,1014.29 \n  \"/>\n<polyline clip-path=\"url(#clip432)\" style=\"stroke:#000000; stroke-linecap:butt; stroke-linejoin:round; stroke-width:2; stroke-opacity:0.1; fill:none\" points=\"\n  112.177,787.225 2352.76,787.225 \n  \"/>\n<polyline clip-path=\"url(#clip432)\" style=\"stroke:#000000; stroke-linecap:butt; stroke-linejoin:round; stroke-width:2; stroke-opacity:0.1; fill:none\" points=\"\n  112.177,560.159 2352.76,560.159 \n  \"/>\n<polyline clip-path=\"url(#clip432)\" style=\"stroke:#000000; stroke-linecap:butt; stroke-linejoin:round; stroke-width:2; stroke-opacity:0.1; fill:none\" points=\"\n  112.177,333.094 2352.76,333.094 \n  \"/>\n<polyline clip-path=\"url(#clip432)\" style=\"stroke:#000000; stroke-linecap:butt; stroke-linejoin:round; stroke-width:2; stroke-opacity:0.1; fill:none\" points=\"\n  112.177,106.028 2352.76,106.028 \n  \"/>\n<polyline clip-path=\"url(#clip430)\" style=\"stroke:#000000; stroke-linecap:butt; stroke-linejoin:round; stroke-width:4; stroke-opacity:1; fill:none\" points=\"\n  112.177,1486.45 112.177,47.2441 \n  \"/>\n<polyline clip-path=\"url(#clip430)\" style=\"stroke:#000000; stroke-linecap:butt; stroke-linejoin:round; stroke-width:4; stroke-opacity:1; fill:none\" points=\"\n  112.177,1468.42 131.075,1468.42 \n  \"/>\n<polyline clip-path=\"url(#clip430)\" style=\"stroke:#000000; stroke-linecap:butt; stroke-linejoin:round; stroke-width:4; stroke-opacity:1; fill:none\" points=\"\n  112.177,1241.36 131.075,1241.36 \n  \"/>\n<polyline clip-path=\"url(#clip430)\" style=\"stroke:#000000; stroke-linecap:butt; stroke-linejoin:round; stroke-width:4; stroke-opacity:1; fill:none\" points=\"\n  112.177,1014.29 131.075,1014.29 \n  \"/>\n<polyline clip-path=\"url(#clip430)\" style=\"stroke:#000000; stroke-linecap:butt; stroke-linejoin:round; stroke-width:4; stroke-opacity:1; fill:none\" points=\"\n  112.177,787.225 131.075,787.225 \n  \"/>\n<polyline clip-path=\"url(#clip430)\" style=\"stroke:#000000; stroke-linecap:butt; stroke-linejoin:round; stroke-width:4; stroke-opacity:1; fill:none\" points=\"\n  112.177,560.159 131.075,560.159 \n  \"/>\n<polyline clip-path=\"url(#clip430)\" style=\"stroke:#000000; stroke-linecap:butt; stroke-linejoin:round; stroke-width:4; stroke-opacity:1; fill:none\" points=\"\n  112.177,333.094 131.075,333.094 \n  \"/>\n<polyline clip-path=\"url(#clip430)\" style=\"stroke:#000000; stroke-linecap:butt; stroke-linejoin:round; stroke-width:4; stroke-opacity:1; fill:none\" points=\"\n  112.177,106.028 131.075,106.028 \n  \"/>\n<path clip-path=\"url(#clip430)\" d=\"M64.2328 1454.22 Q60.6217 1454.22 58.793 1457.79 Q56.9875 1461.33 56.9875 1468.46 Q56.9875 1475.56 58.793 1479.13 Q60.6217 1482.67 64.2328 1482.67 Q67.867 1482.67 69.6726 1479.13 Q71.5013 1475.56 71.5013 1468.46 Q71.5013 1461.33 69.6726 1457.79 Q67.867 1454.22 64.2328 1454.22 M64.2328 1450.52 Q70.0429 1450.52 73.0985 1455.12 Q76.1772 1459.71 76.1772 1468.46 Q76.1772 1477.18 73.0985 1481.79 Q70.0429 1486.37 64.2328 1486.37 Q58.4226 1486.37 55.344 1481.79 Q52.2884 1477.18 52.2884 1468.46 Q52.2884 1459.71 55.344 1455.12 Q58.4226 1450.52 64.2328 1450.52 Z\" fill=\"#000000\" fill-rule=\"evenodd\" fill-opacity=\"1\" /><path clip-path=\"url(#clip430)\" d=\"M56.2699 1254.7 L63.9087 1254.7 L63.9087 1228.34 L55.5986 1230 L55.5986 1225.74 L63.8624 1224.08 L68.5383 1224.08 L68.5383 1254.7 L76.1772 1254.7 L76.1772 1258.64 L56.2699 1258.64 L56.2699 1254.7 Z\" fill=\"#000000\" fill-rule=\"evenodd\" fill-opacity=\"1\" /><path clip-path=\"url(#clip430)\" d=\"M59.8578 1027.64 L76.1772 1027.64 L76.1772 1031.57 L54.2328 1031.57 L54.2328 1027.64 Q56.8949 1024.88 61.4782 1020.25 Q66.0846 1015.6 67.2652 1014.26 Q69.5105 1011.73 70.3902 1010 Q71.2929 1008.24 71.2929 1006.55 Q71.2929 1003.79 69.3485 1002.06 Q67.4272 1000.32 64.3254 1000.32 Q62.1263 1000.32 59.6726 1001.08 Q57.2421 1001.85 54.4643 1003.4 L54.4643 998.678 Q57.2884 997.543 59.7421 996.965 Q62.1958 996.386 64.2328 996.386 Q69.6031 996.386 72.7976 999.071 Q75.992 1001.76 75.992 1006.25 Q75.992 1008.38 75.1818 1010.3 Q74.3948 1012.2 72.2883 1014.79 Q71.7096 1015.46 68.6078 1018.68 Q65.5059 1021.87 59.8578 1027.64 Z\" fill=\"#000000\" fill-rule=\"evenodd\" fill-opacity=\"1\" /><path clip-path=\"url(#clip430)\" d=\"M69.0476 785.871 Q72.404 786.589 74.279 788.857 Q76.1772 791.126 76.1772 794.459 Q76.1772 799.575 72.6587 802.376 Q69.1402 805.176 62.6587 805.176 Q60.4828 805.176 58.168 804.737 Q55.8764 804.32 53.4227 803.463 L53.4227 798.95 Q55.3671 800.084 57.6819 800.663 Q59.9967 801.241 62.5198 801.241 Q66.918 801.241 69.2096 799.505 Q71.5244 797.769 71.5244 794.459 Q71.5244 791.403 69.3717 789.69 Q67.242 787.954 63.4226 787.954 L59.3949 787.954 L59.3949 784.112 L63.6078 784.112 Q67.0569 784.112 68.8855 782.746 Q70.7142 781.357 70.7142 778.765 Q70.7142 776.103 68.8161 774.69 Q66.9411 773.255 63.4226 773.255 Q61.5013 773.255 59.3023 773.672 Q57.1032 774.089 54.4643 774.968 L54.4643 770.802 Q57.1264 770.061 59.4412 769.691 Q61.7791 769.32 63.8393 769.32 Q69.1633 769.32 72.2652 771.751 Q75.367 774.158 75.367 778.278 Q75.367 781.149 73.7235 783.14 Q72.08 785.107 69.0476 785.871 Z\" fill=\"#000000\" fill-rule=\"evenodd\" fill-opacity=\"1\" /><path clip-path=\"url(#clip430)\" d=\"M66.5939 546.953 L54.7884 565.402 L66.5939 565.402 L66.5939 546.953 M65.367 542.879 L71.2466 542.879 L71.2466 565.402 L76.1772 565.402 L76.1772 569.291 L71.2466 569.291 L71.2466 577.439 L66.5939 577.439 L66.5939 569.291 L50.9921 569.291 L50.9921 564.777 L65.367 542.879 Z\" fill=\"#000000\" fill-rule=\"evenodd\" fill-opacity=\"1\" /><path clip-path=\"url(#clip430)\" d=\"M55.2745 315.814 L73.6309 315.814 L73.6309 319.749 L59.5569 319.749 L59.5569 328.221 Q60.5754 327.874 61.5939 327.712 Q62.6124 327.527 63.6309 327.527 Q69.418 327.527 72.7976 330.698 Q76.1772 333.869 76.1772 339.286 Q76.1772 344.864 72.705 347.966 Q69.2328 351.045 62.9134 351.045 Q60.7374 351.045 58.4689 350.675 Q56.2236 350.304 53.8162 349.564 L53.8162 344.864 Q55.8995 345.999 58.1217 346.554 Q60.3439 347.11 62.8208 347.11 Q66.8254 347.11 69.1633 345.003 Q71.5013 342.897 71.5013 339.286 Q71.5013 335.675 69.1633 333.568 Q66.8254 331.462 62.8208 331.462 Q60.9458 331.462 59.0708 331.878 Q57.2189 332.295 55.2745 333.175 L55.2745 315.814 Z\" fill=\"#000000\" fill-rule=\"evenodd\" fill-opacity=\"1\" /><path clip-path=\"url(#clip430)\" d=\"M64.6495 104.165 Q61.5013 104.165 59.6495 106.317 Q57.8208 108.47 57.8208 112.22 Q57.8208 115.947 59.6495 118.123 Q61.5013 120.276 64.6495 120.276 Q67.7976 120.276 69.6263 118.123 Q71.4781 115.947 71.4781 112.22 Q71.4781 108.47 69.6263 106.317 Q67.7976 104.165 64.6495 104.165 M73.9318 89.5119 L73.9318 93.7711 Q72.1726 92.9378 70.367 92.498 Q68.5846 92.0582 66.8254 92.0582 Q62.1958 92.0582 59.7421 95.1832 Q57.3115 98.3081 56.9643 104.628 Q58.33 102.614 60.3902 101.549 Q62.4504 100.461 64.9272 100.461 Q70.1355 100.461 73.1448 103.632 Q76.1772 106.78 76.1772 112.22 Q76.1772 117.544 73.029 120.762 Q69.8809 123.979 64.6495 123.979 Q58.6541 123.979 55.4828 119.396 Q52.3116 114.79 52.3116 106.063 Q52.3116 97.8683 56.2004 93.0072 Q60.0893 88.123 66.6402 88.123 Q68.3994 88.123 70.1818 88.4702 Q71.9874 88.8174 73.9318 89.5119 Z\" fill=\"#000000\" fill-rule=\"evenodd\" fill-opacity=\"1\" /><polyline clip-path=\"url(#clip432)\" style=\"stroke:#009af9; stroke-linecap:butt; stroke-linejoin:round; stroke-width:4; stroke-opacity:1; fill:none\" points=\"\n  112.177,1434.3 117.647,1401.78 123.118,1378.39 128.588,1359.56 134.058,1343.45 159.349,1286.57 184.639,1243.65 209.929,1207.7 235.219,1176.14 285.8,1121.53 \n  336.381,1074.39 397.174,1024.25 457.968,979.079 509.368,943.752 560.768,910.468 672.438,843.463 775.388,786.403 885.762,728.795 1013.64,665.416 1127.28,611.354 \n  1226.94,565.297 1335.59,516.233 1444.88,467.863 1565.72,415.325 1680.7,366.091 1800.25,315.548 1900.89,273.434 2023.75,222.475 2139.25,174.967 2324.28,99.5229 \n  2352.76,87.9763 \n  \"/>\n<polyline clip-path=\"url(#clip432)\" style=\"stroke:#e26f46; stroke-linecap:butt; stroke-linejoin:round; stroke-width:8; stroke-opacity:1; fill:none\" stroke-dasharray=\"32, 20\" points=\"\n  112.177,1445.72 117.647,1402.92 123.118,1378.61 128.588,1359.61 134.058,1343.46 159.349,1286.57 184.639,1243.65 209.929,1207.7 235.219,1176.14 285.8,1121.53 \n  336.381,1074.42 397.174,1024.36 457.968,979.393 509.368,944.379 560.768,911.562 672.438,846.202 775.388,791.514 885.762,737.413 1013.64,679.356 1127.28,631.134 \n  1226.94,591.026 1335.59,549.289 1444.88,509.135 1565.72,466.611 1680.7,427.762 1800.25,388.85 1900.89,357.151 2023.75,319.634 2139.25,285.451 2324.28,232.658 \n  2352.76,224.732 \n  \"/>\n<polyline clip-path=\"url(#clip432)\" style=\"stroke:#3da44d; stroke-linecap:butt; stroke-linejoin:round; stroke-width:4; stroke-opacity:1; fill:none\" points=\"\n  112.177,1445.64 117.647,1402.92 123.118,1378.61 128.588,1359.61 134.058,1343.46 159.349,1286.57 184.639,1243.65 209.929,1207.7 235.219,1176.14 285.8,1121.53 \n  336.381,1074.42 397.174,1024.36 457.968,979.393 509.368,944.379 560.768,911.562 672.438,846.202 775.388,791.514 885.762,737.413 1013.64,679.356 1127.28,631.134 \n  1226.94,591.026 1335.59,549.289 1444.88,509.135 1565.72,466.61 1680.7,427.761 1800.25,388.848 1900.89,357.147 2023.75,319.628 2139.25,285.442 2324.28,232.641 \n  2352.76,224.714 \n  \"/>\n<path clip-path=\"url(#clip430)\" d=\"\nM1919.76 1438.47 L2278.07 1438.47 L2278.07 1231.11 L1919.76 1231.11  Z\n  \" fill=\"#ffffff\" fill-rule=\"evenodd\" fill-opacity=\"1\"/>\n<polyline clip-path=\"url(#clip430)\" style=\"stroke:#000000; stroke-linecap:butt; stroke-linejoin:round; stroke-width:4; stroke-opacity:1; fill:none\" points=\"\n  1919.76,1438.47 2278.07,1438.47 2278.07,1231.11 1919.76,1231.11 1919.76,1438.47 \n  \"/>\n<polyline clip-path=\"url(#clip430)\" style=\"stroke:#009af9; stroke-linecap:butt; stroke-linejoin:round; stroke-width:4; stroke-opacity:1; fill:none\" points=\"\n  1943.76,1282.95 2087.76,1282.95 \n  \"/>\n<path clip-path=\"url(#clip430)\" d=\"M2111.76 1264.22 L2116.04 1264.22 L2116.04 1285.49 L2128.75 1274.31 L2134.19 1274.31 L2120.44 1286.44 L2134.77 1300.23 L2129.21 1300.23 L2116.04 1287.57 L2116.04 1300.23 L2111.76 1300.23 L2111.76 1264.22 Z\" fill=\"#000000\" fill-rule=\"evenodd\" fill-opacity=\"1\" /><path clip-path=\"url(#clip430)\" d=\"M2159.07 1308.1 L2159.07 1311.41 L2134.45 1311.41 L2134.45 1308.1 L2159.07 1308.1 Z\" fill=\"#000000\" fill-rule=\"evenodd\" fill-opacity=\"1\" /><path clip-path=\"url(#clip430)\" d=\"M2177.85 1281.6 Q2181.2 1282.32 2183.08 1284.59 Q2184.98 1286.85 2184.98 1290.19 Q2184.98 1295.3 2181.46 1298.1 Q2177.94 1300.91 2171.46 1300.91 Q2169.28 1300.91 2166.97 1300.47 Q2164.68 1300.05 2162.22 1299.19 L2162.22 1294.68 Q2164.17 1295.81 2166.48 1296.39 Q2168.8 1296.97 2171.32 1296.97 Q2175.72 1296.97 2178.01 1295.23 Q2180.32 1293.5 2180.32 1290.19 Q2180.32 1287.13 2178.17 1285.42 Q2176.04 1283.68 2172.22 1283.68 L2168.2 1283.68 L2168.2 1279.84 L2172.41 1279.84 Q2175.86 1279.84 2177.69 1278.48 Q2179.51 1277.09 2179.51 1274.49 Q2179.51 1271.83 2177.62 1270.42 Q2175.74 1268.98 2172.22 1268.98 Q2170.3 1268.98 2168.1 1269.4 Q2165.9 1269.82 2163.26 1270.7 L2163.26 1266.53 Q2165.93 1265.79 2168.24 1265.42 Q2170.58 1265.05 2172.64 1265.05 Q2177.96 1265.05 2181.07 1267.48 Q2184.17 1269.89 2184.17 1274.01 Q2184.17 1276.88 2182.52 1278.87 Q2180.88 1280.84 2177.85 1281.6 Z\" fill=\"#000000\" fill-rule=\"evenodd\" fill-opacity=\"1\" /><path clip-path=\"url(#clip430)\" d=\"M2212.94 1308.1 L2212.94 1311.41 L2188.31 1311.41 L2188.31 1308.1 L2212.94 1308.1 Z\" fill=\"#000000\" fill-rule=\"evenodd\" fill-opacity=\"1\" /><path clip-path=\"url(#clip430)\" d=\"M2230.07 1264.22 L2230.07 1267.76 L2226 1267.76 Q2223.7 1267.76 2222.8 1268.68 Q2221.92 1269.61 2221.92 1272.02 L2221.92 1274.31 L2228.94 1274.31 L2228.94 1277.62 L2221.92 1277.62 L2221.92 1300.23 L2217.64 1300.23 L2217.64 1277.62 L2213.57 1277.62 L2213.57 1274.31 L2217.64 1274.31 L2217.64 1272.5 Q2217.64 1268.17 2219.65 1266.21 Q2221.67 1264.22 2226.04 1264.22 L2230.07 1264.22 Z\" fill=\"#000000\" fill-rule=\"evenodd\" fill-opacity=\"1\" /><polyline clip-path=\"url(#clip430)\" style=\"stroke:#e26f46; stroke-linecap:butt; stroke-linejoin:round; stroke-width:4; stroke-opacity:1; fill:none\" stroke-dasharray=\"16, 10\" points=\"\n  1943.76,1334.79 2087.76,1334.79 \n  \"/>\n<path clip-path=\"url(#clip430)\" d=\"M2130.19 1326.91 L2130.19 1330.94 Q2128.38 1330.01 2126.44 1329.55 Q2124.49 1329.09 2122.41 1329.09 Q2119.24 1329.09 2117.64 1330.06 Q2116.07 1331.03 2116.07 1332.98 Q2116.07 1334.46 2117.2 1335.32 Q2118.33 1336.15 2121.76 1336.91 L2123.22 1337.24 Q2127.76 1338.21 2129.65 1339.99 Q2131.58 1341.75 2131.58 1344.92 Q2131.58 1348.53 2128.7 1350.64 Q2125.86 1352.75 2120.86 1352.75 Q2118.77 1352.75 2116.51 1352.33 Q2114.26 1351.94 2111.76 1351.13 L2111.76 1346.73 Q2114.12 1347.95 2116.41 1348.58 Q2118.7 1349.18 2120.95 1349.18 Q2123.96 1349.18 2125.58 1348.16 Q2127.2 1347.12 2127.2 1345.25 Q2127.2 1343.51 2126.02 1342.58 Q2124.86 1341.66 2120.9 1340.8 L2119.42 1340.45 Q2115.46 1339.62 2113.7 1337.91 Q2111.95 1336.17 2111.95 1333.16 Q2111.95 1329.51 2114.54 1327.51 Q2117.13 1325.52 2121.9 1325.52 Q2124.26 1325.52 2126.34 1325.87 Q2128.43 1326.22 2130.19 1326.91 Z\" fill=\"#000000\" fill-rule=\"evenodd\" fill-opacity=\"1\" /><path clip-path=\"url(#clip430)\" d=\"M2140.9 1339.13 Q2140.9 1343.83 2142.83 1346.52 Q2144.77 1349.18 2148.15 1349.18 Q2151.53 1349.18 2153.47 1346.52 Q2155.42 1343.83 2155.42 1339.13 Q2155.42 1334.44 2153.47 1331.77 Q2151.53 1329.09 2148.15 1329.09 Q2144.77 1329.09 2142.83 1331.77 Q2140.9 1334.44 2140.9 1339.13 M2155.42 1348.19 Q2154.07 1350.5 2152.01 1351.63 Q2149.98 1352.75 2147.11 1352.75 Q2142.41 1352.75 2139.45 1349 Q2136.51 1345.25 2136.51 1339.13 Q2136.51 1333.02 2139.45 1329.27 Q2142.41 1325.52 2147.11 1325.52 Q2149.98 1325.52 2152.01 1326.66 Q2154.07 1327.77 2155.42 1330.08 L2155.42 1326.15 L2159.68 1326.15 L2159.68 1361.94 L2155.42 1361.94 L2155.42 1348.19 Z\" fill=\"#000000\" fill-rule=\"evenodd\" fill-opacity=\"1\" /><path clip-path=\"url(#clip430)\" d=\"M2183.47 1330.13 Q2182.76 1329.71 2181.9 1329.53 Q2181.07 1329.32 2180.05 1329.32 Q2176.44 1329.32 2174.49 1331.68 Q2172.57 1334.02 2172.57 1338.42 L2172.57 1352.07 L2168.29 1352.07 L2168.29 1326.15 L2172.57 1326.15 L2172.57 1330.18 Q2173.91 1327.82 2176.07 1326.68 Q2178.22 1325.52 2181.3 1325.52 Q2181.74 1325.52 2182.27 1325.59 Q2182.8 1325.64 2183.45 1325.76 L2183.47 1330.13 Z\" fill=\"#000000\" fill-rule=\"evenodd\" fill-opacity=\"1\" /><path clip-path=\"url(#clip430)\" d=\"M2192.15 1318.79 L2192.15 1326.15 L2200.93 1326.15 L2200.93 1329.46 L2192.15 1329.46 L2192.15 1343.53 Q2192.15 1346.7 2193.01 1347.61 Q2193.89 1348.51 2196.55 1348.51 L2200.93 1348.51 L2200.93 1352.07 L2196.55 1352.07 Q2191.62 1352.07 2189.75 1350.25 Q2187.87 1348.39 2187.87 1343.53 L2187.87 1329.46 L2184.75 1329.46 L2184.75 1326.15 L2187.87 1326.15 L2187.87 1318.79 L2192.15 1318.79 Z\" fill=\"#000000\" fill-rule=\"evenodd\" fill-opacity=\"1\" /><polyline clip-path=\"url(#clip430)\" style=\"stroke:#3da44d; stroke-linecap:butt; stroke-linejoin:round; stroke-width:4; stroke-opacity:1; fill:none\" points=\"\n  1943.76,1386.63 2087.76,1386.63 \n  \"/>\n<path clip-path=\"url(#clip430)\" d=\"M2111.76 1367.9 L2116.04 1367.9 L2116.04 1389.17 L2128.75 1377.99 L2134.19 1377.99 L2120.44 1390.12 L2134.77 1403.91 L2129.21 1403.91 L2116.04 1391.25 L2116.04 1403.91 L2111.76 1403.91 L2111.76 1367.9 Z\" fill=\"#000000\" fill-rule=\"evenodd\" fill-opacity=\"1\" /><path clip-path=\"url(#clip430)\" d=\"M2159.07 1411.78 L2159.07 1415.09 L2134.45 1415.09 L2134.45 1411.78 L2159.07 1411.78 Z\" fill=\"#000000\" fill-rule=\"evenodd\" fill-opacity=\"1\" /><path clip-path=\"url(#clip430)\" d=\"M2163.73 1369.35 L2182.08 1369.35 L2182.08 1373.29 L2168.01 1373.29 L2168.01 1381.76 Q2169.03 1381.41 2170.05 1381.25 Q2171.07 1381.07 2172.08 1381.07 Q2177.87 1381.07 2181.25 1384.24 Q2184.63 1387.41 2184.63 1392.83 Q2184.63 1398.41 2181.16 1401.51 Q2177.69 1404.59 2171.37 1404.59 Q2169.19 1404.59 2166.92 1404.22 Q2164.68 1403.84 2162.27 1403.1 L2162.27 1398.41 Q2164.35 1399.54 2166.57 1400.09 Q2168.8 1400.65 2171.27 1400.65 Q2175.28 1400.65 2177.62 1398.54 Q2179.95 1396.44 2179.95 1392.83 Q2179.95 1389.22 2177.62 1387.11 Q2175.28 1385 2171.27 1385 Q2169.4 1385 2167.52 1385.42 Q2165.67 1385.84 2163.73 1386.72 L2163.73 1369.35 Z\" fill=\"#000000\" fill-rule=\"evenodd\" fill-opacity=\"1\" /><path clip-path=\"url(#clip430)\" d=\"M2212.94 1411.78 L2212.94 1415.09 L2188.31 1415.09 L2188.31 1411.78 L2212.94 1411.78 Z\" fill=\"#000000\" fill-rule=\"evenodd\" fill-opacity=\"1\" /><path clip-path=\"url(#clip430)\" d=\"M2230.07 1367.9 L2230.07 1371.44 L2226 1371.44 Q2223.7 1371.44 2222.8 1372.36 Q2221.92 1373.29 2221.92 1375.7 L2221.92 1377.99 L2228.94 1377.99 L2228.94 1381.3 L2221.92 1381.3 L2221.92 1403.91 L2217.64 1403.91 L2217.64 1381.3 L2213.57 1381.3 L2213.57 1377.99 L2217.64 1377.99 L2217.64 1376.18 Q2217.64 1371.85 2219.65 1369.89 Q2221.67 1367.9 2226.04 1367.9 L2230.07 1367.9 Z\" fill=\"#000000\" fill-rule=\"evenodd\" fill-opacity=\"1\" /></svg>\n",
      "text/html": [
       "<?xml version=\"1.0\" encoding=\"utf-8\"?>\n",
       "<svg xmlns=\"http://www.w3.org/2000/svg\" xmlns:xlink=\"http://www.w3.org/1999/xlink\" width=\"600\" height=\"400\" viewBox=\"0 0 2400 1600\">\n",
       "<defs>\n",
       "  <clipPath id=\"clip480\">\n",
       "    <rect x=\"0\" y=\"0\" width=\"2400\" height=\"1600\"/>\n",
       "  </clipPath>\n",
       "</defs>\n",
       "<path clip-path=\"url(#clip480)\" d=\"\n",
       "M0 1600 L2400 1600 L2400 0 L0 0  Z\n",
       "  \" fill=\"#ffffff\" fill-rule=\"evenodd\" fill-opacity=\"1\"/>\n",
       "<defs>\n",
       "  <clipPath id=\"clip481\">\n",
       "    <rect x=\"480\" y=\"0\" width=\"1681\" height=\"1600\"/>\n",
       "  </clipPath>\n",
       "</defs>\n",
       "<path clip-path=\"url(#clip480)\" d=\"\n",
       "M112.177 1486.45 L2352.76 1486.45 L2352.76 47.2441 L112.177 47.2441  Z\n",
       "  \" fill=\"#ffffff\" fill-rule=\"evenodd\" fill-opacity=\"1\"/>\n",
       "<defs>\n",
       "  <clipPath id=\"clip482\">\n",
       "    <rect x=\"112\" y=\"47\" width=\"2242\" height=\"1440\"/>\n",
       "  </clipPath>\n",
       "</defs>\n",
       "<polyline clip-path=\"url(#clip482)\" style=\"stroke:#000000; stroke-linecap:butt; stroke-linejoin:round; stroke-width:2; stroke-opacity:0.1; fill:none\" points=\"\n",
       "  484.984,1486.45 484.984,47.2441 \n",
       "  \"/>\n",
       "<polyline clip-path=\"url(#clip482)\" style=\"stroke:#000000; stroke-linecap:butt; stroke-linejoin:round; stroke-width:2; stroke-opacity:0.1; fill:none\" points=\"\n",
       "  858.539,1486.45 858.539,47.2441 \n",
       "  \"/>\n",
       "<polyline clip-path=\"url(#clip482)\" style=\"stroke:#000000; stroke-linecap:butt; stroke-linejoin:round; stroke-width:2; stroke-opacity:0.1; fill:none\" points=\"\n",
       "  1232.09,1486.45 1232.09,47.2441 \n",
       "  \"/>\n",
       "<polyline clip-path=\"url(#clip482)\" style=\"stroke:#000000; stroke-linecap:butt; stroke-linejoin:round; stroke-width:2; stroke-opacity:0.1; fill:none\" points=\"\n",
       "  1605.65,1486.45 1605.65,47.2441 \n",
       "  \"/>\n",
       "<polyline clip-path=\"url(#clip482)\" style=\"stroke:#000000; stroke-linecap:butt; stroke-linejoin:round; stroke-width:2; stroke-opacity:0.1; fill:none\" points=\"\n",
       "  1979.2,1486.45 1979.2,47.2441 \n",
       "  \"/>\n",
       "<polyline clip-path=\"url(#clip482)\" style=\"stroke:#000000; stroke-linecap:butt; stroke-linejoin:round; stroke-width:2; stroke-opacity:0.1; fill:none\" points=\"\n",
       "  2352.76,1486.45 2352.76,47.2441 \n",
       "  \"/>\n",
       "<polyline clip-path=\"url(#clip480)\" style=\"stroke:#000000; stroke-linecap:butt; stroke-linejoin:round; stroke-width:4; stroke-opacity:1; fill:none\" points=\"\n",
       "  112.177,1486.45 2352.76,1486.45 \n",
       "  \"/>\n",
       "<polyline clip-path=\"url(#clip480)\" style=\"stroke:#000000; stroke-linecap:butt; stroke-linejoin:round; stroke-width:4; stroke-opacity:1; fill:none\" points=\"\n",
       "  484.984,1486.45 484.984,1467.55 \n",
       "  \"/>\n",
       "<polyline clip-path=\"url(#clip480)\" style=\"stroke:#000000; stroke-linecap:butt; stroke-linejoin:round; stroke-width:4; stroke-opacity:1; fill:none\" points=\"\n",
       "  858.539,1486.45 858.539,1467.55 \n",
       "  \"/>\n",
       "<polyline clip-path=\"url(#clip480)\" style=\"stroke:#000000; stroke-linecap:butt; stroke-linejoin:round; stroke-width:4; stroke-opacity:1; fill:none\" points=\"\n",
       "  1232.09,1486.45 1232.09,1467.55 \n",
       "  \"/>\n",
       "<polyline clip-path=\"url(#clip480)\" style=\"stroke:#000000; stroke-linecap:butt; stroke-linejoin:round; stroke-width:4; stroke-opacity:1; fill:none\" points=\"\n",
       "  1605.65,1486.45 1605.65,1467.55 \n",
       "  \"/>\n",
       "<polyline clip-path=\"url(#clip480)\" style=\"stroke:#000000; stroke-linecap:butt; stroke-linejoin:round; stroke-width:4; stroke-opacity:1; fill:none\" points=\"\n",
       "  1979.2,1486.45 1979.2,1467.55 \n",
       "  \"/>\n",
       "<polyline clip-path=\"url(#clip480)\" style=\"stroke:#000000; stroke-linecap:butt; stroke-linejoin:round; stroke-width:4; stroke-opacity:1; fill:none\" points=\"\n",
       "  2352.76,1486.45 2352.76,1467.55 \n",
       "  \"/>\n",
       "<path clip-path=\"url(#clip480)\" d=\"M475.262 1514.29 L493.619 1514.29 L493.619 1518.22 L479.545 1518.22 L479.545 1526.7 Q480.563 1526.35 481.582 1526.19 Q482.6 1526 483.619 1526 Q489.406 1526 492.785 1529.17 Q496.165 1532.34 496.165 1537.76 Q496.165 1543.34 492.693 1546.44 Q489.22 1549.52 482.901 1549.52 Q480.725 1549.52 478.457 1549.15 Q476.211 1548.78 473.804 1548.04 L473.804 1543.34 Q475.887 1544.47 478.109 1545.03 Q480.332 1545.58 482.808 1545.58 Q486.813 1545.58 489.151 1543.48 Q491.489 1541.37 491.489 1537.76 Q491.489 1534.15 489.151 1532.04 Q486.813 1529.94 482.808 1529.94 Q480.933 1529.94 479.058 1530.35 Q477.207 1530.77 475.262 1531.65 L475.262 1514.29 Z\" fill=\"#000000\" fill-rule=\"evenodd\" fill-opacity=\"1\" /><path clip-path=\"url(#clip480)\" d=\"M833.226 1544.91 L840.865 1544.91 L840.865 1518.55 L832.555 1520.21 L832.555 1515.95 L840.819 1514.29 L845.495 1514.29 L845.495 1544.91 L853.134 1544.91 L853.134 1548.85 L833.226 1548.85 L833.226 1544.91 Z\" fill=\"#000000\" fill-rule=\"evenodd\" fill-opacity=\"1\" /><path clip-path=\"url(#clip480)\" d=\"M872.578 1517.37 Q868.967 1517.37 867.138 1520.93 Q865.333 1524.47 865.333 1531.6 Q865.333 1538.71 867.138 1542.27 Q868.967 1545.82 872.578 1545.82 Q876.212 1545.82 878.018 1542.27 Q879.846 1538.71 879.846 1531.6 Q879.846 1524.47 878.018 1520.93 Q876.212 1517.37 872.578 1517.37 M872.578 1513.66 Q878.388 1513.66 881.444 1518.27 Q884.522 1522.85 884.522 1531.6 Q884.522 1540.33 881.444 1544.94 Q878.388 1549.52 872.578 1549.52 Q866.768 1549.52 863.689 1544.94 Q860.634 1540.33 860.634 1531.6 Q860.634 1522.85 863.689 1518.27 Q866.768 1513.66 872.578 1513.66 Z\" fill=\"#000000\" fill-rule=\"evenodd\" fill-opacity=\"1\" /><path clip-path=\"url(#clip480)\" d=\"M1207.28 1544.91 L1214.92 1544.91 L1214.92 1518.55 L1206.61 1520.21 L1206.61 1515.95 L1214.87 1514.29 L1219.55 1514.29 L1219.55 1544.91 L1227.19 1544.91 L1227.19 1548.85 L1207.28 1548.85 L1207.28 1544.91 Z\" fill=\"#000000\" fill-rule=\"evenodd\" fill-opacity=\"1\" /><path clip-path=\"url(#clip480)\" d=\"M1236.68 1514.29 L1255.03 1514.29 L1255.03 1518.22 L1240.96 1518.22 L1240.96 1526.7 Q1241.98 1526.35 1243 1526.19 Q1244.01 1526 1245.03 1526 Q1250.82 1526 1254.2 1529.17 Q1257.58 1532.34 1257.58 1537.76 Q1257.58 1543.34 1254.11 1546.44 Q1250.63 1549.52 1244.32 1549.52 Q1242.14 1549.52 1239.87 1549.15 Q1237.63 1548.78 1235.22 1548.04 L1235.22 1543.34 Q1237.3 1544.47 1239.52 1545.03 Q1241.75 1545.58 1244.22 1545.58 Q1248.23 1545.58 1250.57 1543.48 Q1252.9 1541.37 1252.9 1537.76 Q1252.9 1534.15 1250.57 1532.04 Q1248.23 1529.94 1244.22 1529.94 Q1242.35 1529.94 1240.47 1530.35 Q1238.62 1530.77 1236.68 1531.65 L1236.68 1514.29 Z\" fill=\"#000000\" fill-rule=\"evenodd\" fill-opacity=\"1\" /><path clip-path=\"url(#clip480)\" d=\"M1584.42 1544.91 L1600.74 1544.91 L1600.74 1548.85 L1578.8 1548.85 L1578.8 1544.91 Q1581.46 1542.16 1586.04 1537.53 Q1590.65 1532.88 1591.83 1531.53 Q1594.07 1529.01 1594.95 1527.27 Q1595.86 1525.51 1595.86 1523.82 Q1595.86 1521.07 1593.91 1519.33 Q1591.99 1517.6 1588.89 1517.6 Q1586.69 1517.6 1584.24 1518.36 Q1581.8 1519.13 1579.03 1520.68 L1579.03 1515.95 Q1581.85 1514.82 1584.3 1514.24 Q1586.76 1513.66 1588.8 1513.66 Q1594.17 1513.66 1597.36 1516.35 Q1600.55 1519.03 1600.55 1523.52 Q1600.55 1525.65 1599.74 1527.57 Q1598.96 1529.47 1596.85 1532.07 Q1596.27 1532.74 1593.17 1535.95 Q1590.07 1539.15 1584.42 1544.91 Z\" fill=\"#000000\" fill-rule=\"evenodd\" fill-opacity=\"1\" /><path clip-path=\"url(#clip480)\" d=\"M1620.55 1517.37 Q1616.94 1517.37 1615.11 1520.93 Q1613.31 1524.47 1613.31 1531.6 Q1613.31 1538.71 1615.11 1542.27 Q1616.94 1545.82 1620.55 1545.82 Q1624.19 1545.82 1625.99 1542.27 Q1627.82 1538.71 1627.82 1531.6 Q1627.82 1524.47 1625.99 1520.93 Q1624.19 1517.37 1620.55 1517.37 M1620.55 1513.66 Q1626.36 1513.66 1629.42 1518.27 Q1632.5 1522.85 1632.5 1531.6 Q1632.5 1540.33 1629.42 1544.94 Q1626.36 1549.52 1620.55 1549.52 Q1614.74 1549.52 1611.67 1544.94 Q1608.61 1540.33 1608.61 1531.6 Q1608.61 1522.85 1611.67 1518.27 Q1614.74 1513.66 1620.55 1513.66 Z\" fill=\"#000000\" fill-rule=\"evenodd\" fill-opacity=\"1\" /><path clip-path=\"url(#clip480)\" d=\"M1958.47 1544.91 L1974.79 1544.91 L1974.79 1548.85 L1952.85 1548.85 L1952.85 1544.91 Q1955.51 1542.16 1960.09 1537.53 Q1964.7 1532.88 1965.88 1531.53 Q1968.13 1529.01 1969 1527.27 Q1969.91 1525.51 1969.91 1523.82 Q1969.91 1521.07 1967.96 1519.33 Q1966.04 1517.6 1962.94 1517.6 Q1960.74 1517.6 1958.29 1518.36 Q1955.86 1519.13 1953.08 1520.68 L1953.08 1515.95 Q1955.9 1514.82 1958.36 1514.24 Q1960.81 1513.66 1962.85 1513.66 Q1968.22 1513.66 1971.41 1516.35 Q1974.61 1519.03 1974.61 1523.52 Q1974.61 1525.65 1973.8 1527.57 Q1973.01 1529.47 1970.9 1532.07 Q1970.32 1532.74 1967.22 1535.95 Q1964.12 1539.15 1958.47 1544.91 Z\" fill=\"#000000\" fill-rule=\"evenodd\" fill-opacity=\"1\" /><path clip-path=\"url(#clip480)\" d=\"M1984.65 1514.29 L2003.01 1514.29 L2003.01 1518.22 L1988.94 1518.22 L1988.94 1526.7 Q1989.95 1526.35 1990.97 1526.19 Q1991.99 1526 1993.01 1526 Q1998.8 1526 2002.18 1529.17 Q2005.56 1532.34 2005.56 1537.76 Q2005.56 1543.34 2002.08 1546.44 Q1998.61 1549.52 1992.29 1549.52 Q1990.12 1549.52 1987.85 1549.15 Q1985.6 1548.78 1983.19 1548.04 L1983.19 1543.34 Q1985.28 1544.47 1987.5 1545.03 Q1989.72 1545.58 1992.2 1545.58 Q1996.2 1545.58 1998.54 1543.48 Q2000.88 1541.37 2000.88 1537.76 Q2000.88 1534.15 1998.54 1532.04 Q1996.2 1529.94 1992.2 1529.94 Q1990.32 1529.94 1988.45 1530.35 Q1986.6 1530.77 1984.65 1531.65 L1984.65 1514.29 Z\" fill=\"#000000\" fill-rule=\"evenodd\" fill-opacity=\"1\" /><path clip-path=\"url(#clip480)\" d=\"M2341.6 1530.21 Q2344.96 1530.93 2346.83 1533.2 Q2348.73 1535.47 2348.73 1538.8 Q2348.73 1543.92 2345.21 1546.72 Q2341.69 1549.52 2335.21 1549.52 Q2333.03 1549.52 2330.72 1549.08 Q2328.43 1548.66 2325.97 1547.81 L2325.97 1543.29 Q2327.92 1544.43 2330.23 1545.01 Q2332.55 1545.58 2335.07 1545.58 Q2339.47 1545.58 2341.76 1543.85 Q2344.08 1542.11 2344.08 1538.8 Q2344.08 1535.75 2341.92 1534.03 Q2339.79 1532.3 2335.97 1532.3 L2331.95 1532.3 L2331.95 1528.45 L2336.16 1528.45 Q2339.61 1528.45 2341.44 1527.09 Q2343.27 1525.7 2343.27 1523.11 Q2343.27 1520.45 2341.37 1519.03 Q2339.49 1517.6 2335.97 1517.6 Q2334.05 1517.6 2331.85 1518.01 Q2329.65 1518.43 2327.02 1519.31 L2327.02 1515.14 Q2329.68 1514.4 2331.99 1514.03 Q2334.33 1513.66 2336.39 1513.66 Q2341.71 1513.66 2344.82 1516.09 Q2347.92 1518.5 2347.92 1522.62 Q2347.92 1525.49 2346.27 1527.48 Q2344.63 1529.45 2341.6 1530.21 Z\" fill=\"#000000\" fill-rule=\"evenodd\" fill-opacity=\"1\" /><path clip-path=\"url(#clip480)\" d=\"M2367.59 1517.37 Q2363.98 1517.37 2362.15 1520.93 Q2360.35 1524.47 2360.35 1531.6 Q2360.35 1538.71 2362.15 1542.27 Q2363.98 1545.82 2367.59 1545.82 Q2371.23 1545.82 2373.03 1542.27 Q2374.86 1538.71 2374.86 1531.6 Q2374.86 1524.47 2373.03 1520.93 Q2371.23 1517.37 2367.59 1517.37 M2367.59 1513.66 Q2373.4 1513.66 2376.46 1518.27 Q2379.54 1522.85 2379.54 1531.6 Q2379.54 1540.33 2376.46 1544.94 Q2373.4 1549.52 2367.59 1549.52 Q2361.78 1549.52 2358.7 1544.94 Q2355.65 1540.33 2355.65 1531.6 Q2355.65 1522.85 2358.7 1518.27 Q2361.78 1513.66 2367.59 1513.66 Z\" fill=\"#000000\" fill-rule=\"evenodd\" fill-opacity=\"1\" /><polyline clip-path=\"url(#clip482)\" style=\"stroke:#000000; stroke-linecap:butt; stroke-linejoin:round; stroke-width:2; stroke-opacity:0.1; fill:none\" points=\"\n",
       "  112.177,1468.42 2352.76,1468.42 \n",
       "  \"/>\n",
       "<polyline clip-path=\"url(#clip482)\" style=\"stroke:#000000; stroke-linecap:butt; stroke-linejoin:round; stroke-width:2; stroke-opacity:0.1; fill:none\" points=\"\n",
       "  112.177,1241.36 2352.76,1241.36 \n",
       "  \"/>\n",
       "<polyline clip-path=\"url(#clip482)\" style=\"stroke:#000000; stroke-linecap:butt; stroke-linejoin:round; stroke-width:2; stroke-opacity:0.1; fill:none\" points=\"\n",
       "  112.177,1014.29 2352.76,1014.29 \n",
       "  \"/>\n",
       "<polyline clip-path=\"url(#clip482)\" style=\"stroke:#000000; stroke-linecap:butt; stroke-linejoin:round; stroke-width:2; stroke-opacity:0.1; fill:none\" points=\"\n",
       "  112.177,787.225 2352.76,787.225 \n",
       "  \"/>\n",
       "<polyline clip-path=\"url(#clip482)\" style=\"stroke:#000000; stroke-linecap:butt; stroke-linejoin:round; stroke-width:2; stroke-opacity:0.1; fill:none\" points=\"\n",
       "  112.177,560.159 2352.76,560.159 \n",
       "  \"/>\n",
       "<polyline clip-path=\"url(#clip482)\" style=\"stroke:#000000; stroke-linecap:butt; stroke-linejoin:round; stroke-width:2; stroke-opacity:0.1; fill:none\" points=\"\n",
       "  112.177,333.094 2352.76,333.094 \n",
       "  \"/>\n",
       "<polyline clip-path=\"url(#clip482)\" style=\"stroke:#000000; stroke-linecap:butt; stroke-linejoin:round; stroke-width:2; stroke-opacity:0.1; fill:none\" points=\"\n",
       "  112.177,106.028 2352.76,106.028 \n",
       "  \"/>\n",
       "<polyline clip-path=\"url(#clip480)\" style=\"stroke:#000000; stroke-linecap:butt; stroke-linejoin:round; stroke-width:4; stroke-opacity:1; fill:none\" points=\"\n",
       "  112.177,1486.45 112.177,47.2441 \n",
       "  \"/>\n",
       "<polyline clip-path=\"url(#clip480)\" style=\"stroke:#000000; stroke-linecap:butt; stroke-linejoin:round; stroke-width:4; stroke-opacity:1; fill:none\" points=\"\n",
       "  112.177,1468.42 131.075,1468.42 \n",
       "  \"/>\n",
       "<polyline clip-path=\"url(#clip480)\" style=\"stroke:#000000; stroke-linecap:butt; stroke-linejoin:round; stroke-width:4; stroke-opacity:1; fill:none\" points=\"\n",
       "  112.177,1241.36 131.075,1241.36 \n",
       "  \"/>\n",
       "<polyline clip-path=\"url(#clip480)\" style=\"stroke:#000000; stroke-linecap:butt; stroke-linejoin:round; stroke-width:4; stroke-opacity:1; fill:none\" points=\"\n",
       "  112.177,1014.29 131.075,1014.29 \n",
       "  \"/>\n",
       "<polyline clip-path=\"url(#clip480)\" style=\"stroke:#000000; stroke-linecap:butt; stroke-linejoin:round; stroke-width:4; stroke-opacity:1; fill:none\" points=\"\n",
       "  112.177,787.225 131.075,787.225 \n",
       "  \"/>\n",
       "<polyline clip-path=\"url(#clip480)\" style=\"stroke:#000000; stroke-linecap:butt; stroke-linejoin:round; stroke-width:4; stroke-opacity:1; fill:none\" points=\"\n",
       "  112.177,560.159 131.075,560.159 \n",
       "  \"/>\n",
       "<polyline clip-path=\"url(#clip480)\" style=\"stroke:#000000; stroke-linecap:butt; stroke-linejoin:round; stroke-width:4; stroke-opacity:1; fill:none\" points=\"\n",
       "  112.177,333.094 131.075,333.094 \n",
       "  \"/>\n",
       "<polyline clip-path=\"url(#clip480)\" style=\"stroke:#000000; stroke-linecap:butt; stroke-linejoin:round; stroke-width:4; stroke-opacity:1; fill:none\" points=\"\n",
       "  112.177,106.028 131.075,106.028 \n",
       "  \"/>\n",
       "<path clip-path=\"url(#clip480)\" d=\"M64.2328 1454.22 Q60.6217 1454.22 58.793 1457.79 Q56.9875 1461.33 56.9875 1468.46 Q56.9875 1475.56 58.793 1479.13 Q60.6217 1482.67 64.2328 1482.67 Q67.867 1482.67 69.6726 1479.13 Q71.5013 1475.56 71.5013 1468.46 Q71.5013 1461.33 69.6726 1457.79 Q67.867 1454.22 64.2328 1454.22 M64.2328 1450.52 Q70.0429 1450.52 73.0985 1455.12 Q76.1772 1459.71 76.1772 1468.46 Q76.1772 1477.18 73.0985 1481.79 Q70.0429 1486.37 64.2328 1486.37 Q58.4226 1486.37 55.344 1481.79 Q52.2884 1477.18 52.2884 1468.46 Q52.2884 1459.71 55.344 1455.12 Q58.4226 1450.52 64.2328 1450.52 Z\" fill=\"#000000\" fill-rule=\"evenodd\" fill-opacity=\"1\" /><path clip-path=\"url(#clip480)\" d=\"M56.2699 1254.7 L63.9087 1254.7 L63.9087 1228.34 L55.5986 1230 L55.5986 1225.74 L63.8624 1224.08 L68.5383 1224.08 L68.5383 1254.7 L76.1772 1254.7 L76.1772 1258.64 L56.2699 1258.64 L56.2699 1254.7 Z\" fill=\"#000000\" fill-rule=\"evenodd\" fill-opacity=\"1\" /><path clip-path=\"url(#clip480)\" d=\"M59.8578 1027.64 L76.1772 1027.64 L76.1772 1031.57 L54.2328 1031.57 L54.2328 1027.64 Q56.8949 1024.88 61.4782 1020.25 Q66.0846 1015.6 67.2652 1014.26 Q69.5105 1011.73 70.3902 1010 Q71.2929 1008.24 71.2929 1006.55 Q71.2929 1003.79 69.3485 1002.06 Q67.4272 1000.32 64.3254 1000.32 Q62.1263 1000.32 59.6726 1001.08 Q57.2421 1001.85 54.4643 1003.4 L54.4643 998.678 Q57.2884 997.543 59.7421 996.965 Q62.1958 996.386 64.2328 996.386 Q69.6031 996.386 72.7976 999.071 Q75.992 1001.76 75.992 1006.25 Q75.992 1008.38 75.1818 1010.3 Q74.3948 1012.2 72.2883 1014.79 Q71.7096 1015.46 68.6078 1018.68 Q65.5059 1021.87 59.8578 1027.64 Z\" fill=\"#000000\" fill-rule=\"evenodd\" fill-opacity=\"1\" /><path clip-path=\"url(#clip480)\" d=\"M69.0476 785.871 Q72.404 786.589 74.279 788.857 Q76.1772 791.126 76.1772 794.459 Q76.1772 799.575 72.6587 802.376 Q69.1402 805.176 62.6587 805.176 Q60.4828 805.176 58.168 804.737 Q55.8764 804.32 53.4227 803.463 L53.4227 798.95 Q55.3671 800.084 57.6819 800.663 Q59.9967 801.241 62.5198 801.241 Q66.918 801.241 69.2096 799.505 Q71.5244 797.769 71.5244 794.459 Q71.5244 791.403 69.3717 789.69 Q67.242 787.954 63.4226 787.954 L59.3949 787.954 L59.3949 784.112 L63.6078 784.112 Q67.0569 784.112 68.8855 782.746 Q70.7142 781.357 70.7142 778.765 Q70.7142 776.103 68.8161 774.69 Q66.9411 773.255 63.4226 773.255 Q61.5013 773.255 59.3023 773.672 Q57.1032 774.089 54.4643 774.968 L54.4643 770.802 Q57.1264 770.061 59.4412 769.691 Q61.7791 769.32 63.8393 769.32 Q69.1633 769.32 72.2652 771.751 Q75.367 774.158 75.367 778.278 Q75.367 781.149 73.7235 783.14 Q72.08 785.107 69.0476 785.871 Z\" fill=\"#000000\" fill-rule=\"evenodd\" fill-opacity=\"1\" /><path clip-path=\"url(#clip480)\" d=\"M66.5939 546.953 L54.7884 565.402 L66.5939 565.402 L66.5939 546.953 M65.367 542.879 L71.2466 542.879 L71.2466 565.402 L76.1772 565.402 L76.1772 569.291 L71.2466 569.291 L71.2466 577.439 L66.5939 577.439 L66.5939 569.291 L50.9921 569.291 L50.9921 564.777 L65.367 542.879 Z\" fill=\"#000000\" fill-rule=\"evenodd\" fill-opacity=\"1\" /><path clip-path=\"url(#clip480)\" d=\"M55.2745 315.814 L73.6309 315.814 L73.6309 319.749 L59.5569 319.749 L59.5569 328.221 Q60.5754 327.874 61.5939 327.712 Q62.6124 327.527 63.6309 327.527 Q69.418 327.527 72.7976 330.698 Q76.1772 333.869 76.1772 339.286 Q76.1772 344.864 72.705 347.966 Q69.2328 351.045 62.9134 351.045 Q60.7374 351.045 58.4689 350.675 Q56.2236 350.304 53.8162 349.564 L53.8162 344.864 Q55.8995 345.999 58.1217 346.554 Q60.3439 347.11 62.8208 347.11 Q66.8254 347.11 69.1633 345.003 Q71.5013 342.897 71.5013 339.286 Q71.5013 335.675 69.1633 333.568 Q66.8254 331.462 62.8208 331.462 Q60.9458 331.462 59.0708 331.878 Q57.2189 332.295 55.2745 333.175 L55.2745 315.814 Z\" fill=\"#000000\" fill-rule=\"evenodd\" fill-opacity=\"1\" /><path clip-path=\"url(#clip480)\" d=\"M64.6495 104.165 Q61.5013 104.165 59.6495 106.317 Q57.8208 108.47 57.8208 112.22 Q57.8208 115.947 59.6495 118.123 Q61.5013 120.276 64.6495 120.276 Q67.7976 120.276 69.6263 118.123 Q71.4781 115.947 71.4781 112.22 Q71.4781 108.47 69.6263 106.317 Q67.7976 104.165 64.6495 104.165 M73.9318 89.5119 L73.9318 93.7711 Q72.1726 92.9378 70.367 92.498 Q68.5846 92.0582 66.8254 92.0582 Q62.1958 92.0582 59.7421 95.1832 Q57.3115 98.3081 56.9643 104.628 Q58.33 102.614 60.3902 101.549 Q62.4504 100.461 64.9272 100.461 Q70.1355 100.461 73.1448 103.632 Q76.1772 106.78 76.1772 112.22 Q76.1772 117.544 73.029 120.762 Q69.8809 123.979 64.6495 123.979 Q58.6541 123.979 55.4828 119.396 Q52.3116 114.79 52.3116 106.063 Q52.3116 97.8683 56.2004 93.0072 Q60.0893 88.123 66.6402 88.123 Q68.3994 88.123 70.1818 88.4702 Q71.9874 88.8174 73.9318 89.5119 Z\" fill=\"#000000\" fill-rule=\"evenodd\" fill-opacity=\"1\" /><polyline clip-path=\"url(#clip482)\" style=\"stroke:#009af9; stroke-linecap:butt; stroke-linejoin:round; stroke-width:4; stroke-opacity:1; fill:none\" points=\"\n",
       "  112.177,1434.3 117.647,1401.78 123.118,1378.39 128.588,1359.56 134.058,1343.45 159.349,1286.57 184.639,1243.65 209.929,1207.7 235.219,1176.14 285.8,1121.53 \n",
       "  336.381,1074.39 397.174,1024.25 457.968,979.079 509.368,943.752 560.768,910.468 672.438,843.463 775.388,786.403 885.762,728.795 1013.64,665.416 1127.28,611.354 \n",
       "  1226.94,565.297 1335.59,516.233 1444.88,467.863 1565.72,415.325 1680.7,366.091 1800.25,315.548 1900.89,273.434 2023.75,222.475 2139.25,174.967 2324.28,99.5229 \n",
       "  2352.76,87.9763 \n",
       "  \"/>\n",
       "<polyline clip-path=\"url(#clip482)\" style=\"stroke:#e26f46; stroke-linecap:butt; stroke-linejoin:round; stroke-width:8; stroke-opacity:1; fill:none\" stroke-dasharray=\"32, 20\" points=\"\n",
       "  112.177,1445.72 117.647,1402.92 123.118,1378.61 128.588,1359.61 134.058,1343.46 159.349,1286.57 184.639,1243.65 209.929,1207.7 235.219,1176.14 285.8,1121.53 \n",
       "  336.381,1074.42 397.174,1024.36 457.968,979.393 509.368,944.379 560.768,911.562 672.438,846.202 775.388,791.514 885.762,737.413 1013.64,679.356 1127.28,631.134 \n",
       "  1226.94,591.026 1335.59,549.289 1444.88,509.135 1565.72,466.611 1680.7,427.762 1800.25,388.85 1900.89,357.151 2023.75,319.634 2139.25,285.451 2324.28,232.658 \n",
       "  2352.76,224.732 \n",
       "  \"/>\n",
       "<polyline clip-path=\"url(#clip482)\" style=\"stroke:#3da44d; stroke-linecap:butt; stroke-linejoin:round; stroke-width:4; stroke-opacity:1; fill:none\" points=\"\n",
       "  112.177,1445.64 117.647,1402.92 123.118,1378.61 128.588,1359.61 134.058,1343.46 159.349,1286.57 184.639,1243.65 209.929,1207.7 235.219,1176.14 285.8,1121.53 \n",
       "  336.381,1074.42 397.174,1024.36 457.968,979.393 509.368,944.379 560.768,911.562 672.438,846.202 775.388,791.514 885.762,737.413 1013.64,679.356 1127.28,631.134 \n",
       "  1226.94,591.026 1335.59,549.289 1444.88,509.135 1565.72,466.61 1680.7,427.761 1800.25,388.848 1900.89,357.147 2023.75,319.628 2139.25,285.442 2324.28,232.641 \n",
       "  2352.76,224.714 \n",
       "  \"/>\n",
       "<path clip-path=\"url(#clip480)\" d=\"\n",
       "M1919.76 1438.47 L2278.07 1438.47 L2278.07 1231.11 L1919.76 1231.11  Z\n",
       "  \" fill=\"#ffffff\" fill-rule=\"evenodd\" fill-opacity=\"1\"/>\n",
       "<polyline clip-path=\"url(#clip480)\" style=\"stroke:#000000; stroke-linecap:butt; stroke-linejoin:round; stroke-width:4; stroke-opacity:1; fill:none\" points=\"\n",
       "  1919.76,1438.47 2278.07,1438.47 2278.07,1231.11 1919.76,1231.11 1919.76,1438.47 \n",
       "  \"/>\n",
       "<polyline clip-path=\"url(#clip480)\" style=\"stroke:#009af9; stroke-linecap:butt; stroke-linejoin:round; stroke-width:4; stroke-opacity:1; fill:none\" points=\"\n",
       "  1943.76,1282.95 2087.76,1282.95 \n",
       "  \"/>\n",
       "<path clip-path=\"url(#clip480)\" d=\"M2111.76 1264.22 L2116.04 1264.22 L2116.04 1285.49 L2128.75 1274.31 L2134.19 1274.31 L2120.44 1286.44 L2134.77 1300.23 L2129.21 1300.23 L2116.04 1287.57 L2116.04 1300.23 L2111.76 1300.23 L2111.76 1264.22 Z\" fill=\"#000000\" fill-rule=\"evenodd\" fill-opacity=\"1\" /><path clip-path=\"url(#clip480)\" d=\"M2159.07 1308.1 L2159.07 1311.41 L2134.45 1311.41 L2134.45 1308.1 L2159.07 1308.1 Z\" fill=\"#000000\" fill-rule=\"evenodd\" fill-opacity=\"1\" /><path clip-path=\"url(#clip480)\" d=\"M2177.85 1281.6 Q2181.2 1282.32 2183.08 1284.59 Q2184.98 1286.85 2184.98 1290.19 Q2184.98 1295.3 2181.46 1298.1 Q2177.94 1300.91 2171.46 1300.91 Q2169.28 1300.91 2166.97 1300.47 Q2164.68 1300.05 2162.22 1299.19 L2162.22 1294.68 Q2164.17 1295.81 2166.48 1296.39 Q2168.8 1296.97 2171.32 1296.97 Q2175.72 1296.97 2178.01 1295.23 Q2180.32 1293.5 2180.32 1290.19 Q2180.32 1287.13 2178.17 1285.42 Q2176.04 1283.68 2172.22 1283.68 L2168.2 1283.68 L2168.2 1279.84 L2172.41 1279.84 Q2175.86 1279.84 2177.69 1278.48 Q2179.51 1277.09 2179.51 1274.49 Q2179.51 1271.83 2177.62 1270.42 Q2175.74 1268.98 2172.22 1268.98 Q2170.3 1268.98 2168.1 1269.4 Q2165.9 1269.82 2163.26 1270.7 L2163.26 1266.53 Q2165.93 1265.79 2168.24 1265.42 Q2170.58 1265.05 2172.64 1265.05 Q2177.96 1265.05 2181.07 1267.48 Q2184.17 1269.89 2184.17 1274.01 Q2184.17 1276.88 2182.52 1278.87 Q2180.88 1280.84 2177.85 1281.6 Z\" fill=\"#000000\" fill-rule=\"evenodd\" fill-opacity=\"1\" /><path clip-path=\"url(#clip480)\" d=\"M2212.94 1308.1 L2212.94 1311.41 L2188.31 1311.41 L2188.31 1308.1 L2212.94 1308.1 Z\" fill=\"#000000\" fill-rule=\"evenodd\" fill-opacity=\"1\" /><path clip-path=\"url(#clip480)\" d=\"M2230.07 1264.22 L2230.07 1267.76 L2226 1267.76 Q2223.7 1267.76 2222.8 1268.68 Q2221.92 1269.61 2221.92 1272.02 L2221.92 1274.31 L2228.94 1274.31 L2228.94 1277.62 L2221.92 1277.62 L2221.92 1300.23 L2217.64 1300.23 L2217.64 1277.62 L2213.57 1277.62 L2213.57 1274.31 L2217.64 1274.31 L2217.64 1272.5 Q2217.64 1268.17 2219.65 1266.21 Q2221.67 1264.22 2226.04 1264.22 L2230.07 1264.22 Z\" fill=\"#000000\" fill-rule=\"evenodd\" fill-opacity=\"1\" /><polyline clip-path=\"url(#clip480)\" style=\"stroke:#e26f46; stroke-linecap:butt; stroke-linejoin:round; stroke-width:4; stroke-opacity:1; fill:none\" stroke-dasharray=\"16, 10\" points=\"\n",
       "  1943.76,1334.79 2087.76,1334.79 \n",
       "  \"/>\n",
       "<path clip-path=\"url(#clip480)\" d=\"M2130.19 1326.91 L2130.19 1330.94 Q2128.38 1330.01 2126.44 1329.55 Q2124.49 1329.09 2122.41 1329.09 Q2119.24 1329.09 2117.64 1330.06 Q2116.07 1331.03 2116.07 1332.98 Q2116.07 1334.46 2117.2 1335.32 Q2118.33 1336.15 2121.76 1336.91 L2123.22 1337.24 Q2127.76 1338.21 2129.65 1339.99 Q2131.58 1341.75 2131.58 1344.92 Q2131.58 1348.53 2128.7 1350.64 Q2125.86 1352.75 2120.86 1352.75 Q2118.77 1352.75 2116.51 1352.33 Q2114.26 1351.94 2111.76 1351.13 L2111.76 1346.73 Q2114.12 1347.95 2116.41 1348.58 Q2118.7 1349.18 2120.95 1349.18 Q2123.96 1349.18 2125.58 1348.16 Q2127.2 1347.12 2127.2 1345.25 Q2127.2 1343.51 2126.02 1342.58 Q2124.86 1341.66 2120.9 1340.8 L2119.42 1340.45 Q2115.46 1339.62 2113.7 1337.91 Q2111.95 1336.17 2111.95 1333.16 Q2111.95 1329.51 2114.54 1327.51 Q2117.13 1325.52 2121.9 1325.52 Q2124.26 1325.52 2126.34 1325.87 Q2128.43 1326.22 2130.19 1326.91 Z\" fill=\"#000000\" fill-rule=\"evenodd\" fill-opacity=\"1\" /><path clip-path=\"url(#clip480)\" d=\"M2140.9 1339.13 Q2140.9 1343.83 2142.83 1346.52 Q2144.77 1349.18 2148.15 1349.18 Q2151.53 1349.18 2153.47 1346.52 Q2155.42 1343.83 2155.42 1339.13 Q2155.42 1334.44 2153.47 1331.77 Q2151.53 1329.09 2148.15 1329.09 Q2144.77 1329.09 2142.83 1331.77 Q2140.9 1334.44 2140.9 1339.13 M2155.42 1348.19 Q2154.07 1350.5 2152.01 1351.63 Q2149.98 1352.75 2147.11 1352.75 Q2142.41 1352.75 2139.45 1349 Q2136.51 1345.25 2136.51 1339.13 Q2136.51 1333.02 2139.45 1329.27 Q2142.41 1325.52 2147.11 1325.52 Q2149.98 1325.52 2152.01 1326.66 Q2154.07 1327.77 2155.42 1330.08 L2155.42 1326.15 L2159.68 1326.15 L2159.68 1361.94 L2155.42 1361.94 L2155.42 1348.19 Z\" fill=\"#000000\" fill-rule=\"evenodd\" fill-opacity=\"1\" /><path clip-path=\"url(#clip480)\" d=\"M2183.47 1330.13 Q2182.76 1329.71 2181.9 1329.53 Q2181.07 1329.32 2180.05 1329.32 Q2176.44 1329.32 2174.49 1331.68 Q2172.57 1334.02 2172.57 1338.42 L2172.57 1352.07 L2168.29 1352.07 L2168.29 1326.15 L2172.57 1326.15 L2172.57 1330.18 Q2173.91 1327.82 2176.07 1326.68 Q2178.22 1325.52 2181.3 1325.52 Q2181.74 1325.52 2182.27 1325.59 Q2182.8 1325.64 2183.45 1325.76 L2183.47 1330.13 Z\" fill=\"#000000\" fill-rule=\"evenodd\" fill-opacity=\"1\" /><path clip-path=\"url(#clip480)\" d=\"M2192.15 1318.79 L2192.15 1326.15 L2200.93 1326.15 L2200.93 1329.46 L2192.15 1329.46 L2192.15 1343.53 Q2192.15 1346.7 2193.01 1347.61 Q2193.89 1348.51 2196.55 1348.51 L2200.93 1348.51 L2200.93 1352.07 L2196.55 1352.07 Q2191.62 1352.07 2189.75 1350.25 Q2187.87 1348.39 2187.87 1343.53 L2187.87 1329.46 L2184.75 1329.46 L2184.75 1326.15 L2187.87 1326.15 L2187.87 1318.79 L2192.15 1318.79 Z\" fill=\"#000000\" fill-rule=\"evenodd\" fill-opacity=\"1\" /><polyline clip-path=\"url(#clip480)\" style=\"stroke:#3da44d; stroke-linecap:butt; stroke-linejoin:round; stroke-width:4; stroke-opacity:1; fill:none\" points=\"\n",
       "  1943.76,1386.63 2087.76,1386.63 \n",
       "  \"/>\n",
       "<path clip-path=\"url(#clip480)\" d=\"M2111.76 1367.9 L2116.04 1367.9 L2116.04 1389.17 L2128.75 1377.99 L2134.19 1377.99 L2120.44 1390.12 L2134.77 1403.91 L2129.21 1403.91 L2116.04 1391.25 L2116.04 1403.91 L2111.76 1403.91 L2111.76 1367.9 Z\" fill=\"#000000\" fill-rule=\"evenodd\" fill-opacity=\"1\" /><path clip-path=\"url(#clip480)\" d=\"M2159.07 1411.78 L2159.07 1415.09 L2134.45 1415.09 L2134.45 1411.78 L2159.07 1411.78 Z\" fill=\"#000000\" fill-rule=\"evenodd\" fill-opacity=\"1\" /><path clip-path=\"url(#clip480)\" d=\"M2163.73 1369.35 L2182.08 1369.35 L2182.08 1373.29 L2168.01 1373.29 L2168.01 1381.76 Q2169.03 1381.41 2170.05 1381.25 Q2171.07 1381.07 2172.08 1381.07 Q2177.87 1381.07 2181.25 1384.24 Q2184.63 1387.41 2184.63 1392.83 Q2184.63 1398.41 2181.16 1401.51 Q2177.69 1404.59 2171.37 1404.59 Q2169.19 1404.59 2166.92 1404.22 Q2164.68 1403.84 2162.27 1403.1 L2162.27 1398.41 Q2164.35 1399.54 2166.57 1400.09 Q2168.8 1400.65 2171.27 1400.65 Q2175.28 1400.65 2177.62 1398.54 Q2179.95 1396.44 2179.95 1392.83 Q2179.95 1389.22 2177.62 1387.11 Q2175.28 1385 2171.27 1385 Q2169.4 1385 2167.52 1385.42 Q2165.67 1385.84 2163.73 1386.72 L2163.73 1369.35 Z\" fill=\"#000000\" fill-rule=\"evenodd\" fill-opacity=\"1\" /><path clip-path=\"url(#clip480)\" d=\"M2212.94 1411.78 L2212.94 1415.09 L2188.31 1415.09 L2188.31 1411.78 L2212.94 1411.78 Z\" fill=\"#000000\" fill-rule=\"evenodd\" fill-opacity=\"1\" /><path clip-path=\"url(#clip480)\" d=\"M2230.07 1367.9 L2230.07 1371.44 L2226 1371.44 Q2223.7 1371.44 2222.8 1372.36 Q2221.92 1373.29 2221.92 1375.7 L2221.92 1377.99 L2228.94 1377.99 L2228.94 1381.3 L2221.92 1381.3 L2221.92 1403.91 L2217.64 1403.91 L2217.64 1381.3 L2213.57 1381.3 L2213.57 1377.99 L2217.64 1377.99 L2217.64 1376.18 Q2217.64 1371.85 2219.65 1369.89 Q2221.67 1367.9 2226.04 1367.9 L2230.07 1367.9 Z\" fill=\"#000000\" fill-rule=\"evenodd\" fill-opacity=\"1\" /></svg>\n"
      ]
     },
     "metadata": {},
     "output_type": "display_data"
    }
   ],
   "source": [
    "k_5_ex = Symbolics.simplify(my_sqrt(v,(1.,5)))\n",
    "k_5_exp = Symbolics.build_function(k_5_ex,v)\n",
    "k_5_f = eval(k_5_exp)\n",
    "\n",
    "plot!(plt, k_5_f, xlims=(0.01, 30), label=\"k_5_f\")\n"
   ]
  }
 ],
 "metadata": {
  "kernelspec": {
   "display_name": "Julia 1.7.2",
   "language": "julia",
   "name": "julia-1.7"
  },
  "language_info": {
   "file_extension": ".jl",
   "mimetype": "application/julia",
   "name": "julia",
   "version": "1.7.2"
  }
 },
 "nbformat": 4,
 "nbformat_minor": 5
}
